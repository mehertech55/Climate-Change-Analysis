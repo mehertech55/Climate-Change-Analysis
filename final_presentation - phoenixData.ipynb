{
 "cells": [
  {
   "cell_type": "markdown",
   "metadata": {},
   "source": [
    "<h1 style=\"color: blue; text-align:center;\">LINEAR REGRESSION - Phoenix</h1>\n",
    "<p>Predicting temperatures according to pollution gases</p>"
   ]
  },
  {
   "cell_type": "markdown",
   "metadata": {},
   "source": [
    "<h3>1. Importing Libraries</h3>"
   ]
  },
  {
   "cell_type": "code",
   "execution_count": 1,
   "metadata": {},
   "outputs": [],
   "source": [
    "import pandas as pd\n",
    "import numpy as np\n",
    "import matplotlib.pyplot as plt\n",
    "%matplotlib inline\n",
    "import seaborn as sns"
   ]
  },
  {
   "cell_type": "markdown",
   "metadata": {},
   "source": [
    "<h3>2. Reading the data</h3>"
   ]
  },
  {
   "cell_type": "code",
   "execution_count": 2,
   "metadata": {},
   "outputs": [
    {
     "data": {
      "text/html": [
       "<div>\n",
       "<style scoped>\n",
       "    .dataframe tbody tr th:only-of-type {\n",
       "        vertical-align: middle;\n",
       "    }\n",
       "\n",
       "    .dataframe tbody tr th {\n",
       "        vertical-align: top;\n",
       "    }\n",
       "\n",
       "    .dataframe thead th {\n",
       "        text-align: right;\n",
       "    }\n",
       "</style>\n",
       "<table border=\"1\" class=\"dataframe\">\n",
       "  <thead>\n",
       "    <tr style=\"text-align: right;\">\n",
       "      <th></th>\n",
       "      <th>Unnamed: 0</th>\n",
       "      <th>NO2</th>\n",
       "      <th>SO2</th>\n",
       "      <th>CO</th>\n",
       "      <th>O3</th>\n",
       "      <th>Temperature</th>\n",
       "    </tr>\n",
       "  </thead>\n",
       "  <tbody>\n",
       "    <tr>\n",
       "      <th>0</th>\n",
       "      <td>2000</td>\n",
       "      <td>29.1213</td>\n",
       "      <td>2.3374</td>\n",
       "      <td>1.0097</td>\n",
       "      <td>0.0217</td>\n",
       "      <td>75.0</td>\n",
       "    </tr>\n",
       "    <tr>\n",
       "      <th>1</th>\n",
       "      <td>2001</td>\n",
       "      <td>28.8365</td>\n",
       "      <td>2.4740</td>\n",
       "      <td>0.8580</td>\n",
       "      <td>0.0200</td>\n",
       "      <td>75.9</td>\n",
       "    </tr>\n",
       "    <tr>\n",
       "      <th>2</th>\n",
       "      <td>2002</td>\n",
       "      <td>29.3263</td>\n",
       "      <td>2.5718</td>\n",
       "      <td>0.7849</td>\n",
       "      <td>0.0207</td>\n",
       "      <td>74.1</td>\n",
       "    </tr>\n",
       "    <tr>\n",
       "      <th>3</th>\n",
       "      <td>2003</td>\n",
       "      <td>29.3263</td>\n",
       "      <td>2.5718</td>\n",
       "      <td>0.7849</td>\n",
       "      <td>0.0207</td>\n",
       "      <td>75.1</td>\n",
       "    </tr>\n",
       "    <tr>\n",
       "      <th>4</th>\n",
       "      <td>2004</td>\n",
       "      <td>24.5730</td>\n",
       "      <td>2.2661</td>\n",
       "      <td>0.5619</td>\n",
       "      <td>0.0220</td>\n",
       "      <td>75.3</td>\n",
       "    </tr>\n",
       "  </tbody>\n",
       "</table>\n",
       "</div>"
      ],
      "text/plain": [
       "   Unnamed: 0      NO2     SO2      CO      O3  Temperature\n",
       "0        2000  29.1213  2.3374  1.0097  0.0217         75.0\n",
       "1        2001  28.8365  2.4740  0.8580  0.0200         75.9\n",
       "2        2002  29.3263  2.5718  0.7849  0.0207         74.1\n",
       "3        2003  29.3263  2.5718  0.7849  0.0207         75.1\n",
       "4        2004  24.5730  2.2661  0.5619  0.0220         75.3"
      ]
     },
     "execution_count": 2,
     "metadata": {},
     "output_type": "execute_result"
    }
   ],
   "source": [
    "data = pd.read_csv(\"data/phoenix_data.csv\")\n",
    "data.head()"
   ]
  },
  {
   "cell_type": "markdown",
   "metadata": {},
   "source": [
    "<h3>3. Analyzing the data</h3>"
   ]
  },
  {
   "cell_type": "code",
   "execution_count": 3,
   "metadata": {},
   "outputs": [
    {
     "data": {
      "text/plain": [
       "(16, 6)"
      ]
     },
     "execution_count": 3,
     "metadata": {},
     "output_type": "execute_result"
    }
   ],
   "source": [
    "data.shape"
   ]
  },
  {
   "cell_type": "code",
   "execution_count": 4,
   "metadata": {},
   "outputs": [
    {
     "data": {
      "text/html": [
       "<div>\n",
       "<style scoped>\n",
       "    .dataframe tbody tr th:only-of-type {\n",
       "        vertical-align: middle;\n",
       "    }\n",
       "\n",
       "    .dataframe tbody tr th {\n",
       "        vertical-align: top;\n",
       "    }\n",
       "\n",
       "    .dataframe thead th {\n",
       "        text-align: right;\n",
       "    }\n",
       "</style>\n",
       "<table border=\"1\" class=\"dataframe\">\n",
       "  <thead>\n",
       "    <tr style=\"text-align: right;\">\n",
       "      <th></th>\n",
       "      <th>Unnamed: 0</th>\n",
       "      <th>NO2</th>\n",
       "      <th>SO2</th>\n",
       "      <th>CO</th>\n",
       "      <th>O3</th>\n",
       "      <th>Temperature</th>\n",
       "    </tr>\n",
       "  </thead>\n",
       "  <tbody>\n",
       "    <tr>\n",
       "      <th>count</th>\n",
       "      <td>16.000000</td>\n",
       "      <td>16.000000</td>\n",
       "      <td>16.000000</td>\n",
       "      <td>16.000000</td>\n",
       "      <td>16.000000</td>\n",
       "      <td>16.000000</td>\n",
       "    </tr>\n",
       "    <tr>\n",
       "      <th>mean</th>\n",
       "      <td>2007.500000</td>\n",
       "      <td>22.471106</td>\n",
       "      <td>1.798575</td>\n",
       "      <td>0.601381</td>\n",
       "      <td>0.024288</td>\n",
       "      <td>75.487500</td>\n",
       "    </tr>\n",
       "    <tr>\n",
       "      <th>std</th>\n",
       "      <td>4.760952</td>\n",
       "      <td>4.645711</td>\n",
       "      <td>0.602895</td>\n",
       "      <td>0.182904</td>\n",
       "      <td>0.002560</td>\n",
       "      <td>0.837357</td>\n",
       "    </tr>\n",
       "    <tr>\n",
       "      <th>min</th>\n",
       "      <td>2000.000000</td>\n",
       "      <td>14.826600</td>\n",
       "      <td>0.825100</td>\n",
       "      <td>0.407600</td>\n",
       "      <td>0.020000</td>\n",
       "      <td>74.100000</td>\n",
       "    </tr>\n",
       "    <tr>\n",
       "      <th>25%</th>\n",
       "      <td>2003.750000</td>\n",
       "      <td>19.289050</td>\n",
       "      <td>1.240050</td>\n",
       "      <td>0.445325</td>\n",
       "      <td>0.021925</td>\n",
       "      <td>74.950000</td>\n",
       "    </tr>\n",
       "    <tr>\n",
       "      <th>50%</th>\n",
       "      <td>2007.500000</td>\n",
       "      <td>21.645350</td>\n",
       "      <td>1.873400</td>\n",
       "      <td>0.545050</td>\n",
       "      <td>0.025050</td>\n",
       "      <td>75.500000</td>\n",
       "    </tr>\n",
       "    <tr>\n",
       "      <th>75%</th>\n",
       "      <td>2011.250000</td>\n",
       "      <td>25.638875</td>\n",
       "      <td>2.349700</td>\n",
       "      <td>0.730750</td>\n",
       "      <td>0.025925</td>\n",
       "      <td>75.950000</td>\n",
       "    </tr>\n",
       "    <tr>\n",
       "      <th>max</th>\n",
       "      <td>2015.000000</td>\n",
       "      <td>29.326300</td>\n",
       "      <td>2.571800</td>\n",
       "      <td>1.009700</td>\n",
       "      <td>0.028100</td>\n",
       "      <td>77.400000</td>\n",
       "    </tr>\n",
       "  </tbody>\n",
       "</table>\n",
       "</div>"
      ],
      "text/plain": [
       "        Unnamed: 0        NO2        SO2         CO         O3  Temperature\n",
       "count    16.000000  16.000000  16.000000  16.000000  16.000000    16.000000\n",
       "mean   2007.500000  22.471106   1.798575   0.601381   0.024288    75.487500\n",
       "std       4.760952   4.645711   0.602895   0.182904   0.002560     0.837357\n",
       "min    2000.000000  14.826600   0.825100   0.407600   0.020000    74.100000\n",
       "25%    2003.750000  19.289050   1.240050   0.445325   0.021925    74.950000\n",
       "50%    2007.500000  21.645350   1.873400   0.545050   0.025050    75.500000\n",
       "75%    2011.250000  25.638875   2.349700   0.730750   0.025925    75.950000\n",
       "max    2015.000000  29.326300   2.571800   1.009700   0.028100    77.400000"
      ]
     },
     "execution_count": 4,
     "metadata": {},
     "output_type": "execute_result"
    }
   ],
   "source": [
    "data.describe()"
   ]
  },
  {
   "cell_type": "code",
   "execution_count": 5,
   "metadata": {},
   "outputs": [
    {
     "name": "stdout",
     "output_type": "stream",
     "text": [
      "<class 'pandas.core.frame.DataFrame'>\n",
      "RangeIndex: 16 entries, 0 to 15\n",
      "Data columns (total 6 columns):\n",
      " #   Column       Non-Null Count  Dtype  \n",
      "---  ------       --------------  -----  \n",
      " 0   Unnamed: 0   16 non-null     int64  \n",
      " 1   NO2          16 non-null     float64\n",
      " 2   SO2          16 non-null     float64\n",
      " 3   CO           16 non-null     float64\n",
      " 4   O3           16 non-null     float64\n",
      " 5   Temperature  16 non-null     float64\n",
      "dtypes: float64(5), int64(1)\n",
      "memory usage: 896.0 bytes\n"
     ]
    }
   ],
   "source": [
    "data.info()"
   ]
  },
  {
   "cell_type": "code",
   "execution_count": 6,
   "metadata": {},
   "outputs": [
    {
     "data": {
      "text/plain": [
       "Unnamed: 0     0\n",
       "NO2            0\n",
       "SO2            0\n",
       "CO             0\n",
       "O3             0\n",
       "Temperature    0\n",
       "dtype: int64"
      ]
     },
     "execution_count": 6,
     "metadata": {},
     "output_type": "execute_result"
    }
   ],
   "source": [
    "data.isna().sum()"
   ]
  },
  {
   "cell_type": "markdown",
   "metadata": {},
   "source": [
    "<h3>4. Cleaning the data</h3>"
   ]
  },
  {
   "cell_type": "code",
   "execution_count": 7,
   "metadata": {},
   "outputs": [
    {
     "data": {
      "text/html": [
       "<div>\n",
       "<style scoped>\n",
       "    .dataframe tbody tr th:only-of-type {\n",
       "        vertical-align: middle;\n",
       "    }\n",
       "\n",
       "    .dataframe tbody tr th {\n",
       "        vertical-align: top;\n",
       "    }\n",
       "\n",
       "    .dataframe thead th {\n",
       "        text-align: right;\n",
       "    }\n",
       "</style>\n",
       "<table border=\"1\" class=\"dataframe\">\n",
       "  <thead>\n",
       "    <tr style=\"text-align: right;\">\n",
       "      <th></th>\n",
       "      <th>NO2</th>\n",
       "      <th>SO2</th>\n",
       "      <th>CO</th>\n",
       "      <th>O3</th>\n",
       "      <th>Temperature</th>\n",
       "    </tr>\n",
       "  </thead>\n",
       "  <tbody>\n",
       "    <tr>\n",
       "      <th>2000</th>\n",
       "      <td>29.1213</td>\n",
       "      <td>2.3374</td>\n",
       "      <td>1.0097</td>\n",
       "      <td>0.0217</td>\n",
       "      <td>75.0</td>\n",
       "    </tr>\n",
       "    <tr>\n",
       "      <th>2001</th>\n",
       "      <td>28.8365</td>\n",
       "      <td>2.4740</td>\n",
       "      <td>0.8580</td>\n",
       "      <td>0.0200</td>\n",
       "      <td>75.9</td>\n",
       "    </tr>\n",
       "    <tr>\n",
       "      <th>2002</th>\n",
       "      <td>29.3263</td>\n",
       "      <td>2.5718</td>\n",
       "      <td>0.7849</td>\n",
       "      <td>0.0207</td>\n",
       "      <td>74.1</td>\n",
       "    </tr>\n",
       "    <tr>\n",
       "      <th>2003</th>\n",
       "      <td>29.3263</td>\n",
       "      <td>2.5718</td>\n",
       "      <td>0.7849</td>\n",
       "      <td>0.0207</td>\n",
       "      <td>75.1</td>\n",
       "    </tr>\n",
       "    <tr>\n",
       "      <th>2004</th>\n",
       "      <td>24.5730</td>\n",
       "      <td>2.2661</td>\n",
       "      <td>0.5619</td>\n",
       "      <td>0.0220</td>\n",
       "      <td>75.3</td>\n",
       "    </tr>\n",
       "    <tr>\n",
       "      <th>2005</th>\n",
       "      <td>23.9535</td>\n",
       "      <td>2.3866</td>\n",
       "      <td>0.7127</td>\n",
       "      <td>0.0242</td>\n",
       "      <td>75.5</td>\n",
       "    </tr>\n",
       "    <tr>\n",
       "      <th>2006</th>\n",
       "      <td>22.4053</td>\n",
       "      <td>2.0039</td>\n",
       "      <td>0.6441</td>\n",
       "      <td>0.0257</td>\n",
       "      <td>75.5</td>\n",
       "    </tr>\n",
       "    <tr>\n",
       "      <th>2007</th>\n",
       "      <td>22.3958</td>\n",
       "      <td>1.8212</td>\n",
       "      <td>0.6205</td>\n",
       "      <td>0.0236</td>\n",
       "      <td>75.8</td>\n",
       "    </tr>\n",
       "    <tr>\n",
       "      <th>2008</th>\n",
       "      <td>20.8949</td>\n",
       "      <td>1.9256</td>\n",
       "      <td>0.5282</td>\n",
       "      <td>0.0254</td>\n",
       "      <td>74.8</td>\n",
       "    </tr>\n",
       "    <tr>\n",
       "      <th>2009</th>\n",
       "      <td>19.6189</td>\n",
       "      <td>1.6244</td>\n",
       "      <td>0.5155</td>\n",
       "      <td>0.0250</td>\n",
       "      <td>75.8</td>\n",
       "    </tr>\n",
       "    <tr>\n",
       "      <th>2010</th>\n",
       "      <td>18.2995</td>\n",
       "      <td>1.3855</td>\n",
       "      <td>0.4334</td>\n",
       "      <td>0.0257</td>\n",
       "      <td>74.2</td>\n",
       "    </tr>\n",
       "    <tr>\n",
       "      <th>2011</th>\n",
       "      <td>19.8912</td>\n",
       "      <td>1.1180</td>\n",
       "      <td>0.4493</td>\n",
       "      <td>0.0251</td>\n",
       "      <td>74.8</td>\n",
       "    </tr>\n",
       "    <tr>\n",
       "      <th>2012</th>\n",
       "      <td>19.9431</td>\n",
       "      <td>1.2513</td>\n",
       "      <td>0.4076</td>\n",
       "      <td>0.0266</td>\n",
       "      <td>76.2</td>\n",
       "    </tr>\n",
       "    <tr>\n",
       "      <th>2013</th>\n",
       "      <td>18.1303</td>\n",
       "      <td>1.0082</td>\n",
       "      <td>0.4076</td>\n",
       "      <td>0.0274</td>\n",
       "      <td>76.1</td>\n",
       "    </tr>\n",
       "    <tr>\n",
       "      <th>2014</th>\n",
       "      <td>17.9952</td>\n",
       "      <td>1.2063</td>\n",
       "      <td>0.4824</td>\n",
       "      <td>0.0267</td>\n",
       "      <td>77.4</td>\n",
       "    </tr>\n",
       "    <tr>\n",
       "      <th>2015</th>\n",
       "      <td>14.8266</td>\n",
       "      <td>0.8251</td>\n",
       "      <td>0.4214</td>\n",
       "      <td>0.0281</td>\n",
       "      <td>76.3</td>\n",
       "    </tr>\n",
       "  </tbody>\n",
       "</table>\n",
       "</div>"
      ],
      "text/plain": [
       "          NO2     SO2      CO      O3  Temperature\n",
       "2000  29.1213  2.3374  1.0097  0.0217         75.0\n",
       "2001  28.8365  2.4740  0.8580  0.0200         75.9\n",
       "2002  29.3263  2.5718  0.7849  0.0207         74.1\n",
       "2003  29.3263  2.5718  0.7849  0.0207         75.1\n",
       "2004  24.5730  2.2661  0.5619  0.0220         75.3\n",
       "2005  23.9535  2.3866  0.7127  0.0242         75.5\n",
       "2006  22.4053  2.0039  0.6441  0.0257         75.5\n",
       "2007  22.3958  1.8212  0.6205  0.0236         75.8\n",
       "2008  20.8949  1.9256  0.5282  0.0254         74.8\n",
       "2009  19.6189  1.6244  0.5155  0.0250         75.8\n",
       "2010  18.2995  1.3855  0.4334  0.0257         74.2\n",
       "2011  19.8912  1.1180  0.4493  0.0251         74.8\n",
       "2012  19.9431  1.2513  0.4076  0.0266         76.2\n",
       "2013  18.1303  1.0082  0.4076  0.0274         76.1\n",
       "2014  17.9952  1.2063  0.4824  0.0267         77.4\n",
       "2015  14.8266  0.8251  0.4214  0.0281         76.3"
      ]
     },
     "execution_count": 7,
     "metadata": {},
     "output_type": "execute_result"
    }
   ],
   "source": [
    "data = data.set_index(\"Unnamed: 0\")\n",
    "data.index.name = None\n",
    "data"
   ]
  },
  {
   "cell_type": "code",
   "execution_count": 8,
   "metadata": {},
   "outputs": [
    {
     "data": {
      "text/html": [
       "<div>\n",
       "<style scoped>\n",
       "    .dataframe tbody tr th:only-of-type {\n",
       "        vertical-align: middle;\n",
       "    }\n",
       "\n",
       "    .dataframe tbody tr th {\n",
       "        vertical-align: top;\n",
       "    }\n",
       "\n",
       "    .dataframe thead th {\n",
       "        text-align: right;\n",
       "    }\n",
       "</style>\n",
       "<table border=\"1\" class=\"dataframe\">\n",
       "  <thead>\n",
       "    <tr style=\"text-align: right;\">\n",
       "      <th></th>\n",
       "      <th>NO2</th>\n",
       "      <th>SO2</th>\n",
       "      <th>CO</th>\n",
       "      <th>O3</th>\n",
       "      <th>Temperature</th>\n",
       "    </tr>\n",
       "  </thead>\n",
       "  <tbody>\n",
       "    <tr>\n",
       "      <th>NO2</th>\n",
       "      <td>1.000000</td>\n",
       "      <td>0.928415</td>\n",
       "      <td>0.912903</td>\n",
       "      <td>-0.951405</td>\n",
       "      <td>-0.429781</td>\n",
       "    </tr>\n",
       "    <tr>\n",
       "      <th>SO2</th>\n",
       "      <td>0.928415</td>\n",
       "      <td>1.000000</td>\n",
       "      <td>0.856543</td>\n",
       "      <td>-0.892745</td>\n",
       "      <td>-0.444625</td>\n",
       "    </tr>\n",
       "    <tr>\n",
       "      <th>CO</th>\n",
       "      <td>0.912903</td>\n",
       "      <td>0.856543</td>\n",
       "      <td>1.000000</td>\n",
       "      <td>-0.836233</td>\n",
       "      <td>-0.300297</td>\n",
       "    </tr>\n",
       "    <tr>\n",
       "      <th>O3</th>\n",
       "      <td>-0.951405</td>\n",
       "      <td>-0.892745</td>\n",
       "      <td>-0.836233</td>\n",
       "      <td>1.000000</td>\n",
       "      <td>0.448973</td>\n",
       "    </tr>\n",
       "    <tr>\n",
       "      <th>Temperature</th>\n",
       "      <td>-0.429781</td>\n",
       "      <td>-0.444625</td>\n",
       "      <td>-0.300297</td>\n",
       "      <td>0.448973</td>\n",
       "      <td>1.000000</td>\n",
       "    </tr>\n",
       "  </tbody>\n",
       "</table>\n",
       "</div>"
      ],
      "text/plain": [
       "                  NO2       SO2        CO        O3  Temperature\n",
       "NO2          1.000000  0.928415  0.912903 -0.951405    -0.429781\n",
       "SO2          0.928415  1.000000  0.856543 -0.892745    -0.444625\n",
       "CO           0.912903  0.856543  1.000000 -0.836233    -0.300297\n",
       "O3          -0.951405 -0.892745 -0.836233  1.000000     0.448973\n",
       "Temperature -0.429781 -0.444625 -0.300297  0.448973     1.000000"
      ]
     },
     "execution_count": 8,
     "metadata": {},
     "output_type": "execute_result"
    }
   ],
   "source": [
    "data.corr()"
   ]
  },
  {
   "cell_type": "markdown",
   "metadata": {},
   "source": [
    "<h3>5. Checking relation between data</h3>"
   ]
  },
  {
   "cell_type": "code",
   "execution_count": 9,
   "metadata": {},
   "outputs": [
    {
     "data": {
      "text/plain": [
       "<matplotlib.axes._subplots.AxesSubplot at 0x27df378cbb0>"
      ]
     },
     "execution_count": 9,
     "metadata": {},
     "output_type": "execute_result"
    },
    {
     "data": {
      "image/png": "[encoded data removed]",
      "text/plain": [
       "<Figure size 432x288 with 2 Axes>"
      ]
     },
     "metadata": {
      "needs_background": "light"
     },
     "output_type": "display_data"
    }
   ],
   "source": [
    "sns.heatmap(data.corr())"
   ]
  },
  {
   "cell_type": "code",
   "execution_count": 10,
   "metadata": {},
   "outputs": [
    {
     "data": {
      "image/png": "[encoded data removed]",
      "text/plain": [
       "<Figure size 864x576 with 6 Axes>"
      ]
     },
     "metadata": {
      "needs_background": "light"
     },
     "output_type": "display_data"
    }
   ],
   "source": [
    "data[['NO2','SO2','CO','O3', 'Temperature']].hist(figsize=(12, 8))\n",
    "plt.show()"
   ]
  },
  {
   "cell_type": "code",
   "execution_count": 11,
   "metadata": {},
   "outputs": [
    {
     "data": {
      "image/png": "[encoded data removed]",
      "text/plain": [
       "<Figure size 864x1008 with 4 Axes>"
      ]
     },
     "metadata": {
      "needs_background": "light"
     },
     "output_type": "display_data"
    }
   ],
   "source": [
    "fig, axs = plt.subplots(4, figsize=(12,14))\n",
    "\n",
    "axs[0].scatter(data['Temperature'], data['NO2'])\n",
    "axs[0].set_title(\"Relation: Temperature X NO2\")\n",
    "axs[0].set_xlabel(\"Temperature\")\n",
    "axs[0].set_ylabel(\"NO2\")\n",
    "\n",
    "axs[1].scatter(data['Temperature'], data['SO2'])\n",
    "axs[1].set_title(\"Relation: Temperature X SO2\")\n",
    "axs[1].set_xlabel(\"Temperature\")\n",
    "axs[1].set_ylabel(\"SO2\")\n",
    "\n",
    "axs[2].scatter(data['Temperature'], data['CO'])\n",
    "axs[2].set_title(\"Relation: Temperature X CO\")\n",
    "axs[2].set_xlabel(\"Temperature\")\n",
    "axs[2].set_ylabel(\"CO\")\n",
    "\n",
    "axs[3].scatter(data['Temperature'], data['O3'])\n",
    "axs[3].set_title(\"Relation: Temperature X O3\")\n",
    "axs[3].set_xlabel(\"Temperature\")\n",
    "axs[3].set_ylabel(\"O3\")\n",
    "\n",
    "plt.show()"
   ]
  },
  {
   "cell_type": "markdown",
   "metadata": {},
   "source": [
    "<h3>6. Splitting the data</h3>"
   ]
  },
  {
   "cell_type": "code",
   "execution_count": 12,
   "metadata": {},
   "outputs": [
    {
     "data": {
      "text/plain": [
       "array([[2.91213e+01, 1.00970e+00, 2.33740e+00, 2.17000e-02],\n",
       "       [2.88365e+01, 8.58000e-01, 2.47400e+00, 2.00000e-02],\n",
       "       [2.93263e+01, 7.84900e-01, 2.57180e+00, 2.07000e-02],\n",
       "       [2.93263e+01, 7.84900e-01, 2.57180e+00, 2.07000e-02],\n",
       "       [2.45730e+01, 5.61900e-01, 2.26610e+00, 2.20000e-02],\n",
       "       [2.39535e+01, 7.12700e-01, 2.38660e+00, 2.42000e-02],\n",
       "       [2.24053e+01, 6.44100e-01, 2.00390e+00, 2.57000e-02],\n",
       "       [2.23958e+01, 6.20500e-01, 1.82120e+00, 2.36000e-02],\n",
       "       [2.08949e+01, 5.28200e-01, 1.92560e+00, 2.54000e-02],\n",
       "       [1.96189e+01, 5.15500e-01, 1.62440e+00, 2.50000e-02],\n",
       "       [1.82995e+01, 4.33400e-01, 1.38550e+00, 2.57000e-02],\n",
       "       [1.98912e+01, 4.49300e-01, 1.11800e+00, 2.51000e-02],\n",
       "       [1.99431e+01, 4.07600e-01, 1.25130e+00, 2.66000e-02],\n",
       "       [1.81303e+01, 4.07600e-01, 1.00820e+00, 2.74000e-02],\n",
       "       [1.79952e+01, 4.82400e-01, 1.20630e+00, 2.67000e-02],\n",
       "       [1.48266e+01, 4.21400e-01, 8.25100e-01, 2.81000e-02]])"
      ]
     },
     "execution_count": 12,
     "metadata": {},
     "output_type": "execute_result"
    }
   ],
   "source": [
    "X = data[['NO2', 'CO', 'SO2', 'O3']].values\n",
    "X"
   ]
  },
  {
   "cell_type": "code",
   "execution_count": 13,
   "metadata": {},
   "outputs": [
    {
     "data": {
      "text/plain": [
       "array([75. , 75.9, 74.1, 75.1, 75.3, 75.5, 75.5, 75.8, 74.8, 75.8, 74.2,\n",
       "       74.8, 76.2, 76.1, 77.4, 76.3])"
      ]
     },
     "execution_count": 13,
     "metadata": {},
     "output_type": "execute_result"
    }
   ],
   "source": [
    "y = data['Temperature'].values\n",
    "y"
   ]
  },
  {
   "cell_type": "code",
   "execution_count": 14,
   "metadata": {},
   "outputs": [],
   "source": [
    "# Split the dataset using Scikit learn\n",
    "\n",
    "from sklearn.model_selection import train_test_split\n",
    "\n",
    "X_train, X_test, y_train, y_test= train_test_split(X, y, test_size=.20, random_state=15)"
   ]
  },
  {
   "cell_type": "code",
   "execution_count": 15,
   "metadata": {},
   "outputs": [
    {
     "name": "stdout",
     "output_type": "stream",
     "text": [
      "(12, 4)\n",
      "(4, 4)\n",
      "(12,)\n",
      "(4,)\n"
     ]
    }
   ],
   "source": [
    "print(X_train.shape)\n",
    "print(X_test.shape)\n",
    "print(y_train.shape)\n",
    "print(y_test.shape)"
   ]
  },
  {
   "cell_type": "markdown",
   "metadata": {},
   "source": [
    "<h3>7. Creating the Model</h3>"
   ]
  },
  {
   "cell_type": "code",
   "execution_count": 16,
   "metadata": {},
   "outputs": [
    {
     "data": {
      "text/plain": [
       "LinearRegression(copy_X=True, fit_intercept=True, n_jobs=None, normalize=False)"
      ]
     },
     "execution_count": 16,
     "metadata": {},
     "output_type": "execute_result"
    }
   ],
   "source": [
    "# Building your model using any of the algorithms, using Scikit learn library\n",
    "\n",
    "from sklearn.linear_model import LinearRegression\n",
    "\n",
    "model = LinearRegression()\n",
    "model.fit(X_train, y_train)"
   ]
  },
  {
   "cell_type": "markdown",
   "metadata": {},
   "source": [
    "<h3>8. Making Prediction</h3>"
   ]
  },
  {
   "cell_type": "code",
   "execution_count": 17,
   "metadata": {
    "scrolled": true
   },
   "outputs": [
    {
     "data": {
      "text/plain": [
       "array([75.48838491, 75.01661559, 76.21917856, 75.65221906, 75.99783389,\n",
       "       75.66829056, 75.8113798 , 75.37224422, 75.91688421, 75.71544724,\n",
       "       75.31480087, 75.32672109])"
      ]
     },
     "execution_count": 17,
     "metadata": {},
     "output_type": "execute_result"
    }
   ],
   "source": [
    "# Predict/Classify the model for test and training data sets\n",
    "\n",
    "y_pred = model.predict(X_train)   \n",
    "y_pred"
   ]
  },
  {
   "cell_type": "code",
   "execution_count": 18,
   "metadata": {},
   "outputs": [
    {
     "data": {
      "text/plain": [
       "array([74.65467557, 75.42785752, 74.88285371, 74.88285371])"
      ]
     },
     "execution_count": 18,
     "metadata": {},
     "output_type": "execute_result"
    }
   ],
   "source": [
    "y_pred_test = model.predict(X_test)   \n",
    "y_pred_test"
   ]
  },
  {
   "cell_type": "code",
   "execution_count": 19,
   "metadata": {
    "scrolled": false
   },
   "outputs": [
    {
     "data": {
      "text/html": [
       "<div>\n",
       "<style scoped>\n",
       "    .dataframe tbody tr th:only-of-type {\n",
       "        vertical-align: middle;\n",
       "    }\n",
       "\n",
       "    .dataframe tbody tr th {\n",
       "        vertical-align: top;\n",
       "    }\n",
       "\n",
       "    .dataframe thead th {\n",
       "        text-align: right;\n",
       "    }\n",
       "</style>\n",
       "<table border=\"1\" class=\"dataframe\">\n",
       "  <thead>\n",
       "    <tr style=\"text-align: right;\">\n",
       "      <th></th>\n",
       "      <th>ACTUAL</th>\n",
       "      <th>PREDICTED</th>\n",
       "    </tr>\n",
       "  </thead>\n",
       "  <tbody>\n",
       "    <tr>\n",
       "      <th>0</th>\n",
       "      <td>74.2</td>\n",
       "      <td>75.5</td>\n",
       "    </tr>\n",
       "    <tr>\n",
       "      <th>1</th>\n",
       "      <td>75.9</td>\n",
       "      <td>75.0</td>\n",
       "    </tr>\n",
       "    <tr>\n",
       "      <th>2</th>\n",
       "      <td>76.3</td>\n",
       "      <td>76.2</td>\n",
       "    </tr>\n",
       "    <tr>\n",
       "      <th>3</th>\n",
       "      <td>75.5</td>\n",
       "      <td>75.7</td>\n",
       "    </tr>\n",
       "    <tr>\n",
       "      <th>4</th>\n",
       "      <td>76.1</td>\n",
       "      <td>76.0</td>\n",
       "    </tr>\n",
       "    <tr>\n",
       "      <th>5</th>\n",
       "      <td>74.8</td>\n",
       "      <td>75.7</td>\n",
       "    </tr>\n",
       "    <tr>\n",
       "      <th>6</th>\n",
       "      <td>75.0</td>\n",
       "      <td>75.8</td>\n",
       "    </tr>\n",
       "    <tr>\n",
       "      <th>7</th>\n",
       "      <td>75.8</td>\n",
       "      <td>75.4</td>\n",
       "    </tr>\n",
       "    <tr>\n",
       "      <th>8</th>\n",
       "      <td>77.4</td>\n",
       "      <td>75.9</td>\n",
       "    </tr>\n",
       "    <tr>\n",
       "      <th>9</th>\n",
       "      <td>76.2</td>\n",
       "      <td>75.7</td>\n",
       "    </tr>\n",
       "    <tr>\n",
       "      <th>10</th>\n",
       "      <td>75.5</td>\n",
       "      <td>75.3</td>\n",
       "    </tr>\n",
       "    <tr>\n",
       "      <th>11</th>\n",
       "      <td>74.8</td>\n",
       "      <td>75.3</td>\n",
       "    </tr>\n",
       "  </tbody>\n",
       "</table>\n",
       "</div>"
      ],
      "text/plain": [
       "    ACTUAL  PREDICTED\n",
       "0     74.2       75.5\n",
       "1     75.9       75.0\n",
       "2     76.3       76.2\n",
       "3     75.5       75.7\n",
       "4     76.1       76.0\n",
       "5     74.8       75.7\n",
       "6     75.0       75.8\n",
       "7     75.8       75.4\n",
       "8     77.4       75.9\n",
       "9     76.2       75.7\n",
       "10    75.5       75.3\n",
       "11    74.8       75.3"
      ]
     },
     "execution_count": 19,
     "metadata": {},
     "output_type": "execute_result"
    }
   ],
   "source": [
    "# Evaluate the model. Compare train and test and evaluate model.\n",
    "\n",
    "data_predicted = pd.DataFrame({'ACTUAL': y_train, 'PREDICTED': np.around(y_pred, decimals=1)})\n",
    "data_predicted"
   ]
  },
  {
   "cell_type": "code",
   "execution_count": 20,
   "metadata": {},
   "outputs": [
    {
     "data": {
      "text/html": [
       "<div>\n",
       "<style scoped>\n",
       "    .dataframe tbody tr th:only-of-type {\n",
       "        vertical-align: middle;\n",
       "    }\n",
       "\n",
       "    .dataframe tbody tr th {\n",
       "        vertical-align: top;\n",
       "    }\n",
       "\n",
       "    .dataframe thead th {\n",
       "        text-align: right;\n",
       "    }\n",
       "</style>\n",
       "<table border=\"1\" class=\"dataframe\">\n",
       "  <thead>\n",
       "    <tr style=\"text-align: right;\">\n",
       "      <th></th>\n",
       "      <th>ACTUAL</th>\n",
       "      <th>PREDICTED</th>\n",
       "    </tr>\n",
       "  </thead>\n",
       "  <tbody>\n",
       "    <tr>\n",
       "      <th>0</th>\n",
       "      <td>75.3</td>\n",
       "      <td>74.7</td>\n",
       "    </tr>\n",
       "    <tr>\n",
       "      <th>1</th>\n",
       "      <td>75.8</td>\n",
       "      <td>75.4</td>\n",
       "    </tr>\n",
       "    <tr>\n",
       "      <th>2</th>\n",
       "      <td>75.1</td>\n",
       "      <td>74.9</td>\n",
       "    </tr>\n",
       "    <tr>\n",
       "      <th>3</th>\n",
       "      <td>74.1</td>\n",
       "      <td>74.9</td>\n",
       "    </tr>\n",
       "  </tbody>\n",
       "</table>\n",
       "</div>"
      ],
      "text/plain": [
       "   ACTUAL  PREDICTED\n",
       "0    75.3       74.7\n",
       "1    75.8       75.4\n",
       "2    75.1       74.9\n",
       "3    74.1       74.9"
      ]
     },
     "execution_count": 20,
     "metadata": {},
     "output_type": "execute_result"
    }
   ],
   "source": [
    "data_predicted_test = pd.DataFrame({'ACTUAL': y_test, 'PREDICTED': np.around(y_pred_test, decimals=1)})\n",
    "data_predicted_test"
   ]
  },
  {
   "cell_type": "markdown",
   "metadata": {},
   "source": [
    "<h3>9. Showing Results</h3>"
   ]
  },
  {
   "cell_type": "code",
   "execution_count": 21,
   "metadata": {},
   "outputs": [
    {
     "data": {
      "text/plain": [
       "0.15597368526741218"
      ]
     },
     "execution_count": 21,
     "metadata": {},
     "output_type": "execute_result"
    }
   ],
   "source": [
    "# Provide comparative results, like Accuracy, Score. \n",
    "\n",
    "model.score(X_train, y_train)"
   ]
  },
  {
   "cell_type": "code",
   "execution_count": 22,
   "metadata": {},
   "outputs": [
    {
     "data": {
      "text/plain": [
       "0.20461793929059094"
      ]
     },
     "execution_count": 22,
     "metadata": {},
     "output_type": "execute_result"
    }
   ],
   "source": [
    "model.score(X_test, y_test)"
   ]
  },
  {
   "cell_type": "code",
   "execution_count": 23,
   "metadata": {},
   "outputs": [],
   "source": [
    "y_train_round = np.around(y_train, 0)\n",
    "y_pred_round = np.around(y_pred, 0)"
   ]
  },
  {
   "cell_type": "code",
   "execution_count": 24,
   "metadata": {},
   "outputs": [
    {
     "data": {
      "text/plain": [
       "0.4166666666666667"
      ]
     },
     "execution_count": 24,
     "metadata": {},
     "output_type": "execute_result"
    }
   ],
   "source": [
    "from sklearn.metrics import accuracy_score\n",
    "\n",
    "accuracy_score(y_train_round, y_pred_round)"
   ]
  },
  {
   "cell_type": "code",
   "execution_count": 25,
   "metadata": {},
   "outputs": [
    {
     "data": {
      "text/plain": [
       "array([ -4.3651307 ,  -1.60652245, -47.55769551,  -5.09468932,\n",
       "        -1.66795036])"
      ]
     },
     "execution_count": 25,
     "metadata": {},
     "output_type": "execute_result"
    }
   ],
   "source": [
    "from sklearn.model_selection import cross_val_score\n",
    "\n",
    "scores_train = cross_val_score(model, X_train, y_train)\n",
    "scores_train"
   ]
  },
  {
   "cell_type": "code",
   "execution_count": 26,
   "metadata": {},
   "outputs": [
    {
     "data": {
      "text/plain": [
       "[('NO2', 0.02256982868991369),\n",
       " ('CO', 2.5905363675576623),\n",
       " ('SO2', -0.7675599371912478),\n",
       " ('O3', 170.88427317107414)]"
      ]
     },
     "execution_count": 26,
     "metadata": {},
     "output_type": "execute_result"
    }
   ],
   "source": [
    "list(zip(['NO2', 'CO', 'SO2', 'O3'], model.coef_))"
   ]
  },
  {
   "cell_type": "code",
   "execution_count": 27,
   "metadata": {},
   "outputs": [
    {
     "data": {
      "text/plain": [
       "70.6243583441717"
      ]
     },
     "execution_count": 27,
     "metadata": {},
     "output_type": "execute_result"
    }
   ],
   "source": [
    "model.intercept_"
   ]
  },
  {
   "cell_type": "code",
   "execution_count": 28,
   "metadata": {},
   "outputs": [
    {
     "data": {
      "text/plain": [
       "0.15597368526741218"
      ]
     },
     "execution_count": 28,
     "metadata": {},
     "output_type": "execute_result"
    }
   ],
   "source": [
    "# Use the Scikit Learn to call functions r2_score, Mean Squared Error for train and testdata set.\n",
    "\n",
    "from sklearn.metrics import r2_score\n",
    "\n",
    "r2_score(y_train, y_pred)"
   ]
  },
  {
   "cell_type": "code",
   "execution_count": 29,
   "metadata": {},
   "outputs": [
    {
     "data": {
      "text/plain": [
       "0.568486890735513"
      ]
     },
     "execution_count": 29,
     "metadata": {},
     "output_type": "execute_result"
    }
   ],
   "source": [
    "from sklearn.metrics import mean_squared_error\n",
    "\n",
    "mean_squared_error(y_pred, y_train)"
   ]
  },
  {
   "cell_type": "code",
   "execution_count": 30,
   "metadata": {},
   "outputs": [
    {
     "data": {
      "text/plain": [
       "array([[0, 1, 0, 0],\n",
       "       [0, 1, 2, 0],\n",
       "       [0, 3, 4, 0],\n",
       "       [0, 0, 1, 0]], dtype=int64)"
      ]
     },
     "execution_count": 30,
     "metadata": {},
     "output_type": "execute_result"
    }
   ],
   "source": [
    "# Design and explain your Confusion matrix. Also infer if your model is overfitting or underfitting.\n",
    "\n",
    "from sklearn.metrics import confusion_matrix\n",
    "\n",
    "confusion_matrix(y_train_round, y_pred_round)"
   ]
  },
  {
   "cell_type": "code",
   "execution_count": 33,
   "metadata": {},
   "outputs": [
    {
     "name": "stdout",
     "output_type": "stream",
     "text": [
      "              precision    recall  f1-score   support\n",
      "\n",
      "        74.0       0.00      0.00      0.00         1\n",
      "        75.0       0.20      0.33      0.25         3\n",
      "        76.0       0.57      0.57      0.57         7\n",
      "        77.0       0.00      0.00      0.00         1\n",
      "\n",
      "    accuracy                           0.42        12\n",
      "   macro avg       0.19      0.23      0.21        12\n",
      "weighted avg       0.38      0.42      0.40        12\n",
      "\n"
     ]
    }
   ],
   "source": [
    "from sklearn.metrics import classification_report\n",
    "\n",
    "print(classification_report(y_train_round, y_pred_round))"
   ]
  },
  {
   "cell_type": "code",
   "execution_count": null,
   "metadata": {},
   "outputs": [],
   "source": []
  }
 ],
 "metadata": {
  "kernelspec": {
   "display_name": "Python 3.8.1 64-bit",
   "language": "python",
   "name": "python38164bita1828b5594684926a6374e23c22bc525"
  },
  "language_info": {
   "codemirror_mode": {
    "name": "ipython",
    "version": 3
   },
   "file_extension": ".py",
   "mimetype": "text/x-python",
   "name": "python",
   "nbconvert_exporter": "python",
   "pygments_lexer": "ipython3",
   "version": "3.8.1"
  }
 },
 "nbformat": 4,
 "nbformat_minor": 4
}
