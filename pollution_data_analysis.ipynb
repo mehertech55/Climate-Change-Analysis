{
 "cells": [
  {
   "cell_type": "markdown",
   "metadata": {},
   "source": [
    "<h1>Loading and analyzing data</h1>"
   ]
  },
  {
   "cell_type": "code",
   "execution_count": 1,
   "metadata": {},
   "outputs": [],
   "source": [
    "import pandas as pd\n",
    "import numpy as np"
   ]
  },
  {
   "cell_type": "code",
   "execution_count": 4,
   "metadata": {},
   "outputs": [],
   "source": [
    "data = pd.read_csv('data/pollution_us_2000_2016.csv')"
   ]
  },
  {
   "cell_type": "code",
   "execution_count": 5,
   "metadata": {},
   "outputs": [
    {
     "data": {
      "text/plain": [
       "(1746661, 29)"
      ]
     },
     "execution_count": 5,
     "metadata": {},
     "output_type": "execute_result"
    }
   ],
   "source": [
    "data.shape"
   ]
  },
  {
   "cell_type": "code",
   "execution_count": 6,
   "metadata": {
    "scrolled": false
   },
   "outputs": [
    {
     "data": {
      "text/html": [
       "<div>\n",
       "<style scoped>\n",
       "    .dataframe tbody tr th:only-of-type {\n",
       "        vertical-align: middle;\n",
       "    }\n",
       "\n",
       "    .dataframe tbody tr th {\n",
       "        vertical-align: top;\n",
       "    }\n",
       "\n",
       "    .dataframe thead th {\n",
       "        text-align: right;\n",
       "    }\n",
       "</style>\n",
       "<table border=\"1\" class=\"dataframe\">\n",
       "  <thead>\n",
       "    <tr style=\"text-align: right;\">\n",
       "      <th></th>\n",
       "      <th>Unnamed: 0</th>\n",
       "      <th>State Code</th>\n",
       "      <th>County Code</th>\n",
       "      <th>Site Num</th>\n",
       "      <th>Address</th>\n",
       "      <th>State</th>\n",
       "      <th>County</th>\n",
       "      <th>City</th>\n",
       "      <th>Date Local</th>\n",
       "      <th>NO2 Units</th>\n",
       "      <th>...</th>\n",
       "      <th>SO2 Units</th>\n",
       "      <th>SO2 Mean</th>\n",
       "      <th>SO2 1st Max Value</th>\n",
       "      <th>SO2 1st Max Hour</th>\n",
       "      <th>SO2 AQI</th>\n",
       "      <th>CO Units</th>\n",
       "      <th>CO Mean</th>\n",
       "      <th>CO 1st Max Value</th>\n",
       "      <th>CO 1st Max Hour</th>\n",
       "      <th>CO AQI</th>\n",
       "    </tr>\n",
       "  </thead>\n",
       "  <tbody>\n",
       "    <tr>\n",
       "      <th>0</th>\n",
       "      <td>0</td>\n",
       "      <td>4</td>\n",
       "      <td>13</td>\n",
       "      <td>3002</td>\n",
       "      <td>1645 E ROOSEVELT ST-CENTRAL PHOENIX STN</td>\n",
       "      <td>Arizona</td>\n",
       "      <td>Maricopa</td>\n",
       "      <td>Phoenix</td>\n",
       "      <td>2000-01-01</td>\n",
       "      <td>Parts per billion</td>\n",
       "      <td>...</td>\n",
       "      <td>Parts per billion</td>\n",
       "      <td>3.000000</td>\n",
       "      <td>9.0</td>\n",
       "      <td>21</td>\n",
       "      <td>13.0</td>\n",
       "      <td>Parts per million</td>\n",
       "      <td>1.145833</td>\n",
       "      <td>4.2</td>\n",
       "      <td>21</td>\n",
       "      <td>NaN</td>\n",
       "    </tr>\n",
       "    <tr>\n",
       "      <th>1</th>\n",
       "      <td>1</td>\n",
       "      <td>4</td>\n",
       "      <td>13</td>\n",
       "      <td>3002</td>\n",
       "      <td>1645 E ROOSEVELT ST-CENTRAL PHOENIX STN</td>\n",
       "      <td>Arizona</td>\n",
       "      <td>Maricopa</td>\n",
       "      <td>Phoenix</td>\n",
       "      <td>2000-01-01</td>\n",
       "      <td>Parts per billion</td>\n",
       "      <td>...</td>\n",
       "      <td>Parts per billion</td>\n",
       "      <td>3.000000</td>\n",
       "      <td>9.0</td>\n",
       "      <td>21</td>\n",
       "      <td>13.0</td>\n",
       "      <td>Parts per million</td>\n",
       "      <td>0.878947</td>\n",
       "      <td>2.2</td>\n",
       "      <td>23</td>\n",
       "      <td>25.0</td>\n",
       "    </tr>\n",
       "    <tr>\n",
       "      <th>2</th>\n",
       "      <td>2</td>\n",
       "      <td>4</td>\n",
       "      <td>13</td>\n",
       "      <td>3002</td>\n",
       "      <td>1645 E ROOSEVELT ST-CENTRAL PHOENIX STN</td>\n",
       "      <td>Arizona</td>\n",
       "      <td>Maricopa</td>\n",
       "      <td>Phoenix</td>\n",
       "      <td>2000-01-01</td>\n",
       "      <td>Parts per billion</td>\n",
       "      <td>...</td>\n",
       "      <td>Parts per billion</td>\n",
       "      <td>2.975000</td>\n",
       "      <td>6.6</td>\n",
       "      <td>23</td>\n",
       "      <td>NaN</td>\n",
       "      <td>Parts per million</td>\n",
       "      <td>1.145833</td>\n",
       "      <td>4.2</td>\n",
       "      <td>21</td>\n",
       "      <td>NaN</td>\n",
       "    </tr>\n",
       "    <tr>\n",
       "      <th>3</th>\n",
       "      <td>3</td>\n",
       "      <td>4</td>\n",
       "      <td>13</td>\n",
       "      <td>3002</td>\n",
       "      <td>1645 E ROOSEVELT ST-CENTRAL PHOENIX STN</td>\n",
       "      <td>Arizona</td>\n",
       "      <td>Maricopa</td>\n",
       "      <td>Phoenix</td>\n",
       "      <td>2000-01-01</td>\n",
       "      <td>Parts per billion</td>\n",
       "      <td>...</td>\n",
       "      <td>Parts per billion</td>\n",
       "      <td>2.975000</td>\n",
       "      <td>6.6</td>\n",
       "      <td>23</td>\n",
       "      <td>NaN</td>\n",
       "      <td>Parts per million</td>\n",
       "      <td>0.878947</td>\n",
       "      <td>2.2</td>\n",
       "      <td>23</td>\n",
       "      <td>25.0</td>\n",
       "    </tr>\n",
       "    <tr>\n",
       "      <th>4</th>\n",
       "      <td>4</td>\n",
       "      <td>4</td>\n",
       "      <td>13</td>\n",
       "      <td>3002</td>\n",
       "      <td>1645 E ROOSEVELT ST-CENTRAL PHOENIX STN</td>\n",
       "      <td>Arizona</td>\n",
       "      <td>Maricopa</td>\n",
       "      <td>Phoenix</td>\n",
       "      <td>2000-01-02</td>\n",
       "      <td>Parts per billion</td>\n",
       "      <td>...</td>\n",
       "      <td>Parts per billion</td>\n",
       "      <td>1.958333</td>\n",
       "      <td>3.0</td>\n",
       "      <td>22</td>\n",
       "      <td>4.0</td>\n",
       "      <td>Parts per million</td>\n",
       "      <td>0.850000</td>\n",
       "      <td>1.6</td>\n",
       "      <td>23</td>\n",
       "      <td>NaN</td>\n",
       "    </tr>\n",
       "  </tbody>\n",
       "</table>\n",
       "<p>5 rows × 29 columns</p>\n",
       "</div>"
      ],
      "text/plain": [
       "   Unnamed: 0  State Code  County Code  Site Num  \\\n",
       "0           0           4           13      3002   \n",
       "1           1           4           13      3002   \n",
       "2           2           4           13      3002   \n",
       "3           3           4           13      3002   \n",
       "4           4           4           13      3002   \n",
       "\n",
       "                                   Address    State    County     City  \\\n",
       "0  1645 E ROOSEVELT ST-CENTRAL PHOENIX STN  Arizona  Maricopa  Phoenix   \n",
       "1  1645 E ROOSEVELT ST-CENTRAL PHOENIX STN  Arizona  Maricopa  Phoenix   \n",
       "2  1645 E ROOSEVELT ST-CENTRAL PHOENIX STN  Arizona  Maricopa  Phoenix   \n",
       "3  1645 E ROOSEVELT ST-CENTRAL PHOENIX STN  Arizona  Maricopa  Phoenix   \n",
       "4  1645 E ROOSEVELT ST-CENTRAL PHOENIX STN  Arizona  Maricopa  Phoenix   \n",
       "\n",
       "   Date Local          NO2 Units  ...          SO2 Units  SO2 Mean  \\\n",
       "0  2000-01-01  Parts per billion  ...  Parts per billion  3.000000   \n",
       "1  2000-01-01  Parts per billion  ...  Parts per billion  3.000000   \n",
       "2  2000-01-01  Parts per billion  ...  Parts per billion  2.975000   \n",
       "3  2000-01-01  Parts per billion  ...  Parts per billion  2.975000   \n",
       "4  2000-01-02  Parts per billion  ...  Parts per billion  1.958333   \n",
       "\n",
       "   SO2 1st Max Value  SO2 1st Max Hour SO2 AQI           CO Units   CO Mean  \\\n",
       "0                9.0                21    13.0  Parts per million  1.145833   \n",
       "1                9.0                21    13.0  Parts per million  0.878947   \n",
       "2                6.6                23     NaN  Parts per million  1.145833   \n",
       "3                6.6                23     NaN  Parts per million  0.878947   \n",
       "4                3.0                22     4.0  Parts per million  0.850000   \n",
       "\n",
       "   CO 1st Max Value  CO 1st Max Hour CO AQI  \n",
       "0               4.2               21    NaN  \n",
       "1               2.2               23   25.0  \n",
       "2               4.2               21    NaN  \n",
       "3               2.2               23   25.0  \n",
       "4               1.6               23    NaN  \n",
       "\n",
       "[5 rows x 29 columns]"
      ]
     },
     "execution_count": 6,
     "metadata": {},
     "output_type": "execute_result"
    }
   ],
   "source": [
    "data.head()"
   ]
  },
  {
   "cell_type": "code",
   "execution_count": 7,
   "metadata": {},
   "outputs": [
    {
     "data": {
      "text/plain": [
       "50653169"
      ]
     },
     "execution_count": 7,
     "metadata": {},
     "output_type": "execute_result"
    }
   ],
   "source": [
    "data.size"
   ]
  },
  {
   "cell_type": "code",
   "execution_count": 8,
   "metadata": {},
   "outputs": [
    {
     "data": {
      "text/html": [
       "<div>\n",
       "<style scoped>\n",
       "    .dataframe tbody tr th:only-of-type {\n",
       "        vertical-align: middle;\n",
       "    }\n",
       "\n",
       "    .dataframe tbody tr th {\n",
       "        vertical-align: top;\n",
       "    }\n",
       "\n",
       "    .dataframe thead th {\n",
       "        text-align: right;\n",
       "    }\n",
       "</style>\n",
       "<table border=\"1\" class=\"dataframe\">\n",
       "  <thead>\n",
       "    <tr style=\"text-align: right;\">\n",
       "      <th></th>\n",
       "      <th>Unnamed: 0</th>\n",
       "      <th>State Code</th>\n",
       "      <th>County Code</th>\n",
       "      <th>Site Num</th>\n",
       "      <th>NO2 Mean</th>\n",
       "      <th>NO2 1st Max Value</th>\n",
       "      <th>NO2 1st Max Hour</th>\n",
       "      <th>NO2 AQI</th>\n",
       "      <th>O3 Mean</th>\n",
       "      <th>O3 1st Max Value</th>\n",
       "      <th>O3 1st Max Hour</th>\n",
       "      <th>O3 AQI</th>\n",
       "      <th>SO2 Mean</th>\n",
       "      <th>SO2 1st Max Value</th>\n",
       "      <th>SO2 1st Max Hour</th>\n",
       "      <th>SO2 AQI</th>\n",
       "      <th>CO Mean</th>\n",
       "      <th>CO 1st Max Value</th>\n",
       "      <th>CO 1st Max Hour</th>\n",
       "      <th>CO AQI</th>\n",
       "    </tr>\n",
       "  </thead>\n",
       "  <tbody>\n",
       "    <tr>\n",
       "      <th>count</th>\n",
       "      <td>1.746661e+06</td>\n",
       "      <td>1.746661e+06</td>\n",
       "      <td>1.746661e+06</td>\n",
       "      <td>1.746661e+06</td>\n",
       "      <td>1.746661e+06</td>\n",
       "      <td>1.746661e+06</td>\n",
       "      <td>1.746661e+06</td>\n",
       "      <td>1.746661e+06</td>\n",
       "      <td>1.746661e+06</td>\n",
       "      <td>1.746661e+06</td>\n",
       "      <td>1.746661e+06</td>\n",
       "      <td>1.746661e+06</td>\n",
       "      <td>1.746661e+06</td>\n",
       "      <td>1.746661e+06</td>\n",
       "      <td>1.746661e+06</td>\n",
       "      <td>873754.000000</td>\n",
       "      <td>1.746661e+06</td>\n",
       "      <td>1.746661e+06</td>\n",
       "      <td>1.746661e+06</td>\n",
       "      <td>873338.000000</td>\n",
       "    </tr>\n",
       "    <tr>\n",
       "      <th>mean</th>\n",
       "      <td>5.471414e+04</td>\n",
       "      <td>2.230907e+01</td>\n",
       "      <td>7.169381e+01</td>\n",
       "      <td>1.118214e+03</td>\n",
       "      <td>1.282193e+01</td>\n",
       "      <td>2.541485e+01</td>\n",
       "      <td>1.173102e+01</td>\n",
       "      <td>2.389822e+01</td>\n",
       "      <td>2.612485e-02</td>\n",
       "      <td>3.920331e-02</td>\n",
       "      <td>1.017053e+01</td>\n",
       "      <td>3.605012e+01</td>\n",
       "      <td>1.870364e+00</td>\n",
       "      <td>4.492185e+00</td>\n",
       "      <td>9.664906e+00</td>\n",
       "      <td>7.115945</td>\n",
       "      <td>3.682177e-01</td>\n",
       "      <td>6.201067e-01</td>\n",
       "      <td>7.875026e+00</td>\n",
       "      <td>5.996595</td>\n",
       "    </tr>\n",
       "    <tr>\n",
       "      <th>std</th>\n",
       "      <td>3.372908e+04</td>\n",
       "      <td>1.725621e+01</td>\n",
       "      <td>7.948023e+01</td>\n",
       "      <td>2.003103e+03</td>\n",
       "      <td>9.504814e+00</td>\n",
       "      <td>1.599963e+01</td>\n",
       "      <td>7.877501e+00</td>\n",
       "      <td>1.516280e+01</td>\n",
       "      <td>1.136974e-02</td>\n",
       "      <td>1.534362e-02</td>\n",
       "      <td>4.003144e+00</td>\n",
       "      <td>1.978042e+01</td>\n",
       "      <td>2.760435e+00</td>\n",
       "      <td>7.679866e+00</td>\n",
       "      <td>6.731228e+00</td>\n",
       "      <td>11.937473</td>\n",
       "      <td>3.140231e-01</td>\n",
       "      <td>6.439361e-01</td>\n",
       "      <td>7.978844e+00</td>\n",
       "      <td>5.851836</td>\n",
       "    </tr>\n",
       "    <tr>\n",
       "      <th>min</th>\n",
       "      <td>0.000000e+00</td>\n",
       "      <td>1.000000e+00</td>\n",
       "      <td>1.000000e+00</td>\n",
       "      <td>1.000000e+00</td>\n",
       "      <td>-2.000000e+00</td>\n",
       "      <td>-2.000000e+00</td>\n",
       "      <td>0.000000e+00</td>\n",
       "      <td>0.000000e+00</td>\n",
       "      <td>0.000000e+00</td>\n",
       "      <td>0.000000e+00</td>\n",
       "      <td>0.000000e+00</td>\n",
       "      <td>0.000000e+00</td>\n",
       "      <td>-2.000000e+00</td>\n",
       "      <td>-2.000000e+00</td>\n",
       "      <td>0.000000e+00</td>\n",
       "      <td>0.000000</td>\n",
       "      <td>-4.375000e-01</td>\n",
       "      <td>-4.000000e-01</td>\n",
       "      <td>0.000000e+00</td>\n",
       "      <td>0.000000</td>\n",
       "    </tr>\n",
       "    <tr>\n",
       "      <th>25%</th>\n",
       "      <td>2.575300e+04</td>\n",
       "      <td>6.000000e+00</td>\n",
       "      <td>1.700000e+01</td>\n",
       "      <td>9.000000e+00</td>\n",
       "      <td>5.750000e+00</td>\n",
       "      <td>1.300000e+01</td>\n",
       "      <td>5.000000e+00</td>\n",
       "      <td>1.200000e+01</td>\n",
       "      <td>1.787500e-02</td>\n",
       "      <td>2.900000e-02</td>\n",
       "      <td>9.000000e+00</td>\n",
       "      <td>2.500000e+01</td>\n",
       "      <td>2.565220e-01</td>\n",
       "      <td>8.000000e-01</td>\n",
       "      <td>5.000000e+00</td>\n",
       "      <td>1.000000</td>\n",
       "      <td>1.834580e-01</td>\n",
       "      <td>2.920000e-01</td>\n",
       "      <td>0.000000e+00</td>\n",
       "      <td>2.000000</td>\n",
       "    </tr>\n",
       "    <tr>\n",
       "      <th>50%</th>\n",
       "      <td>5.304500e+04</td>\n",
       "      <td>1.700000e+01</td>\n",
       "      <td>5.900000e+01</td>\n",
       "      <td>6.000000e+01</td>\n",
       "      <td>1.073913e+01</td>\n",
       "      <td>2.400000e+01</td>\n",
       "      <td>9.000000e+00</td>\n",
       "      <td>2.300000e+01</td>\n",
       "      <td>2.587500e-02</td>\n",
       "      <td>3.800000e-02</td>\n",
       "      <td>1.000000e+01</td>\n",
       "      <td>3.300000e+01</td>\n",
       "      <td>9.875000e-01</td>\n",
       "      <td>2.000000e+00</td>\n",
       "      <td>8.000000e+00</td>\n",
       "      <td>3.000000</td>\n",
       "      <td>2.926250e-01</td>\n",
       "      <td>4.000000e-01</td>\n",
       "      <td>6.000000e+00</td>\n",
       "      <td>5.000000</td>\n",
       "    </tr>\n",
       "    <tr>\n",
       "      <th>75%</th>\n",
       "      <td>8.033600e+04</td>\n",
       "      <td>4.000000e+01</td>\n",
       "      <td>9.700000e+01</td>\n",
       "      <td>1.039000e+03</td>\n",
       "      <td>1.771364e+01</td>\n",
       "      <td>3.570000e+01</td>\n",
       "      <td>2.000000e+01</td>\n",
       "      <td>3.300000e+01</td>\n",
       "      <td>3.391700e-02</td>\n",
       "      <td>4.800000e-02</td>\n",
       "      <td>1.100000e+01</td>\n",
       "      <td>4.200000e+01</td>\n",
       "      <td>2.325000e+00</td>\n",
       "      <td>5.000000e+00</td>\n",
       "      <td>1.400000e+01</td>\n",
       "      <td>9.000000</td>\n",
       "      <td>4.666670e-01</td>\n",
       "      <td>8.000000e-01</td>\n",
       "      <td>1.300000e+01</td>\n",
       "      <td>8.000000</td>\n",
       "    </tr>\n",
       "    <tr>\n",
       "      <th>max</th>\n",
       "      <td>1.345750e+05</td>\n",
       "      <td>8.000000e+01</td>\n",
       "      <td>6.500000e+02</td>\n",
       "      <td>9.997000e+03</td>\n",
       "      <td>1.395417e+02</td>\n",
       "      <td>2.670000e+02</td>\n",
       "      <td>2.300000e+01</td>\n",
       "      <td>1.320000e+02</td>\n",
       "      <td>9.508300e-02</td>\n",
       "      <td>1.410000e-01</td>\n",
       "      <td>2.300000e+01</td>\n",
       "      <td>2.180000e+02</td>\n",
       "      <td>3.216250e+02</td>\n",
       "      <td>3.510000e+02</td>\n",
       "      <td>2.300000e+01</td>\n",
       "      <td>200.000000</td>\n",
       "      <td>7.508333e+00</td>\n",
       "      <td>1.990000e+01</td>\n",
       "      <td>2.300000e+01</td>\n",
       "      <td>201.000000</td>\n",
       "    </tr>\n",
       "  </tbody>\n",
       "</table>\n",
       "</div>"
      ],
      "text/plain": [
       "         Unnamed: 0    State Code   County Code      Site Num      NO2 Mean  \\\n",
       "count  1.746661e+06  1.746661e+06  1.746661e+06  1.746661e+06  1.746661e+06   \n",
       "mean   5.471414e+04  2.230907e+01  7.169381e+01  1.118214e+03  1.282193e+01   \n",
       "std    3.372908e+04  1.725621e+01  7.948023e+01  2.003103e+03  9.504814e+00   \n",
       "min    0.000000e+00  1.000000e+00  1.000000e+00  1.000000e+00 -2.000000e+00   \n",
       "25%    2.575300e+04  6.000000e+00  1.700000e+01  9.000000e+00  5.750000e+00   \n",
       "50%    5.304500e+04  1.700000e+01  5.900000e+01  6.000000e+01  1.073913e+01   \n",
       "75%    8.033600e+04  4.000000e+01  9.700000e+01  1.039000e+03  1.771364e+01   \n",
       "max    1.345750e+05  8.000000e+01  6.500000e+02  9.997000e+03  1.395417e+02   \n",
       "\n",
       "       NO2 1st Max Value  NO2 1st Max Hour       NO2 AQI       O3 Mean  \\\n",
       "count       1.746661e+06      1.746661e+06  1.746661e+06  1.746661e+06   \n",
       "mean        2.541485e+01      1.173102e+01  2.389822e+01  2.612485e-02   \n",
       "std         1.599963e+01      7.877501e+00  1.516280e+01  1.136974e-02   \n",
       "min        -2.000000e+00      0.000000e+00  0.000000e+00  0.000000e+00   \n",
       "25%         1.300000e+01      5.000000e+00  1.200000e+01  1.787500e-02   \n",
       "50%         2.400000e+01      9.000000e+00  2.300000e+01  2.587500e-02   \n",
       "75%         3.570000e+01      2.000000e+01  3.300000e+01  3.391700e-02   \n",
       "max         2.670000e+02      2.300000e+01  1.320000e+02  9.508300e-02   \n",
       "\n",
       "       O3 1st Max Value  O3 1st Max Hour        O3 AQI      SO2 Mean  \\\n",
       "count      1.746661e+06     1.746661e+06  1.746661e+06  1.746661e+06   \n",
       "mean       3.920331e-02     1.017053e+01  3.605012e+01  1.870364e+00   \n",
       "std        1.534362e-02     4.003144e+00  1.978042e+01  2.760435e+00   \n",
       "min        0.000000e+00     0.000000e+00  0.000000e+00 -2.000000e+00   \n",
       "25%        2.900000e-02     9.000000e+00  2.500000e+01  2.565220e-01   \n",
       "50%        3.800000e-02     1.000000e+01  3.300000e+01  9.875000e-01   \n",
       "75%        4.800000e-02     1.100000e+01  4.200000e+01  2.325000e+00   \n",
       "max        1.410000e-01     2.300000e+01  2.180000e+02  3.216250e+02   \n",
       "\n",
       "       SO2 1st Max Value  SO2 1st Max Hour        SO2 AQI       CO Mean  \\\n",
       "count       1.746661e+06      1.746661e+06  873754.000000  1.746661e+06   \n",
       "mean        4.492185e+00      9.664906e+00       7.115945  3.682177e-01   \n",
       "std         7.679866e+00      6.731228e+00      11.937473  3.140231e-01   \n",
       "min        -2.000000e+00      0.000000e+00       0.000000 -4.375000e-01   \n",
       "25%         8.000000e-01      5.000000e+00       1.000000  1.834580e-01   \n",
       "50%         2.000000e+00      8.000000e+00       3.000000  2.926250e-01   \n",
       "75%         5.000000e+00      1.400000e+01       9.000000  4.666670e-01   \n",
       "max         3.510000e+02      2.300000e+01     200.000000  7.508333e+00   \n",
       "\n",
       "       CO 1st Max Value  CO 1st Max Hour         CO AQI  \n",
       "count      1.746661e+06     1.746661e+06  873338.000000  \n",
       "mean       6.201067e-01     7.875026e+00       5.996595  \n",
       "std        6.439361e-01     7.978844e+00       5.851836  \n",
       "min       -4.000000e-01     0.000000e+00       0.000000  \n",
       "25%        2.920000e-01     0.000000e+00       2.000000  \n",
       "50%        4.000000e-01     6.000000e+00       5.000000  \n",
       "75%        8.000000e-01     1.300000e+01       8.000000  \n",
       "max        1.990000e+01     2.300000e+01     201.000000  "
      ]
     },
     "execution_count": 8,
     "metadata": {},
     "output_type": "execute_result"
    }
   ],
   "source": [
    "data.describe()"
   ]
  },
  {
   "cell_type": "code",
   "execution_count": 9,
   "metadata": {},
   "outputs": [
    {
     "data": {
      "text/plain": [
       "array([[0, 4, 13, ..., 4.2, 21, nan],\n",
       "       [1, 4, 13, ..., 2.2, 23, 25.0],\n",
       "       [2, 4, 13, ..., 4.2, 21, nan],\n",
       "       ...,\n",
       "       [24601, 56, 21, ..., 0.1, 0, 1.0],\n",
       "       [24602, 56, 21, ..., 0.127, 0, nan],\n",
       "       [24603, 56, 21, ..., 0.1, 0, 1.0]], dtype=object)"
      ]
     },
     "execution_count": 9,
     "metadata": {},
     "output_type": "execute_result"
    }
   ],
   "source": [
    "data.values"
   ]
  },
  {
   "cell_type": "code",
   "execution_count": 10,
   "metadata": {},
   "outputs": [
    {
     "name": "stdout",
     "output_type": "stream",
     "text": [
      "<class 'pandas.core.frame.DataFrame'>\n",
      "RangeIndex: 1746661 entries, 0 to 1746660\n",
      "Data columns (total 29 columns):\n",
      " #   Column             Dtype  \n",
      "---  ------             -----  \n",
      " 0   Unnamed: 0         int64  \n",
      " 1   State Code         int64  \n",
      " 2   County Code        int64  \n",
      " 3   Site Num           int64  \n",
      " 4   Address            object \n",
      " 5   State              object \n",
      " 6   County             object \n",
      " 7   City               object \n",
      " 8   Date Local         object \n",
      " 9   NO2 Units          object \n",
      " 10  NO2 Mean           float64\n",
      " 11  NO2 1st Max Value  float64\n",
      " 12  NO2 1st Max Hour   int64  \n",
      " 13  NO2 AQI            int64  \n",
      " 14  O3 Units           object \n",
      " 15  O3 Mean            float64\n",
      " 16  O3 1st Max Value   float64\n",
      " 17  O3 1st Max Hour    int64  \n",
      " 18  O3 AQI             int64  \n",
      " 19  SO2 Units          object \n",
      " 20  SO2 Mean           float64\n",
      " 21  SO2 1st Max Value  float64\n",
      " 22  SO2 1st Max Hour   int64  \n",
      " 23  SO2 AQI            float64\n",
      " 24  CO Units           object \n",
      " 25  CO Mean            float64\n",
      " 26  CO 1st Max Value   float64\n",
      " 27  CO 1st Max Hour    int64  \n",
      " 28  CO AQI             float64\n",
      "dtypes: float64(10), int64(10), object(9)\n",
      "memory usage: 386.5+ MB\n"
     ]
    }
   ],
   "source": [
    "data.info()"
   ]
  },
  {
   "cell_type": "markdown",
   "metadata": {},
   "source": [
    "<h1>Cleaning the data</h1>"
   ]
  },
  {
   "cell_type": "code",
   "execution_count": 11,
   "metadata": {},
   "outputs": [],
   "source": [
    "data = data.drop(['Unnamed: 0', 'State Code', 'County Code', 'Address'], axis=1)\n",
    "data = data.drop([x for x in data.columns if x not in ['State', 'City', 'NO2 Mean', 'O3 Mean', 'SO2 Mean', 'CO Mean', 'Date Local']], axis=1)"
   ]
  },
  {
   "cell_type": "code",
   "execution_count": 12,
   "metadata": {
    "scrolled": true
   },
   "outputs": [
    {
     "data": {
      "text/html": [
       "<div>\n",
       "<style scoped>\n",
       "    .dataframe tbody tr th:only-of-type {\n",
       "        vertical-align: middle;\n",
       "    }\n",
       "\n",
       "    .dataframe tbody tr th {\n",
       "        vertical-align: top;\n",
       "    }\n",
       "\n",
       "    .dataframe thead th {\n",
       "        text-align: right;\n",
       "    }\n",
       "</style>\n",
       "<table border=\"1\" class=\"dataframe\">\n",
       "  <thead>\n",
       "    <tr style=\"text-align: right;\">\n",
       "      <th></th>\n",
       "      <th>State</th>\n",
       "      <th>City</th>\n",
       "      <th>Date Local</th>\n",
       "      <th>NO2 Mean</th>\n",
       "      <th>O3 Mean</th>\n",
       "      <th>SO2 Mean</th>\n",
       "      <th>CO Mean</th>\n",
       "    </tr>\n",
       "  </thead>\n",
       "  <tbody>\n",
       "    <tr>\n",
       "      <th>0</th>\n",
       "      <td>Arizona</td>\n",
       "      <td>Phoenix</td>\n",
       "      <td>2000-01-01</td>\n",
       "      <td>19.041667</td>\n",
       "      <td>0.022500</td>\n",
       "      <td>3.000000</td>\n",
       "      <td>1.145833</td>\n",
       "    </tr>\n",
       "    <tr>\n",
       "      <th>1</th>\n",
       "      <td>Arizona</td>\n",
       "      <td>Phoenix</td>\n",
       "      <td>2000-01-01</td>\n",
       "      <td>19.041667</td>\n",
       "      <td>0.022500</td>\n",
       "      <td>3.000000</td>\n",
       "      <td>0.878947</td>\n",
       "    </tr>\n",
       "    <tr>\n",
       "      <th>2</th>\n",
       "      <td>Arizona</td>\n",
       "      <td>Phoenix</td>\n",
       "      <td>2000-01-01</td>\n",
       "      <td>19.041667</td>\n",
       "      <td>0.022500</td>\n",
       "      <td>2.975000</td>\n",
       "      <td>1.145833</td>\n",
       "    </tr>\n",
       "    <tr>\n",
       "      <th>3</th>\n",
       "      <td>Arizona</td>\n",
       "      <td>Phoenix</td>\n",
       "      <td>2000-01-01</td>\n",
       "      <td>19.041667</td>\n",
       "      <td>0.022500</td>\n",
       "      <td>2.975000</td>\n",
       "      <td>0.878947</td>\n",
       "    </tr>\n",
       "    <tr>\n",
       "      <th>4</th>\n",
       "      <td>Arizona</td>\n",
       "      <td>Phoenix</td>\n",
       "      <td>2000-01-02</td>\n",
       "      <td>22.958333</td>\n",
       "      <td>0.013375</td>\n",
       "      <td>1.958333</td>\n",
       "      <td>0.850000</td>\n",
       "    </tr>\n",
       "  </tbody>\n",
       "</table>\n",
       "</div>"
      ],
      "text/plain": [
       "     State     City  Date Local   NO2 Mean   O3 Mean  SO2 Mean   CO Mean\n",
       "0  Arizona  Phoenix  2000-01-01  19.041667  0.022500  3.000000  1.145833\n",
       "1  Arizona  Phoenix  2000-01-01  19.041667  0.022500  3.000000  0.878947\n",
       "2  Arizona  Phoenix  2000-01-01  19.041667  0.022500  2.975000  1.145833\n",
       "3  Arizona  Phoenix  2000-01-01  19.041667  0.022500  2.975000  0.878947\n",
       "4  Arizona  Phoenix  2000-01-02  22.958333  0.013375  1.958333  0.850000"
      ]
     },
     "execution_count": 12,
     "metadata": {},
     "output_type": "execute_result"
    }
   ],
   "source": [
    "data.head()"
   ]
  },
  {
   "cell_type": "code",
   "execution_count": 13,
   "metadata": {},
   "outputs": [],
   "source": [
    "cities_to_drop = data[~(data.City == 'Los Angeles') & \n",
    "                       ~(data.City == 'San Diego') & \n",
    "                       ~(data.City == 'San Francisco') & \n",
    "                       ~(data.City == 'New York') & \n",
    "                       ~(data.City == 'Newark') & \n",
    "                       ~(data.City == 'Philadelphia') & \n",
    "                       ~(data.City == 'Denver') & \n",
    "                       ~(data.City == 'Dallas') & \n",
    "                       ~(data.City == 'Houston') & \n",
    "                       ~(data.City == 'Portland') & \n",
    "                       ~(data.City == 'Chicago') & \n",
    "                       ~(data.City == 'Phoenix') & \n",
    "                       ~(data.City == 'Detroit') & \n",
    "                       ~(data.City == 'Boston')\n",
    "                       ].index"
   ]
  },
  {
   "cell_type": "code",
   "execution_count": 14,
   "metadata": {},
   "outputs": [
    {
     "data": {
      "text/plain": [
       "Int64Index([   1396,    1397,    1398,    1399,    1400,    1401,    1402,\n",
       "               1403,    1404,    1405,\n",
       "            ...\n",
       "            1746651, 1746652, 1746653, 1746654, 1746655, 1746656, 1746657,\n",
       "            1746658, 1746659, 1746660],\n",
       "           dtype='int64', length=1429756)"
      ]
     },
     "execution_count": 14,
     "metadata": {},
     "output_type": "execute_result"
    }
   ],
   "source": [
    "cities_to_drop"
   ]
  },
  {
   "cell_type": "code",
   "execution_count": 15,
   "metadata": {},
   "outputs": [],
   "source": [
    "data.drop(cities_to_drop, inplace=True)"
   ]
  },
  {
   "cell_type": "code",
   "execution_count": 16,
   "metadata": {},
   "outputs": [
    {
     "data": {
      "text/html": [
       "<div>\n",
       "<style scoped>\n",
       "    .dataframe tbody tr th:only-of-type {\n",
       "        vertical-align: middle;\n",
       "    }\n",
       "\n",
       "    .dataframe tbody tr th {\n",
       "        vertical-align: top;\n",
       "    }\n",
       "\n",
       "    .dataframe thead th {\n",
       "        text-align: right;\n",
       "    }\n",
       "</style>\n",
       "<table border=\"1\" class=\"dataframe\">\n",
       "  <thead>\n",
       "    <tr style=\"text-align: right;\">\n",
       "      <th></th>\n",
       "      <th>State</th>\n",
       "      <th>City</th>\n",
       "      <th>Date Local</th>\n",
       "      <th>NO2 Mean</th>\n",
       "      <th>O3 Mean</th>\n",
       "      <th>SO2 Mean</th>\n",
       "      <th>CO Mean</th>\n",
       "    </tr>\n",
       "  </thead>\n",
       "  <tbody>\n",
       "    <tr>\n",
       "      <th>0</th>\n",
       "      <td>Arizona</td>\n",
       "      <td>Phoenix</td>\n",
       "      <td>2000-01-01</td>\n",
       "      <td>19.041667</td>\n",
       "      <td>0.022500</td>\n",
       "      <td>3.000000</td>\n",
       "      <td>1.145833</td>\n",
       "    </tr>\n",
       "    <tr>\n",
       "      <th>1</th>\n",
       "      <td>Arizona</td>\n",
       "      <td>Phoenix</td>\n",
       "      <td>2000-01-01</td>\n",
       "      <td>19.041667</td>\n",
       "      <td>0.022500</td>\n",
       "      <td>3.000000</td>\n",
       "      <td>0.878947</td>\n",
       "    </tr>\n",
       "    <tr>\n",
       "      <th>2</th>\n",
       "      <td>Arizona</td>\n",
       "      <td>Phoenix</td>\n",
       "      <td>2000-01-01</td>\n",
       "      <td>19.041667</td>\n",
       "      <td>0.022500</td>\n",
       "      <td>2.975000</td>\n",
       "      <td>1.145833</td>\n",
       "    </tr>\n",
       "    <tr>\n",
       "      <th>3</th>\n",
       "      <td>Arizona</td>\n",
       "      <td>Phoenix</td>\n",
       "      <td>2000-01-01</td>\n",
       "      <td>19.041667</td>\n",
       "      <td>0.022500</td>\n",
       "      <td>2.975000</td>\n",
       "      <td>0.878947</td>\n",
       "    </tr>\n",
       "    <tr>\n",
       "      <th>4</th>\n",
       "      <td>Arizona</td>\n",
       "      <td>Phoenix</td>\n",
       "      <td>2000-01-02</td>\n",
       "      <td>22.958333</td>\n",
       "      <td>0.013375</td>\n",
       "      <td>1.958333</td>\n",
       "      <td>0.850000</td>\n",
       "    </tr>\n",
       "    <tr>\n",
       "      <th>...</th>\n",
       "      <td>...</td>\n",
       "      <td>...</td>\n",
       "      <td>...</td>\n",
       "      <td>...</td>\n",
       "      <td>...</td>\n",
       "      <td>...</td>\n",
       "      <td>...</td>\n",
       "    </tr>\n",
       "    <tr>\n",
       "      <th>1744946</th>\n",
       "      <td>Texas</td>\n",
       "      <td>Houston</td>\n",
       "      <td>2016-03-30</td>\n",
       "      <td>9.700000</td>\n",
       "      <td>0.014250</td>\n",
       "      <td>-0.187500</td>\n",
       "      <td>0.166667</td>\n",
       "    </tr>\n",
       "    <tr>\n",
       "      <th>1744947</th>\n",
       "      <td>Texas</td>\n",
       "      <td>Houston</td>\n",
       "      <td>2016-03-31</td>\n",
       "      <td>11.066667</td>\n",
       "      <td>0.018263</td>\n",
       "      <td>-0.141667</td>\n",
       "      <td>0.214250</td>\n",
       "    </tr>\n",
       "    <tr>\n",
       "      <th>1744948</th>\n",
       "      <td>Texas</td>\n",
       "      <td>Houston</td>\n",
       "      <td>2016-03-31</td>\n",
       "      <td>11.066667</td>\n",
       "      <td>0.018263</td>\n",
       "      <td>-0.141667</td>\n",
       "      <td>0.179167</td>\n",
       "    </tr>\n",
       "    <tr>\n",
       "      <th>1744949</th>\n",
       "      <td>Texas</td>\n",
       "      <td>Houston</td>\n",
       "      <td>2016-03-31</td>\n",
       "      <td>11.066667</td>\n",
       "      <td>0.018263</td>\n",
       "      <td>-0.112500</td>\n",
       "      <td>0.214250</td>\n",
       "    </tr>\n",
       "    <tr>\n",
       "      <th>1744950</th>\n",
       "      <td>Texas</td>\n",
       "      <td>Houston</td>\n",
       "      <td>2016-03-31</td>\n",
       "      <td>11.066667</td>\n",
       "      <td>0.018263</td>\n",
       "      <td>-0.112500</td>\n",
       "      <td>0.179167</td>\n",
       "    </tr>\n",
       "  </tbody>\n",
       "</table>\n",
       "<p>316905 rows × 7 columns</p>\n",
       "</div>"
      ],
      "text/plain": [
       "           State     City  Date Local   NO2 Mean   O3 Mean  SO2 Mean   CO Mean\n",
       "0        Arizona  Phoenix  2000-01-01  19.041667  0.022500  3.000000  1.145833\n",
       "1        Arizona  Phoenix  2000-01-01  19.041667  0.022500  3.000000  0.878947\n",
       "2        Arizona  Phoenix  2000-01-01  19.041667  0.022500  2.975000  1.145833\n",
       "3        Arizona  Phoenix  2000-01-01  19.041667  0.022500  2.975000  0.878947\n",
       "4        Arizona  Phoenix  2000-01-02  22.958333  0.013375  1.958333  0.850000\n",
       "...          ...      ...         ...        ...       ...       ...       ...\n",
       "1744946    Texas  Houston  2016-03-30   9.700000  0.014250 -0.187500  0.166667\n",
       "1744947    Texas  Houston  2016-03-31  11.066667  0.018263 -0.141667  0.214250\n",
       "1744948    Texas  Houston  2016-03-31  11.066667  0.018263 -0.141667  0.179167\n",
       "1744949    Texas  Houston  2016-03-31  11.066667  0.018263 -0.112500  0.214250\n",
       "1744950    Texas  Houston  2016-03-31  11.066667  0.018263 -0.112500  0.179167\n",
       "\n",
       "[316905 rows x 7 columns]"
      ]
     },
     "execution_count": 16,
     "metadata": {},
     "output_type": "execute_result"
    }
   ],
   "source": [
    "data"
   ]
  },
  {
   "cell_type": "code",
   "execution_count": 17,
   "metadata": {},
   "outputs": [
    {
     "data": {
      "text/html": [
       "<div>\n",
       "<style scoped>\n",
       "    .dataframe tbody tr th:only-of-type {\n",
       "        vertical-align: middle;\n",
       "    }\n",
       "\n",
       "    .dataframe tbody tr th {\n",
       "        vertical-align: top;\n",
       "    }\n",
       "\n",
       "    .dataframe thead th {\n",
       "        text-align: right;\n",
       "    }\n",
       "</style>\n",
       "<table border=\"1\" class=\"dataframe\">\n",
       "  <thead>\n",
       "    <tr style=\"text-align: right;\">\n",
       "      <th></th>\n",
       "      <th>NO2 Mean</th>\n",
       "      <th>O3 Mean</th>\n",
       "      <th>SO2 Mean</th>\n",
       "      <th>CO Mean</th>\n",
       "    </tr>\n",
       "  </thead>\n",
       "  <tbody>\n",
       "    <tr>\n",
       "      <th>count</th>\n",
       "      <td>316905.000000</td>\n",
       "      <td>316905.000000</td>\n",
       "      <td>316905.000000</td>\n",
       "      <td>316905.000000</td>\n",
       "    </tr>\n",
       "    <tr>\n",
       "      <th>mean</th>\n",
       "      <td>19.194881</td>\n",
       "      <td>0.022196</td>\n",
       "      <td>2.460756</td>\n",
       "      <td>0.466147</td>\n",
       "    </tr>\n",
       "    <tr>\n",
       "      <th>std</th>\n",
       "      <td>10.557173</td>\n",
       "      <td>0.010813</td>\n",
       "      <td>3.173368</td>\n",
       "      <td>0.349340</td>\n",
       "    </tr>\n",
       "    <tr>\n",
       "      <th>min</th>\n",
       "      <td>-0.152174</td>\n",
       "      <td>0.000000</td>\n",
       "      <td>-1.728571</td>\n",
       "      <td>-0.400000</td>\n",
       "    </tr>\n",
       "    <tr>\n",
       "      <th>25%</th>\n",
       "      <td>11.208333</td>\n",
       "      <td>0.014042</td>\n",
       "      <td>0.541667</td>\n",
       "      <td>0.238333</td>\n",
       "    </tr>\n",
       "    <tr>\n",
       "      <th>50%</th>\n",
       "      <td>17.605000</td>\n",
       "      <td>0.021667</td>\n",
       "      <td>1.471429</td>\n",
       "      <td>0.374583</td>\n",
       "    </tr>\n",
       "    <tr>\n",
       "      <th>75%</th>\n",
       "      <td>25.565217</td>\n",
       "      <td>0.029625</td>\n",
       "      <td>3.162500</td>\n",
       "      <td>0.591667</td>\n",
       "    </tr>\n",
       "    <tr>\n",
       "      <th>max</th>\n",
       "      <td>98.130435</td>\n",
       "      <td>0.079458</td>\n",
       "      <td>53.500000</td>\n",
       "      <td>4.246667</td>\n",
       "    </tr>\n",
       "  </tbody>\n",
       "</table>\n",
       "</div>"
      ],
      "text/plain": [
       "            NO2 Mean        O3 Mean       SO2 Mean        CO Mean\n",
       "count  316905.000000  316905.000000  316905.000000  316905.000000\n",
       "mean       19.194881       0.022196       2.460756       0.466147\n",
       "std        10.557173       0.010813       3.173368       0.349340\n",
       "min        -0.152174       0.000000      -1.728571      -0.400000\n",
       "25%        11.208333       0.014042       0.541667       0.238333\n",
       "50%        17.605000       0.021667       1.471429       0.374583\n",
       "75%        25.565217       0.029625       3.162500       0.591667\n",
       "max        98.130435       0.079458      53.500000       4.246667"
      ]
     },
     "execution_count": 17,
     "metadata": {},
     "output_type": "execute_result"
    }
   ],
   "source": [
    "data.describe()"
   ]
  },
  {
   "cell_type": "markdown",
   "metadata": {},
   "source": [
    "<h1>Checking NO2 data</h1>"
   ]
  },
  {
   "cell_type": "code",
   "execution_count": 18,
   "metadata": {},
   "outputs": [
    {
     "data": {
      "text/plain": [
       "98.13043499999999"
      ]
     },
     "execution_count": 18,
     "metadata": {},
     "output_type": "execute_result"
    }
   ],
   "source": [
    "no2_max = data['NO2 Mean'].max()\n",
    "no2_max"
   ]
  },
  {
   "cell_type": "code",
   "execution_count": 41,
   "metadata": {},
   "outputs": [
    {
     "data": {
      "text/plain": [
       "-0.152174"
      ]
     },
     "execution_count": 41,
     "metadata": {},
     "output_type": "execute_result"
    }
   ],
   "source": [
    "no2_min = data['NO2 Mean'].min()\n",
    "no2_min"
   ]
  },
  {
   "cell_type": "code",
   "execution_count": 19,
   "metadata": {},
   "outputs": [
    {
     "data": {
      "text/plain": [
       "'Los Angeles'"
      ]
     },
     "execution_count": 19,
     "metadata": {},
     "output_type": "execute_result"
    }
   ],
   "source": [
    "no2_max = data.loc[data['NO2 Mean'] == data['NO2 Mean'].max(), 'City']\n",
    "no2_max.get(no2_max.index[0])"
   ]
  },
  {
   "cell_type": "code",
   "execution_count": 20,
   "metadata": {},
   "outputs": [
    {
     "data": {
      "text/plain": [
       "'Los Angeles'"
      ]
     },
     "execution_count": 20,
     "metadata": {},
     "output_type": "execute_result"
    }
   ],
   "source": [
    "no2_min = data.loc[data['NO2 Mean'] == data['NO2 Mean'].min(), 'City']\n",
    "no2_min.get(no2_min.index[0])"
   ]
  },
  {
   "cell_type": "code",
   "execution_count": 21,
   "metadata": {},
   "outputs": [
    {
     "data": {
      "text/html": [
       "<div>\n",
       "<style scoped>\n",
       "    .dataframe tbody tr th:only-of-type {\n",
       "        vertical-align: middle;\n",
       "    }\n",
       "\n",
       "    .dataframe tbody tr th {\n",
       "        vertical-align: top;\n",
       "    }\n",
       "\n",
       "    .dataframe thead th {\n",
       "        text-align: right;\n",
       "    }\n",
       "</style>\n",
       "<table border=\"1\" class=\"dataframe\">\n",
       "  <thead>\n",
       "    <tr style=\"text-align: right;\">\n",
       "      <th></th>\n",
       "      <th>NO2 Mean</th>\n",
       "      <th>City</th>\n",
       "    </tr>\n",
       "  </thead>\n",
       "  <tbody>\n",
       "    <tr>\n",
       "      <th>13214</th>\n",
       "      <td>98.130435</td>\n",
       "      <td>Los Angeles</td>\n",
       "    </tr>\n",
       "  </tbody>\n",
       "</table>\n",
       "</div>"
      ],
      "text/plain": [
       "        NO2 Mean         City\n",
       "13214  98.130435  Los Angeles"
      ]
     },
     "execution_count": 21,
     "metadata": {},
     "output_type": "execute_result"
    }
   ],
   "source": [
    "data_in_order_no2 = data[['NO2 Mean', 'City']].sort_values(by='NO2 Mean', ascending=False)\n",
    "data_in_order_no2.head(1)"
   ]
  },
  {
   "cell_type": "code",
   "execution_count": 22,
   "metadata": {},
   "outputs": [
    {
     "data": {
      "text/html": [
       "<div>\n",
       "<style scoped>\n",
       "    .dataframe tbody tr th:only-of-type {\n",
       "        vertical-align: middle;\n",
       "    }\n",
       "\n",
       "    .dataframe tbody tr th {\n",
       "        vertical-align: top;\n",
       "    }\n",
       "\n",
       "    .dataframe thead th {\n",
       "        text-align: right;\n",
       "    }\n",
       "</style>\n",
       "<table border=\"1\" class=\"dataframe\">\n",
       "  <thead>\n",
       "    <tr style=\"text-align: right;\">\n",
       "      <th></th>\n",
       "      <th>NO2 Mean</th>\n",
       "      <th>City</th>\n",
       "    </tr>\n",
       "  </thead>\n",
       "  <tbody>\n",
       "    <tr>\n",
       "      <th>1618962</th>\n",
       "      <td>-0.152174</td>\n",
       "      <td>Los Angeles</td>\n",
       "    </tr>\n",
       "  </tbody>\n",
       "</table>\n",
       "</div>"
      ],
      "text/plain": [
       "         NO2 Mean         City\n",
       "1618962 -0.152174  Los Angeles"
      ]
     },
     "execution_count": 22,
     "metadata": {},
     "output_type": "execute_result"
    }
   ],
   "source": [
    "data_in_order_no2.tail(1)"
   ]
  },
  {
   "cell_type": "code",
   "execution_count": 23,
   "metadata": {},
   "outputs": [
    {
     "data": {
      "text/plain": [
       "<matplotlib.axes._subplots.AxesSubplot at 0x20a7e5b9820>"
      ]
     },
     "execution_count": 23,
     "metadata": {},
     "output_type": "execute_result"
    },
    {
     "data": {
      "image/png": "[encoded data removed]",
      "text/plain": [
       "<Figure size 720x432 with 1 Axes>"
      ]
     },
     "metadata": {
      "needs_background": "light"
     },
     "output_type": "display_data"
    }
   ],
   "source": [
    "data.plot(kind='scatter', x='NO2 Mean', y='City', figsize=(10,6))"
   ]
  },
  {
   "cell_type": "markdown",
   "metadata": {},
   "source": [
    "<h1>Checking O3 data</h1>"
   ]
  },
  {
   "cell_type": "code",
   "execution_count": 24,
   "metadata": {},
   "outputs": [
    {
     "data": {
      "text/plain": [
       "0.079458"
      ]
     },
     "execution_count": 24,
     "metadata": {},
     "output_type": "execute_result"
    }
   ],
   "source": [
    "o3_max = data['O3 Mean'].max()\n",
    "o3_max"
   ]
  },
  {
   "cell_type": "code",
   "execution_count": 40,
   "metadata": {},
   "outputs": [
    {
     "data": {
      "text/plain": [
       "0.0"
      ]
     },
     "execution_count": 40,
     "metadata": {},
     "output_type": "execute_result"
    }
   ],
   "source": [
    "o3_min = data['O3 Mean'].min()\n",
    "o3_min"
   ]
  },
  {
   "cell_type": "code",
   "execution_count": 25,
   "metadata": {},
   "outputs": [
    {
     "data": {
      "text/plain": [
       "'New York'"
      ]
     },
     "execution_count": 25,
     "metadata": {},
     "output_type": "execute_result"
    }
   ],
   "source": [
    "o3_max = data.loc[data['O3 Mean'] == data['O3 Mean'].max(), 'City']\n",
    "o3_max.get(o3_max.index[0])"
   ]
  },
  {
   "cell_type": "code",
   "execution_count": 26,
   "metadata": {},
   "outputs": [
    {
     "data": {
      "text/plain": [
       "'Boston'"
      ]
     },
     "execution_count": 26,
     "metadata": {},
     "output_type": "execute_result"
    }
   ],
   "source": [
    "o3_min = data.loc[data['O3 Mean'] == data['O3 Mean'].min(), 'City']\n",
    "o3_min.get(o3_min.index[0])"
   ]
  },
  {
   "cell_type": "code",
   "execution_count": 27,
   "metadata": {},
   "outputs": [
    {
     "data": {
      "text/html": [
       "<div>\n",
       "<style scoped>\n",
       "    .dataframe tbody tr th:only-of-type {\n",
       "        vertical-align: middle;\n",
       "    }\n",
       "\n",
       "    .dataframe tbody tr th {\n",
       "        vertical-align: top;\n",
       "    }\n",
       "\n",
       "    .dataframe thead th {\n",
       "        text-align: right;\n",
       "    }\n",
       "</style>\n",
       "<table border=\"1\" class=\"dataframe\">\n",
       "  <thead>\n",
       "    <tr style=\"text-align: right;\">\n",
       "      <th></th>\n",
       "      <th>O3 Mean</th>\n",
       "      <th>City</th>\n",
       "    </tr>\n",
       "  </thead>\n",
       "  <tbody>\n",
       "    <tr>\n",
       "      <th>64926</th>\n",
       "      <td>0.079458</td>\n",
       "      <td>New York</td>\n",
       "    </tr>\n",
       "  </tbody>\n",
       "</table>\n",
       "</div>"
      ],
      "text/plain": [
       "        O3 Mean      City\n",
       "64926  0.079458  New York"
      ]
     },
     "execution_count": 27,
     "metadata": {},
     "output_type": "execute_result"
    }
   ],
   "source": [
    "data_in_order_o3 = data[['O3 Mean', 'City']].sort_values(by='O3 Mean', ascending=False)\n",
    "data_in_order_o3.head(1)"
   ]
  },
  {
   "cell_type": "code",
   "execution_count": 31,
   "metadata": {},
   "outputs": [
    {
     "data": {
      "text/html": [
       "<div>\n",
       "<style scoped>\n",
       "    .dataframe tbody tr th:only-of-type {\n",
       "        vertical-align: middle;\n",
       "    }\n",
       "\n",
       "    .dataframe tbody tr th {\n",
       "        vertical-align: top;\n",
       "    }\n",
       "\n",
       "    .dataframe thead th {\n",
       "        text-align: right;\n",
       "    }\n",
       "</style>\n",
       "<table border=\"1\" class=\"dataframe\">\n",
       "  <thead>\n",
       "    <tr style=\"text-align: right;\">\n",
       "      <th></th>\n",
       "      <th>O3 Mean</th>\n",
       "      <th>City</th>\n",
       "    </tr>\n",
       "  </thead>\n",
       "  <tbody>\n",
       "    <tr>\n",
       "      <th>591987</th>\n",
       "      <td>0.0</td>\n",
       "      <td>New York</td>\n",
       "    </tr>\n",
       "  </tbody>\n",
       "</table>\n",
       "</div>"
      ],
      "text/plain": [
       "        O3 Mean      City\n",
       "591987      0.0  New York"
      ]
     },
     "execution_count": 31,
     "metadata": {},
     "output_type": "execute_result"
    }
   ],
   "source": [
    "data_in_order_o3 = data[['O3 Mean', 'City']].sort_values(by='O3 Mean', ascending=False)\n",
    "data_in_order_o3.tail(1)"
   ]
  },
  {
   "cell_type": "code",
   "execution_count": 32,
   "metadata": {},
   "outputs": [
    {
     "data": {
      "text/plain": [
       "<matplotlib.axes._subplots.AxesSubplot at 0x20a7df95c70>"
      ]
     },
     "execution_count": 32,
     "metadata": {},
     "output_type": "execute_result"
    },
    {
     "data": {
      "image/png": "[encoded data removed]",
      "text/plain": [
       "<Figure size 720x432 with 1 Axes>"
      ]
     },
     "metadata": {
      "needs_background": "light"
     },
     "output_type": "display_data"
    }
   ],
   "source": [
    "data.plot(kind='scatter', x='O3 Mean', y='City', figsize=(10,6))"
   ]
  },
  {
   "cell_type": "markdown",
   "metadata": {},
   "source": [
    "<h1>Checking SO2 data</h1>"
   ]
  },
  {
   "cell_type": "code",
   "execution_count": 33,
   "metadata": {},
   "outputs": [
    {
     "data": {
      "text/plain": [
       "53.5"
      ]
     },
     "execution_count": 33,
     "metadata": {},
     "output_type": "execute_result"
    }
   ],
   "source": [
    "so2_max = data['SO2 Mean'].max()\n",
    "so2_max"
   ]
  },
  {
   "cell_type": "code",
   "execution_count": 39,
   "metadata": {},
   "outputs": [
    {
     "data": {
      "text/plain": [
       "-1.7285709999999999"
      ]
     },
     "execution_count": 39,
     "metadata": {},
     "output_type": "execute_result"
    }
   ],
   "source": [
    "so2_min = data['SO2 Mean'].min()\n",
    "so2_min"
   ]
  },
  {
   "cell_type": "code",
   "execution_count": 34,
   "metadata": {},
   "outputs": [
    {
     "data": {
      "text/plain": [
       "'New York'"
      ]
     },
     "execution_count": 34,
     "metadata": {},
     "output_type": "execute_result"
    }
   ],
   "source": [
    "so2_max = data.loc[data['SO2 Mean'] == data['SO2 Mean'].max(), 'City']\n",
    "so2_max.get(so2_max.index[0])"
   ]
  },
  {
   "cell_type": "code",
   "execution_count": 35,
   "metadata": {},
   "outputs": [
    {
     "data": {
      "text/plain": [
       "'Houston'"
      ]
     },
     "execution_count": 35,
     "metadata": {},
     "output_type": "execute_result"
    }
   ],
   "source": [
    "so2_min = data.loc[data['SO2 Mean'] == data['SO2 Mean'].min(), 'City']\n",
    "so2_min.get(so2_min.index[0])"
   ]
  },
  {
   "cell_type": "code",
   "execution_count": 36,
   "metadata": {},
   "outputs": [
    {
     "data": {
      "text/html": [
       "<div>\n",
       "<style scoped>\n",
       "    .dataframe tbody tr th:only-of-type {\n",
       "        vertical-align: middle;\n",
       "    }\n",
       "\n",
       "    .dataframe tbody tr th {\n",
       "        vertical-align: top;\n",
       "    }\n",
       "\n",
       "    .dataframe thead th {\n",
       "        text-align: right;\n",
       "    }\n",
       "</style>\n",
       "<table border=\"1\" class=\"dataframe\">\n",
       "  <thead>\n",
       "    <tr style=\"text-align: right;\">\n",
       "      <th></th>\n",
       "      <th>SO2 Mean</th>\n",
       "      <th>City</th>\n",
       "    </tr>\n",
       "  </thead>\n",
       "  <tbody>\n",
       "    <tr>\n",
       "      <th>154682</th>\n",
       "      <td>53.5</td>\n",
       "      <td>New York</td>\n",
       "    </tr>\n",
       "  </tbody>\n",
       "</table>\n",
       "</div>"
      ],
      "text/plain": [
       "        SO2 Mean      City\n",
       "154682      53.5  New York"
      ]
     },
     "execution_count": 36,
     "metadata": {},
     "output_type": "execute_result"
    }
   ],
   "source": [
    "data_in_order_so2 = data[['SO2 Mean', 'City']].sort_values(by='SO2 Mean', ascending=False)\n",
    "data_in_order_so2.head(1)"
   ]
  },
  {
   "cell_type": "code",
   "execution_count": 37,
   "metadata": {},
   "outputs": [
    {
     "data": {
      "text/html": [
       "<div>\n",
       "<style scoped>\n",
       "    .dataframe tbody tr th:only-of-type {\n",
       "        vertical-align: middle;\n",
       "    }\n",
       "\n",
       "    .dataframe tbody tr th {\n",
       "        vertical-align: top;\n",
       "    }\n",
       "\n",
       "    .dataframe thead th {\n",
       "        text-align: right;\n",
       "    }\n",
       "</style>\n",
       "<table border=\"1\" class=\"dataframe\">\n",
       "  <thead>\n",
       "    <tr style=\"text-align: right;\">\n",
       "      <th></th>\n",
       "      <th>SO2 Mean</th>\n",
       "      <th>City</th>\n",
       "    </tr>\n",
       "  </thead>\n",
       "  <tbody>\n",
       "    <tr>\n",
       "      <th>1711591</th>\n",
       "      <td>-1.728571</td>\n",
       "      <td>Houston</td>\n",
       "    </tr>\n",
       "  </tbody>\n",
       "</table>\n",
       "</div>"
      ],
      "text/plain": [
       "         SO2 Mean     City\n",
       "1711591 -1.728571  Houston"
      ]
     },
     "execution_count": 37,
     "metadata": {},
     "output_type": "execute_result"
    }
   ],
   "source": [
    "data_in_order_so2 = data[['SO2 Mean', 'City']].sort_values(by='SO2 Mean', ascending=False)\n",
    "data_in_order_so2.tail(1)"
   ]
  },
  {
   "cell_type": "code",
   "execution_count": 38,
   "metadata": {},
   "outputs": [
    {
     "data": {
      "text/plain": [
       "<matplotlib.axes._subplots.AxesSubplot at 0x20a7de721c0>"
      ]
     },
     "execution_count": 38,
     "metadata": {},
     "output_type": "execute_result"
    },
    {
     "data": {
      "image/png": "[encoded data removed]",
      "text/plain": [
       "<Figure size 720x432 with 1 Axes>"
      ]
     },
     "metadata": {
      "needs_background": "light"
     },
     "output_type": "display_data"
    }
   ],
   "source": [
    "data.plot(kind='scatter', x='SO2 Mean', y='City', figsize=(10,6))"
   ]
  },
  {
   "cell_type": "markdown",
   "metadata": {},
   "source": [
    "<h1>Checking CO data</h1>"
   ]
  },
  {
   "cell_type": "code",
   "execution_count": 42,
   "metadata": {},
   "outputs": [
    {
     "data": {
      "text/plain": [
       "4.2466669999999995"
      ]
     },
     "execution_count": 42,
     "metadata": {},
     "output_type": "execute_result"
    }
   ],
   "source": [
    "co_max = data['CO Mean'].max()\n",
    "co_max"
   ]
  },
  {
   "cell_type": "code",
   "execution_count": 43,
   "metadata": {},
   "outputs": [
    {
     "data": {
      "text/plain": [
       "-0.4"
      ]
     },
     "execution_count": 43,
     "metadata": {},
     "output_type": "execute_result"
    }
   ],
   "source": [
    "co_min = data['CO Mean'].min()\n",
    "co_min"
   ]
  },
  {
   "cell_type": "code",
   "execution_count": 44,
   "metadata": {},
   "outputs": [
    {
     "data": {
      "text/plain": [
       "'Houston'"
      ]
     },
     "execution_count": 44,
     "metadata": {},
     "output_type": "execute_result"
    }
   ],
   "source": [
    "co_max = data.loc[data['CO Mean'] == data['CO Mean'].max(), 'City']\n",
    "co_max.get(co_max.index[0])"
   ]
  },
  {
   "cell_type": "code",
   "execution_count": 45,
   "metadata": {},
   "outputs": [
    {
     "data": {
      "text/plain": [
       "'Los Angeles'"
      ]
     },
     "execution_count": 45,
     "metadata": {},
     "output_type": "execute_result"
    }
   ],
   "source": [
    "co_min = data.loc[data['CO Mean'] == data['CO Mean'].min(), 'City']\n",
    "co_min.get(co_min.index[0])"
   ]
  },
  {
   "cell_type": "code",
   "execution_count": 46,
   "metadata": {},
   "outputs": [
    {
     "data": {
      "text/html": [
       "<div>\n",
       "<style scoped>\n",
       "    .dataframe tbody tr th:only-of-type {\n",
       "        vertical-align: middle;\n",
       "    }\n",
       "\n",
       "    .dataframe tbody tr th {\n",
       "        vertical-align: top;\n",
       "    }\n",
       "\n",
       "    .dataframe thead th {\n",
       "        text-align: right;\n",
       "    }\n",
       "</style>\n",
       "<table border=\"1\" class=\"dataframe\">\n",
       "  <thead>\n",
       "    <tr style=\"text-align: right;\">\n",
       "      <th></th>\n",
       "      <th>CO Mean</th>\n",
       "      <th>City</th>\n",
       "    </tr>\n",
       "  </thead>\n",
       "  <tbody>\n",
       "    <tr>\n",
       "      <th>360928</th>\n",
       "      <td>4.246667</td>\n",
       "      <td>Houston</td>\n",
       "    </tr>\n",
       "  </tbody>\n",
       "</table>\n",
       "</div>"
      ],
      "text/plain": [
       "         CO Mean     City\n",
       "360928  4.246667  Houston"
      ]
     },
     "execution_count": 46,
     "metadata": {},
     "output_type": "execute_result"
    }
   ],
   "source": [
    "data_in_order_co = data[['CO Mean', 'City']].sort_values(by='CO Mean', ascending=False)\n",
    "data_in_order_co.head(1)"
   ]
  },
  {
   "cell_type": "code",
   "execution_count": 47,
   "metadata": {},
   "outputs": [
    {
     "data": {
      "text/html": [
       "<div>\n",
       "<style scoped>\n",
       "    .dataframe tbody tr th:only-of-type {\n",
       "        vertical-align: middle;\n",
       "    }\n",
       "\n",
       "    .dataframe tbody tr th {\n",
       "        vertical-align: top;\n",
       "    }\n",
       "\n",
       "    .dataframe thead th {\n",
       "        text-align: right;\n",
       "    }\n",
       "</style>\n",
       "<table border=\"1\" class=\"dataframe\">\n",
       "  <thead>\n",
       "    <tr style=\"text-align: right;\">\n",
       "      <th></th>\n",
       "      <th>CO Mean</th>\n",
       "      <th>City</th>\n",
       "    </tr>\n",
       "  </thead>\n",
       "  <tbody>\n",
       "    <tr>\n",
       "      <th>1619193</th>\n",
       "      <td>-0.4</td>\n",
       "      <td>Los Angeles</td>\n",
       "    </tr>\n",
       "  </tbody>\n",
       "</table>\n",
       "</div>"
      ],
      "text/plain": [
       "         CO Mean         City\n",
       "1619193     -0.4  Los Angeles"
      ]
     },
     "execution_count": 47,
     "metadata": {},
     "output_type": "execute_result"
    }
   ],
   "source": [
    "data_in_order_co = data[['CO Mean', 'City']].sort_values(by='CO Mean', ascending=False)\n",
    "data_in_order_co.tail(1)"
   ]
  },
  {
   "cell_type": "code",
   "execution_count": 48,
   "metadata": {},
   "outputs": [
    {
     "data": {
      "text/plain": [
       "<matplotlib.axes._subplots.AxesSubplot at 0x20a7de8bd30>"
      ]
     },
     "execution_count": 48,
     "metadata": {},
     "output_type": "execute_result"
    },
    {
     "data": {
      "image/png": "[encoded data removed]",
      "text/plain": [
       "<Figure size 720x432 with 1 Axes>"
      ]
     },
     "metadata": {
      "needs_background": "light"
     },
     "output_type": "display_data"
    }
   ],
   "source": [
    "data.plot(kind='scatter', x='CO Mean', y='City', figsize=(10,6))"
   ]
  },
  {
   "cell_type": "code",
   "execution_count": null,
   "metadata": {},
   "outputs": [],
   "source": []
  }
 ],
 "metadata": {
  "kernelspec": {
   "display_name": "Python 3.8.1 64-bit",
   "language": "python",
   "name": "python38164bita1828b5594684926a6374e23c22bc525"
  },
  "language_info": {
   "codemirror_mode": {
    "name": "ipython",
    "version": 3
   },
   "file_extension": ".py",
   "mimetype": "text/x-python",
   "name": "python",
   "nbconvert_exporter": "python",
   "pygments_lexer": "ipython3",
   "version": "3.8.1"
  }
 },
 "nbformat": 4,
 "nbformat_minor": 4
}
