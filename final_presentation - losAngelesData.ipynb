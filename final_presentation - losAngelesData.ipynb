{
 "cells": [
  {
   "cell_type": "markdown",
   "metadata": {},
   "source": [
    "<h1 style=\"color: blue; text-align:center;\">LINEAR REGRESSION - Los Angeles</h1>\n",
    "<p>Predicting temperatures according to pollution gases</p>"
   ]
  },
  {
   "cell_type": "markdown",
   "metadata": {},
   "source": [
    "<h3>1. Importing Libraries</h3>"
   ]
  },
  {
   "cell_type": "code",
   "execution_count": 1,
   "metadata": {},
   "outputs": [],
   "source": [
    "import pandas as pd\n",
    "import numpy as np\n",
    "import matplotlib.pyplot as plt\n",
    "%matplotlib inline"
   ]
  },
  {
   "cell_type": "markdown",
   "metadata": {},
   "source": [
    "<h3>2. Reading the data</h3>"
   ]
  },
  {
   "cell_type": "code",
   "execution_count": 2,
   "metadata": {},
   "outputs": [
    {
     "data": {
      "text/html": [
       "<div>\n",
       "<style scoped>\n",
       "    .dataframe tbody tr th:only-of-type {\n",
       "        vertical-align: middle;\n",
       "    }\n",
       "\n",
       "    .dataframe tbody tr th {\n",
       "        vertical-align: top;\n",
       "    }\n",
       "\n",
       "    .dataframe thead th {\n",
       "        text-align: right;\n",
       "    }\n",
       "</style>\n",
       "<table border=\"1\" class=\"dataframe\">\n",
       "  <thead>\n",
       "    <tr style=\"text-align: right;\">\n",
       "      <th></th>\n",
       "      <th>Unnamed: 0</th>\n",
       "      <th>NO2</th>\n",
       "      <th>SO2</th>\n",
       "      <th>CO</th>\n",
       "      <th>O3</th>\n",
       "      <th>Temperature</th>\n",
       "    </tr>\n",
       "  </thead>\n",
       "  <tbody>\n",
       "    <tr>\n",
       "      <th>0</th>\n",
       "      <td>2000</td>\n",
       "      <td>40.1056</td>\n",
       "      <td>1.2726</td>\n",
       "      <td>1.0665</td>\n",
       "      <td>0.0177</td>\n",
       "      <td>62.4</td>\n",
       "    </tr>\n",
       "    <tr>\n",
       "      <th>1</th>\n",
       "      <td>2001</td>\n",
       "      <td>37.9475</td>\n",
       "      <td>2.4532</td>\n",
       "      <td>1.1439</td>\n",
       "      <td>0.0189</td>\n",
       "      <td>61.1</td>\n",
       "    </tr>\n",
       "    <tr>\n",
       "      <th>2</th>\n",
       "      <td>2002</td>\n",
       "      <td>31.6259</td>\n",
       "      <td>2.3950</td>\n",
       "      <td>0.9490</td>\n",
       "      <td>0.0167</td>\n",
       "      <td>59.5</td>\n",
       "    </tr>\n",
       "    <tr>\n",
       "      <th>3</th>\n",
       "      <td>2003</td>\n",
       "      <td>33.6259</td>\n",
       "      <td>2.0295</td>\n",
       "      <td>0.9590</td>\n",
       "      <td>0.0187</td>\n",
       "      <td>61.7</td>\n",
       "    </tr>\n",
       "    <tr>\n",
       "      <th>4</th>\n",
       "      <td>2004</td>\n",
       "      <td>25.1765</td>\n",
       "      <td>2.6180</td>\n",
       "      <td>0.5942</td>\n",
       "      <td>0.0281</td>\n",
       "      <td>62.6</td>\n",
       "    </tr>\n",
       "  </tbody>\n",
       "</table>\n",
       "</div>"
      ],
      "text/plain": [
       "   Unnamed: 0      NO2     SO2      CO      O3  Temperature\n",
       "0        2000  40.1056  1.2726  1.0665  0.0177         62.4\n",
       "1        2001  37.9475  2.4532  1.1439  0.0189         61.1\n",
       "2        2002  31.6259  2.3950  0.9490  0.0167         59.5\n",
       "3        2003  33.6259  2.0295  0.9590  0.0187         61.7\n",
       "4        2004  25.1765  2.6180  0.5942  0.0281         62.6"
      ]
     },
     "execution_count": 2,
     "metadata": {},
     "output_type": "execute_result"
    }
   ],
   "source": [
    "data = pd.read_csv(\"data/los_angeles_data.csv\")\n",
    "data.head()"
   ]
  },
  {
   "cell_type": "markdown",
   "metadata": {},
   "source": [
    "<h3>3. Analyzing the data</h3>"
   ]
  },
  {
   "cell_type": "code",
   "execution_count": 3,
   "metadata": {},
   "outputs": [
    {
     "data": {
      "text/plain": [
       "(16, 6)"
      ]
     },
     "execution_count": 3,
     "metadata": {},
     "output_type": "execute_result"
    }
   ],
   "source": [
    "data.shape"
   ]
  },
  {
   "cell_type": "code",
   "execution_count": 4,
   "metadata": {},
   "outputs": [
    {
     "data": {
      "text/html": [
       "<div>\n",
       "<style scoped>\n",
       "    .dataframe tbody tr th:only-of-type {\n",
       "        vertical-align: middle;\n",
       "    }\n",
       "\n",
       "    .dataframe tbody tr th {\n",
       "        vertical-align: top;\n",
       "    }\n",
       "\n",
       "    .dataframe thead th {\n",
       "        text-align: right;\n",
       "    }\n",
       "</style>\n",
       "<table border=\"1\" class=\"dataframe\">\n",
       "  <thead>\n",
       "    <tr style=\"text-align: right;\">\n",
       "      <th></th>\n",
       "      <th>Unnamed: 0</th>\n",
       "      <th>NO2</th>\n",
       "      <th>SO2</th>\n",
       "      <th>CO</th>\n",
       "      <th>O3</th>\n",
       "      <th>Temperature</th>\n",
       "    </tr>\n",
       "  </thead>\n",
       "  <tbody>\n",
       "    <tr>\n",
       "      <th>count</th>\n",
       "      <td>16.000000</td>\n",
       "      <td>16.000000</td>\n",
       "      <td>16.000000</td>\n",
       "      <td>16.000000</td>\n",
       "      <td>16.000000</td>\n",
       "      <td>16.000000</td>\n",
       "    </tr>\n",
       "    <tr>\n",
       "      <th>mean</th>\n",
       "      <td>2007.500000</td>\n",
       "      <td>24.284512</td>\n",
       "      <td>1.390219</td>\n",
       "      <td>0.600575</td>\n",
       "      <td>0.022550</td>\n",
       "      <td>62.306250</td>\n",
       "    </tr>\n",
       "    <tr>\n",
       "      <th>std</th>\n",
       "      <td>4.760952</td>\n",
       "      <td>7.293196</td>\n",
       "      <td>1.064331</td>\n",
       "      <td>0.266688</td>\n",
       "      <td>0.003264</td>\n",
       "      <td>1.403077</td>\n",
       "    </tr>\n",
       "    <tr>\n",
       "      <th>min</th>\n",
       "      <td>2000.000000</td>\n",
       "      <td>18.146700</td>\n",
       "      <td>0.265700</td>\n",
       "      <td>0.377000</td>\n",
       "      <td>0.016700</td>\n",
       "      <td>59.500000</td>\n",
       "    </tr>\n",
       "    <tr>\n",
       "      <th>25%</th>\n",
       "      <td>2003.750000</td>\n",
       "      <td>19.575750</td>\n",
       "      <td>0.369900</td>\n",
       "      <td>0.409975</td>\n",
       "      <td>0.021450</td>\n",
       "      <td>61.525000</td>\n",
       "    </tr>\n",
       "    <tr>\n",
       "      <th>50%</th>\n",
       "      <td>2007.500000</td>\n",
       "      <td>20.947250</td>\n",
       "      <td>1.151200</td>\n",
       "      <td>0.492000</td>\n",
       "      <td>0.022750</td>\n",
       "      <td>62.350000</td>\n",
       "    </tr>\n",
       "    <tr>\n",
       "      <th>75%</th>\n",
       "      <td>2011.250000</td>\n",
       "      <td>26.788850</td>\n",
       "      <td>2.120875</td>\n",
       "      <td>0.682900</td>\n",
       "      <td>0.023800</td>\n",
       "      <td>62.775000</td>\n",
       "    </tr>\n",
       "    <tr>\n",
       "      <th>max</th>\n",
       "      <td>2015.000000</td>\n",
       "      <td>40.105600</td>\n",
       "      <td>3.715700</td>\n",
       "      <td>1.143900</td>\n",
       "      <td>0.028100</td>\n",
       "      <td>65.300000</td>\n",
       "    </tr>\n",
       "  </tbody>\n",
       "</table>\n",
       "</div>"
      ],
      "text/plain": [
       "        Unnamed: 0        NO2        SO2         CO         O3  Temperature\n",
       "count    16.000000  16.000000  16.000000  16.000000  16.000000    16.000000\n",
       "mean   2007.500000  24.284512   1.390219   0.600575   0.022550    62.306250\n",
       "std       4.760952   7.293196   1.064331   0.266688   0.003264     1.403077\n",
       "min    2000.000000  18.146700   0.265700   0.377000   0.016700    59.500000\n",
       "25%    2003.750000  19.575750   0.369900   0.409975   0.021450    61.525000\n",
       "50%    2007.500000  20.947250   1.151200   0.492000   0.022750    62.350000\n",
       "75%    2011.250000  26.788850   2.120875   0.682900   0.023800    62.775000\n",
       "max    2015.000000  40.105600   3.715700   1.143900   0.028100    65.300000"
      ]
     },
     "execution_count": 4,
     "metadata": {},
     "output_type": "execute_result"
    }
   ],
   "source": [
    "data.describe()"
   ]
  },
  {
   "cell_type": "code",
   "execution_count": 5,
   "metadata": {},
   "outputs": [
    {
     "name": "stdout",
     "output_type": "stream",
     "text": [
      "<class 'pandas.core.frame.DataFrame'>\n",
      "RangeIndex: 16 entries, 0 to 15\n",
      "Data columns (total 6 columns):\n",
      " #   Column       Non-Null Count  Dtype  \n",
      "---  ------       --------------  -----  \n",
      " 0   Unnamed: 0   16 non-null     int64  \n",
      " 1   NO2          16 non-null     float64\n",
      " 2   SO2          16 non-null     float64\n",
      " 3   CO           16 non-null     float64\n",
      " 4   O3           16 non-null     float64\n",
      " 5   Temperature  16 non-null     float64\n",
      "dtypes: float64(5), int64(1)\n",
      "memory usage: 896.0 bytes\n"
     ]
    }
   ],
   "source": [
    "data.info()"
   ]
  },
  {
   "cell_type": "code",
   "execution_count": 6,
   "metadata": {},
   "outputs": [
    {
     "data": {
      "text/plain": [
       "Unnamed: 0     0\n",
       "NO2            0\n",
       "SO2            0\n",
       "CO             0\n",
       "O3             0\n",
       "Temperature    0\n",
       "dtype: int64"
      ]
     },
     "execution_count": 6,
     "metadata": {},
     "output_type": "execute_result"
    }
   ],
   "source": [
    "data.isna().sum()"
   ]
  },
  {
   "cell_type": "markdown",
   "metadata": {},
   "source": [
    "<h3>4. Cleaning the data</h3>"
   ]
  },
  {
   "cell_type": "code",
   "execution_count": 8,
   "metadata": {},
   "outputs": [
    {
     "data": {
      "text/html": [
       "<div>\n",
       "<style scoped>\n",
       "    .dataframe tbody tr th:only-of-type {\n",
       "        vertical-align: middle;\n",
       "    }\n",
       "\n",
       "    .dataframe tbody tr th {\n",
       "        vertical-align: top;\n",
       "    }\n",
       "\n",
       "    .dataframe thead th {\n",
       "        text-align: right;\n",
       "    }\n",
       "</style>\n",
       "<table border=\"1\" class=\"dataframe\">\n",
       "  <thead>\n",
       "    <tr style=\"text-align: right;\">\n",
       "      <th></th>\n",
       "      <th>NO2</th>\n",
       "      <th>SO2</th>\n",
       "      <th>CO</th>\n",
       "      <th>O3</th>\n",
       "      <th>Temperature</th>\n",
       "    </tr>\n",
       "  </thead>\n",
       "  <tbody>\n",
       "    <tr>\n",
       "      <th>2000</th>\n",
       "      <td>40.1056</td>\n",
       "      <td>1.2726</td>\n",
       "      <td>1.0665</td>\n",
       "      <td>0.0177</td>\n",
       "      <td>62.4</td>\n",
       "    </tr>\n",
       "    <tr>\n",
       "      <th>2001</th>\n",
       "      <td>37.9475</td>\n",
       "      <td>2.4532</td>\n",
       "      <td>1.1439</td>\n",
       "      <td>0.0189</td>\n",
       "      <td>61.1</td>\n",
       "    </tr>\n",
       "    <tr>\n",
       "      <th>2002</th>\n",
       "      <td>31.6259</td>\n",
       "      <td>2.3950</td>\n",
       "      <td>0.9490</td>\n",
       "      <td>0.0167</td>\n",
       "      <td>59.5</td>\n",
       "    </tr>\n",
       "    <tr>\n",
       "      <th>2003</th>\n",
       "      <td>33.6259</td>\n",
       "      <td>2.0295</td>\n",
       "      <td>0.9590</td>\n",
       "      <td>0.0187</td>\n",
       "      <td>61.7</td>\n",
       "    </tr>\n",
       "    <tr>\n",
       "      <th>2004</th>\n",
       "      <td>25.1765</td>\n",
       "      <td>2.6180</td>\n",
       "      <td>0.5942</td>\n",
       "      <td>0.0281</td>\n",
       "      <td>62.6</td>\n",
       "    </tr>\n",
       "    <tr>\n",
       "      <th>2005</th>\n",
       "      <td>20.0479</td>\n",
       "      <td>3.7157</td>\n",
       "      <td>0.4351</td>\n",
       "      <td>0.0234</td>\n",
       "      <td>62.3</td>\n",
       "    </tr>\n",
       "    <tr>\n",
       "      <th>2006</th>\n",
       "      <td>21.9860</td>\n",
       "      <td>1.9429</td>\n",
       "      <td>0.3837</td>\n",
       "      <td>0.0223</td>\n",
       "      <td>63.0</td>\n",
       "    </tr>\n",
       "    <tr>\n",
       "      <th>2007</th>\n",
       "      <td>21.4902</td>\n",
       "      <td>1.8018</td>\n",
       "      <td>0.3841</td>\n",
       "      <td>0.0238</td>\n",
       "      <td>61.6</td>\n",
       "    </tr>\n",
       "    <tr>\n",
       "      <th>2008</th>\n",
       "      <td>20.4043</td>\n",
       "      <td>0.9937</td>\n",
       "      <td>0.3770</td>\n",
       "      <td>0.0238</td>\n",
       "      <td>62.5</td>\n",
       "    </tr>\n",
       "    <tr>\n",
       "      <th>2009</th>\n",
       "      <td>21.8176</td>\n",
       "      <td>1.0298</td>\n",
       "      <td>0.5203</td>\n",
       "      <td>0.0229</td>\n",
       "      <td>61.7</td>\n",
       "    </tr>\n",
       "    <tr>\n",
       "      <th>2010</th>\n",
       "      <td>18.6410</td>\n",
       "      <td>0.4666</td>\n",
       "      <td>0.4491</td>\n",
       "      <td>0.0226</td>\n",
       "      <td>61.3</td>\n",
       "    </tr>\n",
       "    <tr>\n",
       "      <th>2011</th>\n",
       "      <td>20.0272</td>\n",
       "      <td>0.2991</td>\n",
       "      <td>0.4169</td>\n",
       "      <td>0.0223</td>\n",
       "      <td>61.3</td>\n",
       "    </tr>\n",
       "    <tr>\n",
       "      <th>2012</th>\n",
       "      <td>19.8121</td>\n",
       "      <td>0.3935</td>\n",
       "      <td>0.5572</td>\n",
       "      <td>0.0224</td>\n",
       "      <td>62.7</td>\n",
       "    </tr>\n",
       "    <tr>\n",
       "      <th>2013</th>\n",
       "      <td>18.8667</td>\n",
       "      <td>0.2902</td>\n",
       "      <td>0.4844</td>\n",
       "      <td>0.0235</td>\n",
       "      <td>63.0</td>\n",
       "    </tr>\n",
       "    <tr>\n",
       "      <th>2014</th>\n",
       "      <td>18.8311</td>\n",
       "      <td>0.2657</td>\n",
       "      <td>0.4996</td>\n",
       "      <td>0.0261</td>\n",
       "      <td>65.3</td>\n",
       "    </tr>\n",
       "    <tr>\n",
       "      <th>2015</th>\n",
       "      <td>18.1467</td>\n",
       "      <td>0.2762</td>\n",
       "      <td>0.3892</td>\n",
       "      <td>0.0276</td>\n",
       "      <td>64.9</td>\n",
       "    </tr>\n",
       "  </tbody>\n",
       "</table>\n",
       "</div>"
      ],
      "text/plain": [
       "          NO2     SO2      CO      O3  Temperature\n",
       "2000  40.1056  1.2726  1.0665  0.0177         62.4\n",
       "2001  37.9475  2.4532  1.1439  0.0189         61.1\n",
       "2002  31.6259  2.3950  0.9490  0.0167         59.5\n",
       "2003  33.6259  2.0295  0.9590  0.0187         61.7\n",
       "2004  25.1765  2.6180  0.5942  0.0281         62.6\n",
       "2005  20.0479  3.7157  0.4351  0.0234         62.3\n",
       "2006  21.9860  1.9429  0.3837  0.0223         63.0\n",
       "2007  21.4902  1.8018  0.3841  0.0238         61.6\n",
       "2008  20.4043  0.9937  0.3770  0.0238         62.5\n",
       "2009  21.8176  1.0298  0.5203  0.0229         61.7\n",
       "2010  18.6410  0.4666  0.4491  0.0226         61.3\n",
       "2011  20.0272  0.2991  0.4169  0.0223         61.3\n",
       "2012  19.8121  0.3935  0.5572  0.0224         62.7\n",
       "2013  18.8667  0.2902  0.4844  0.0235         63.0\n",
       "2014  18.8311  0.2657  0.4996  0.0261         65.3\n",
       "2015  18.1467  0.2762  0.3892  0.0276         64.9"
      ]
     },
     "execution_count": 8,
     "metadata": {},
     "output_type": "execute_result"
    }
   ],
   "source": [
    "data = data.set_index(\"Unnamed: 0\")\n",
    "data.index.name = None\n",
    "data"
   ]
  },
  {
   "cell_type": "code",
   "execution_count": 9,
   "metadata": {},
   "outputs": [
    {
     "data": {
      "text/html": [
       "<div>\n",
       "<style scoped>\n",
       "    .dataframe tbody tr th:only-of-type {\n",
       "        vertical-align: middle;\n",
       "    }\n",
       "\n",
       "    .dataframe tbody tr th {\n",
       "        vertical-align: top;\n",
       "    }\n",
       "\n",
       "    .dataframe thead th {\n",
       "        text-align: right;\n",
       "    }\n",
       "</style>\n",
       "<table border=\"1\" class=\"dataframe\">\n",
       "  <thead>\n",
       "    <tr style=\"text-align: right;\">\n",
       "      <th></th>\n",
       "      <th>NO2</th>\n",
       "      <th>SO2</th>\n",
       "      <th>CO</th>\n",
       "      <th>O3</th>\n",
       "      <th>Temperature</th>\n",
       "    </tr>\n",
       "  </thead>\n",
       "  <tbody>\n",
       "    <tr>\n",
       "      <th>NO2</th>\n",
       "      <td>1.000000</td>\n",
       "      <td>0.433771</td>\n",
       "      <td>0.955387</td>\n",
       "      <td>-0.747276</td>\n",
       "      <td>-0.440765</td>\n",
       "    </tr>\n",
       "    <tr>\n",
       "      <th>SO2</th>\n",
       "      <td>0.433771</td>\n",
       "      <td>1.000000</td>\n",
       "      <td>0.347214</td>\n",
       "      <td>-0.256947</td>\n",
       "      <td>-0.415365</td>\n",
       "    </tr>\n",
       "    <tr>\n",
       "      <th>CO</th>\n",
       "      <td>0.955387</td>\n",
       "      <td>0.347214</td>\n",
       "      <td>1.000000</td>\n",
       "      <td>-0.754538</td>\n",
       "      <td>-0.429522</td>\n",
       "    </tr>\n",
       "    <tr>\n",
       "      <th>O3</th>\n",
       "      <td>-0.747276</td>\n",
       "      <td>-0.256947</td>\n",
       "      <td>-0.754538</td>\n",
       "      <td>1.000000</td>\n",
       "      <td>0.696165</td>\n",
       "    </tr>\n",
       "    <tr>\n",
       "      <th>Temperature</th>\n",
       "      <td>-0.440765</td>\n",
       "      <td>-0.415365</td>\n",
       "      <td>-0.429522</td>\n",
       "      <td>0.696165</td>\n",
       "      <td>1.000000</td>\n",
       "    </tr>\n",
       "  </tbody>\n",
       "</table>\n",
       "</div>"
      ],
      "text/plain": [
       "                  NO2       SO2        CO        O3  Temperature\n",
       "NO2          1.000000  0.433771  0.955387 -0.747276    -0.440765\n",
       "SO2          0.433771  1.000000  0.347214 -0.256947    -0.415365\n",
       "CO           0.955387  0.347214  1.000000 -0.754538    -0.429522\n",
       "O3          -0.747276 -0.256947 -0.754538  1.000000     0.696165\n",
       "Temperature -0.440765 -0.415365 -0.429522  0.696165     1.000000"
      ]
     },
     "execution_count": 9,
     "metadata": {},
     "output_type": "execute_result"
    }
   ],
   "source": [
    "data.corr()"
   ]
  },
  {
   "cell_type": "markdown",
   "metadata": {},
   "source": [
    "<h3>5. Checking relation between data</h3>"
   ]
  },
  {
   "cell_type": "code",
   "execution_count": 10,
   "metadata": {},
   "outputs": [
    {
     "data": {
      "image/png": "[encoded data removed]",
      "text/plain": [
       "<Figure size 864x576 with 6 Axes>"
      ]
     },
     "metadata": {
      "needs_background": "light"
     },
     "output_type": "display_data"
    }
   ],
   "source": [
    "data[['NO2','SO2','CO','O3', 'Temperature']].hist(figsize=(12, 8))\n",
    "plt.show()"
   ]
  },
  {
   "cell_type": "code",
   "execution_count": 12,
   "metadata": {},
   "outputs": [
    {
     "data": {
      "image/png": "[encoded data removed]",
      "text/plain": [
       "<Figure size 864x1008 with 4 Axes>"
      ]
     },
     "metadata": {
      "needs_background": "light"
     },
     "output_type": "display_data"
    }
   ],
   "source": [
    "fig, axs = plt.subplots(4, figsize=(12,14))\n",
    "\n",
    "axs[0].scatter(data['Temperature'], data['NO2'])\n",
    "axs[0].set_title(\"Relation: Temperature X NO2\")\n",
    "axs[0].set_xlabel(\"Temperature\")\n",
    "axs[0].set_ylabel(\"NO2\")\n",
    "\n",
    "axs[1].scatter(data['Temperature'], data['SO2'])\n",
    "axs[1].set_title(\"Relation: Temperature X SO2\")\n",
    "axs[1].set_xlabel(\"Temperature\")\n",
    "axs[1].set_ylabel(\"SO2\")\n",
    "\n",
    "axs[2].scatter(data['Temperature'], data['CO'])\n",
    "axs[2].set_title(\"Relation: Temperature X CO\")\n",
    "axs[2].set_xlabel(\"Temperature\")\n",
    "axs[2].set_ylabel(\"CO\")\n",
    "\n",
    "axs[3].scatter(data['Temperature'], data['O3'])\n",
    "axs[3].set_title(\"Relation: Temperature X O3\")\n",
    "axs[3].set_xlabel(\"Temperature\")\n",
    "axs[3].set_ylabel(\"O3\")\n",
    "\n",
    "plt.show()"
   ]
  },
  {
   "cell_type": "markdown",
   "metadata": {},
   "source": [
    "<h3>6. Splitting the data</h3>"
   ]
  },
  {
   "cell_type": "code",
   "execution_count": 13,
   "metadata": {},
   "outputs": [
    {
     "data": {
      "text/plain": [
       "array([[4.01056e+01, 1.06650e+00, 1.27260e+00, 1.77000e-02],\n",
       "       [3.79475e+01, 1.14390e+00, 2.45320e+00, 1.89000e-02],\n",
       "       [3.16259e+01, 9.49000e-01, 2.39500e+00, 1.67000e-02],\n",
       "       [3.36259e+01, 9.59000e-01, 2.02950e+00, 1.87000e-02],\n",
       "       [2.51765e+01, 5.94200e-01, 2.61800e+00, 2.81000e-02],\n",
       "       [2.00479e+01, 4.35100e-01, 3.71570e+00, 2.34000e-02],\n",
       "       [2.19860e+01, 3.83700e-01, 1.94290e+00, 2.23000e-02],\n",
       "       [2.14902e+01, 3.84100e-01, 1.80180e+00, 2.38000e-02],\n",
       "       [2.04043e+01, 3.77000e-01, 9.93700e-01, 2.38000e-02],\n",
       "       [2.18176e+01, 5.20300e-01, 1.02980e+00, 2.29000e-02],\n",
       "       [1.86410e+01, 4.49100e-01, 4.66600e-01, 2.26000e-02],\n",
       "       [2.00272e+01, 4.16900e-01, 2.99100e-01, 2.23000e-02],\n",
       "       [1.98121e+01, 5.57200e-01, 3.93500e-01, 2.24000e-02],\n",
       "       [1.88667e+01, 4.84400e-01, 2.90200e-01, 2.35000e-02],\n",
       "       [1.88311e+01, 4.99600e-01, 2.65700e-01, 2.61000e-02],\n",
       "       [1.81467e+01, 3.89200e-01, 2.76200e-01, 2.76000e-02]])"
      ]
     },
     "execution_count": 13,
     "metadata": {},
     "output_type": "execute_result"
    }
   ],
   "source": [
    "X = data[['NO2', 'CO', 'SO2', 'O3']].values\n",
    "X"
   ]
  },
  {
   "cell_type": "code",
   "execution_count": 14,
   "metadata": {},
   "outputs": [
    {
     "data": {
      "text/plain": [
       "array([62.4, 61.1, 59.5, 61.7, 62.6, 62.3, 63. , 61.6, 62.5, 61.7, 61.3,\n",
       "       61.3, 62.7, 63. , 65.3, 64.9])"
      ]
     },
     "execution_count": 14,
     "metadata": {},
     "output_type": "execute_result"
    }
   ],
   "source": [
    "y = data['Temperature'].values\n",
    "y"
   ]
  },
  {
   "cell_type": "code",
   "execution_count": 15,
   "metadata": {},
   "outputs": [],
   "source": [
    "# Split the dataset using Scikit learn\n",
    "\n",
    "from sklearn.model_selection import train_test_split\n",
    "\n",
    "X_train, X_test, y_train, y_test= train_test_split(X, y, test_size=.10, random_state=15)"
   ]
  },
  {
   "cell_type": "code",
   "execution_count": 16,
   "metadata": {},
   "outputs": [
    {
     "name": "stdout",
     "output_type": "stream",
     "text": [
      "(14, 4)\n",
      "(2, 4)\n",
      "(14,)\n",
      "(2,)\n"
     ]
    }
   ],
   "source": [
    "print(X_train.shape)\n",
    "print(X_test.shape)\n",
    "print(y_train.shape)\n",
    "print(y_test.shape)"
   ]
  },
  {
   "cell_type": "markdown",
   "metadata": {},
   "source": [
    "<h3>7. Creating the Model</h3>"
   ]
  },
  {
   "cell_type": "code",
   "execution_count": 17,
   "metadata": {},
   "outputs": [
    {
     "data": {
      "text/plain": [
       "LinearRegression(copy_X=True, fit_intercept=True, n_jobs=None, normalize=False)"
      ]
     },
     "execution_count": 17,
     "metadata": {},
     "output_type": "execute_result"
    }
   ],
   "source": [
    "# Building your model using any of the algorithms, using Scikit learn library\n",
    "\n",
    "from sklearn.linear_model import LinearRegression\n",
    "\n",
    "model = LinearRegression()\n",
    "model.fit(X_train, y_train)"
   ]
  },
  {
   "cell_type": "markdown",
   "metadata": {},
   "source": [
    "<h3>8. Making Prediction</h3>"
   ]
  },
  {
   "cell_type": "code",
   "execution_count": 21,
   "metadata": {
    "scrolled": true
   },
   "outputs": [
    {
     "data": {
      "text/plain": [
       "array([61.34301104, 59.72230704, 62.02273035, 62.06574137, 65.21449087,\n",
       "       61.77340047, 62.718755  , 61.97571522, 61.6894748 , 62.73447984,\n",
       "       64.44089858, 62.16434241, 61.94202724, 62.79262576])"
      ]
     },
     "execution_count": 21,
     "metadata": {},
     "output_type": "execute_result"
    }
   ],
   "source": [
    "# Predict/Classify the model for test and training data sets\n",
    "\n",
    "y_pred = model.predict(X_train)   \n",
    "y_pred"
   ]
  },
  {
   "cell_type": "code",
   "execution_count": 22,
   "metadata": {
    "scrolled": false
   },
   "outputs": [
    {
     "data": {
      "text/html": [
       "<div>\n",
       "<style scoped>\n",
       "    .dataframe tbody tr th:only-of-type {\n",
       "        vertical-align: middle;\n",
       "    }\n",
       "\n",
       "    .dataframe tbody tr th {\n",
       "        vertical-align: top;\n",
       "    }\n",
       "\n",
       "    .dataframe thead th {\n",
       "        text-align: right;\n",
       "    }\n",
       "</style>\n",
       "<table border=\"1\" class=\"dataframe\">\n",
       "  <thead>\n",
       "    <tr style=\"text-align: right;\">\n",
       "      <th></th>\n",
       "      <th>ACTUAL</th>\n",
       "      <th>PREDICTED</th>\n",
       "    </tr>\n",
       "  </thead>\n",
       "  <tbody>\n",
       "    <tr>\n",
       "      <th>0</th>\n",
       "      <td>61.7</td>\n",
       "      <td>61.3</td>\n",
       "    </tr>\n",
       "    <tr>\n",
       "      <th>1</th>\n",
       "      <td>59.5</td>\n",
       "      <td>59.7</td>\n",
       "    </tr>\n",
       "    <tr>\n",
       "      <th>2</th>\n",
       "      <td>61.3</td>\n",
       "      <td>62.0</td>\n",
       "    </tr>\n",
       "    <tr>\n",
       "      <th>3</th>\n",
       "      <td>61.1</td>\n",
       "      <td>62.1</td>\n",
       "    </tr>\n",
       "    <tr>\n",
       "      <th>4</th>\n",
       "      <td>64.9</td>\n",
       "      <td>65.2</td>\n",
       "    </tr>\n",
       "    <tr>\n",
       "      <th>5</th>\n",
       "      <td>63.0</td>\n",
       "      <td>61.8</td>\n",
       "    </tr>\n",
       "    <tr>\n",
       "      <th>6</th>\n",
       "      <td>63.0</td>\n",
       "      <td>62.7</td>\n",
       "    </tr>\n",
       "    <tr>\n",
       "      <th>7</th>\n",
       "      <td>61.3</td>\n",
       "      <td>62.0</td>\n",
       "    </tr>\n",
       "    <tr>\n",
       "      <th>8</th>\n",
       "      <td>62.4</td>\n",
       "      <td>61.7</td>\n",
       "    </tr>\n",
       "    <tr>\n",
       "      <th>9</th>\n",
       "      <td>61.6</td>\n",
       "      <td>62.7</td>\n",
       "    </tr>\n",
       "    <tr>\n",
       "      <th>10</th>\n",
       "      <td>65.3</td>\n",
       "      <td>64.4</td>\n",
       "    </tr>\n",
       "    <tr>\n",
       "      <th>11</th>\n",
       "      <td>62.7</td>\n",
       "      <td>62.2</td>\n",
       "    </tr>\n",
       "    <tr>\n",
       "      <th>12</th>\n",
       "      <td>62.3</td>\n",
       "      <td>61.9</td>\n",
       "    </tr>\n",
       "    <tr>\n",
       "      <th>13</th>\n",
       "      <td>62.5</td>\n",
       "      <td>62.8</td>\n",
       "    </tr>\n",
       "  </tbody>\n",
       "</table>\n",
       "</div>"
      ],
      "text/plain": [
       "    ACTUAL  PREDICTED\n",
       "0     61.7       61.3\n",
       "1     59.5       59.7\n",
       "2     61.3       62.0\n",
       "3     61.1       62.1\n",
       "4     64.9       65.2\n",
       "5     63.0       61.8\n",
       "6     63.0       62.7\n",
       "7     61.3       62.0\n",
       "8     62.4       61.7\n",
       "9     61.6       62.7\n",
       "10    65.3       64.4\n",
       "11    62.7       62.2\n",
       "12    62.3       61.9\n",
       "13    62.5       62.8"
      ]
     },
     "execution_count": 22,
     "metadata": {},
     "output_type": "execute_result"
    }
   ],
   "source": [
    "# Evaluate the model. Compare train and test and evaluate model.\n",
    "\n",
    "data_predicted = pd.DataFrame({'ACTUAL': y_train, 'PREDICTED': np.around(y_pred, decimals=1)})\n",
    "data_predicted"
   ]
  },
  {
   "cell_type": "markdown",
   "metadata": {},
   "source": [
    "<h3>9. Showing Results</h3>"
   ]
  },
  {
   "cell_type": "code",
   "execution_count": 24,
   "metadata": {},
   "outputs": [
    {
     "data": {
      "text/plain": [
       "0.7660137161885681"
      ]
     },
     "execution_count": 24,
     "metadata": {},
     "output_type": "execute_result"
    }
   ],
   "source": [
    "# Provide comparative results, like Accuracy, Score. \n",
    "\n",
    "model.score(X_train, y_train)"
   ]
  },
  {
   "cell_type": "code",
   "execution_count": 28,
   "metadata": {},
   "outputs": [],
   "source": [
    "y_train_round = np.around(y_train, 0)\n",
    "y_pred_round = np.around(y_pred, 0)"
   ]
  },
  {
   "cell_type": "code",
   "execution_count": 29,
   "metadata": {},
   "outputs": [
    {
     "data": {
      "text/plain": [
       "0.35714285714285715"
      ]
     },
     "execution_count": 29,
     "metadata": {},
     "output_type": "execute_result"
    }
   ],
   "source": [
    "from sklearn.metrics import accuracy_score\n",
    "\n",
    "accuracy_score(y_train_round, y_pred_round)"
   ]
  },
  {
   "cell_type": "code",
   "execution_count": 31,
   "metadata": {},
   "outputs": [
    {
     "data": {
      "text/plain": [
       "array([ 4.61240399e-01, -8.02908898e-01, -1.06935237e+00, -1.95418787e-02,\n",
       "       -6.92390580e+01])"
      ]
     },
     "execution_count": 31,
     "metadata": {},
     "output_type": "execute_result"
    }
   ],
   "source": [
    "from sklearn.model_selection import cross_val_score\n",
    "\n",
    "scores_train = cross_val_score(model, X_train, y_train)\n",
    "scores_train"
   ]
  },
  {
   "cell_type": "code",
   "execution_count": 32,
   "metadata": {},
   "outputs": [
    {
     "data": {
      "text/plain": [
       "[('NO2', 0.10805979738386873),\n",
       " ('CO', 1.196673422350195),\n",
       " ('SO2', -0.22767533884774382),\n",
       " ('O3', 654.7011673726919)]"
      ]
     },
     "execution_count": 32,
     "metadata": {},
     "output_type": "execute_result"
    }
   ],
   "source": [
    "list(zip(['NO2', 'CO', 'SO2', 'O3'], model.coef_))"
   ]
  },
  {
   "cell_type": "code",
   "execution_count": 33,
   "metadata": {},
   "outputs": [
    {
     "data": {
      "text/plain": [
       "44.78094856034956"
      ]
     },
     "execution_count": 33,
     "metadata": {},
     "output_type": "execute_result"
    }
   ],
   "source": [
    "model.intercept_"
   ]
  },
  {
   "cell_type": "code",
   "execution_count": 34,
   "metadata": {},
   "outputs": [
    {
     "data": {
      "text/plain": [
       "0.7660137161885681"
      ]
     },
     "execution_count": 34,
     "metadata": {},
     "output_type": "execute_result"
    }
   ],
   "source": [
    "# Use the Scikit Learn to call functions r2_score, Mean Squared Error for train and testdata set.\n",
    "\n",
    "from sklearn.metrics import r2_score\n",
    "\n",
    "r2_score(y_train, y_pred)"
   ]
  },
  {
   "cell_type": "code",
   "execution_count": 35,
   "metadata": {},
   "outputs": [
    {
     "data": {
      "text/plain": [
       "0.4858319288770428"
      ]
     },
     "execution_count": 35,
     "metadata": {},
     "output_type": "execute_result"
    }
   ],
   "source": [
    "from sklearn.metrics import mean_squared_error\n",
    "\n",
    "mean_squared_error(y_pred, y_train)"
   ]
  },
  {
   "cell_type": "code",
   "execution_count": 36,
   "metadata": {},
   "outputs": [
    {
     "data": {
      "text/plain": [
       "array([[1, 0, 0, 0, 0, 0],\n",
       "       [0, 0, 3, 0, 0, 0],\n",
       "       [0, 1, 2, 2, 0, 0],\n",
       "       [0, 0, 2, 1, 0, 0],\n",
       "       [0, 0, 0, 0, 0, 0],\n",
       "       [0, 0, 0, 0, 1, 1]], dtype=int64)"
      ]
     },
     "execution_count": 36,
     "metadata": {},
     "output_type": "execute_result"
    }
   ],
   "source": [
    "# Design and explain your Confusion matrix. Also infer if your model is overfitting or underfitting.\n",
    "\n",
    "from sklearn.metrics import confusion_matrix\n",
    "\n",
    "confusion_matrix(y_train_round, y_pred_round)"
   ]
  },
  {
   "cell_type": "code",
   "execution_count": null,
   "metadata": {},
   "outputs": [],
   "source": []
  }
 ],
 "metadata": {
  "kernelspec": {
   "display_name": "Python 3.8.1 64-bit",
   "language": "python",
   "name": "python38164bita1828b5594684926a6374e23c22bc525"
  },
  "language_info": {
   "codemirror_mode": {
    "name": "ipython",
    "version": 3
   },
   "file_extension": ".py",
   "mimetype": "text/x-python",
   "name": "python",
   "nbconvert_exporter": "python",
   "pygments_lexer": "ipython3",
   "version": "3.8.1"
  }
 },
 "nbformat": 4,
 "nbformat_minor": 4
}
