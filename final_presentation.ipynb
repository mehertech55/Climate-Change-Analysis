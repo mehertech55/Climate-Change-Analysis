{
 "cells": [
  {
   "cell_type": "markdown",
   "metadata": {},
   "source": [
    "<h1>=== Importing Libraries ===</h1>"
   ]
  },
  {
   "cell_type": "code",
   "execution_count": 247,
   "metadata": {},
   "outputs": [],
   "source": [
    "import pandas as pd\n",
    "import numpy as np\n",
    "import matplotlib.pyplot as plt"
   ]
  },
  {
   "cell_type": "code",
   "execution_count": 248,
   "metadata": {},
   "outputs": [
    {
     "data": {
      "text/html": [
       "<div>\n",
       "<style scoped>\n",
       "    .dataframe tbody tr th:only-of-type {\n",
       "        vertical-align: middle;\n",
       "    }\n",
       "\n",
       "    .dataframe tbody tr th {\n",
       "        vertical-align: top;\n",
       "    }\n",
       "\n",
       "    .dataframe thead th {\n",
       "        text-align: right;\n",
       "    }\n",
       "</style>\n",
       "<table border=\"1\" class=\"dataframe\">\n",
       "  <thead>\n",
       "    <tr style=\"text-align: right;\">\n",
       "      <th></th>\n",
       "      <th>name</th>\n",
       "      <th>selling_price</th>\n",
       "      <th>year</th>\n",
       "      <th>seller_type</th>\n",
       "      <th>owner</th>\n",
       "      <th>km_driven</th>\n",
       "      <th>ex_showroom_price</th>\n",
       "    </tr>\n",
       "  </thead>\n",
       "  <tbody>\n",
       "    <tr>\n",
       "      <th>0</th>\n",
       "      <td>Royal Enfield Classic 350</td>\n",
       "      <td>175000</td>\n",
       "      <td>2019</td>\n",
       "      <td>Individual</td>\n",
       "      <td>1st owner</td>\n",
       "      <td>350</td>\n",
       "      <td>NaN</td>\n",
       "    </tr>\n",
       "    <tr>\n",
       "      <th>1</th>\n",
       "      <td>Honda Dio</td>\n",
       "      <td>45000</td>\n",
       "      <td>2017</td>\n",
       "      <td>Individual</td>\n",
       "      <td>1st owner</td>\n",
       "      <td>5650</td>\n",
       "      <td>NaN</td>\n",
       "    </tr>\n",
       "    <tr>\n",
       "      <th>2</th>\n",
       "      <td>Royal Enfield Classic Gunmetal Grey</td>\n",
       "      <td>150000</td>\n",
       "      <td>2018</td>\n",
       "      <td>Individual</td>\n",
       "      <td>1st owner</td>\n",
       "      <td>12000</td>\n",
       "      <td>148114.0</td>\n",
       "    </tr>\n",
       "    <tr>\n",
       "      <th>3</th>\n",
       "      <td>Yamaha Fazer FI V 2.0 [2016-2018]</td>\n",
       "      <td>65000</td>\n",
       "      <td>2015</td>\n",
       "      <td>Individual</td>\n",
       "      <td>1st owner</td>\n",
       "      <td>23000</td>\n",
       "      <td>89643.0</td>\n",
       "    </tr>\n",
       "    <tr>\n",
       "      <th>4</th>\n",
       "      <td>Yamaha SZ [2013-2014]</td>\n",
       "      <td>20000</td>\n",
       "      <td>2011</td>\n",
       "      <td>Individual</td>\n",
       "      <td>2nd owner</td>\n",
       "      <td>21000</td>\n",
       "      <td>NaN</td>\n",
       "    </tr>\n",
       "  </tbody>\n",
       "</table>\n",
       "</div>"
      ],
      "text/plain": [
       "                                  name  selling_price  year seller_type  \\\n",
       "0            Royal Enfield Classic 350         175000  2019  Individual   \n",
       "1                            Honda Dio          45000  2017  Individual   \n",
       "2  Royal Enfield Classic Gunmetal Grey         150000  2018  Individual   \n",
       "3    Yamaha Fazer FI V 2.0 [2016-2018]          65000  2015  Individual   \n",
       "4                Yamaha SZ [2013-2014]          20000  2011  Individual   \n",
       "\n",
       "       owner  km_driven  ex_showroom_price  \n",
       "0  1st owner        350                NaN  \n",
       "1  1st owner       5650                NaN  \n",
       "2  1st owner      12000           148114.0  \n",
       "3  1st owner      23000            89643.0  \n",
       "4  2nd owner      21000                NaN  "
      ]
     },
     "execution_count": 248,
     "metadata": {},
     "output_type": "execute_result"
    }
   ],
   "source": [
    "data = pd.read_csv(\"data/BIKE DETAILS.csv\")\n",
    "data.head()"
   ]
  },
  {
   "cell_type": "code",
   "execution_count": 249,
   "metadata": {},
   "outputs": [
    {
     "data": {
      "text/html": [
       "<div>\n",
       "<style scoped>\n",
       "    .dataframe tbody tr th:only-of-type {\n",
       "        vertical-align: middle;\n",
       "    }\n",
       "\n",
       "    .dataframe tbody tr th {\n",
       "        vertical-align: top;\n",
       "    }\n",
       "\n",
       "    .dataframe thead th {\n",
       "        text-align: right;\n",
       "    }\n",
       "</style>\n",
       "<table border=\"1\" class=\"dataframe\">\n",
       "  <thead>\n",
       "    <tr style=\"text-align: right;\">\n",
       "      <th></th>\n",
       "      <th>name</th>\n",
       "      <th>selling_price</th>\n",
       "      <th>year</th>\n",
       "      <th>seller_type</th>\n",
       "      <th>owner</th>\n",
       "      <th>km_driven</th>\n",
       "      <th>ex_showroom_price</th>\n",
       "    </tr>\n",
       "  </thead>\n",
       "  <tbody>\n",
       "    <tr>\n",
       "      <th>1056</th>\n",
       "      <td>Activa 3g</td>\n",
       "      <td>17000</td>\n",
       "      <td>2010</td>\n",
       "      <td>Individual</td>\n",
       "      <td>1st owner</td>\n",
       "      <td>500000</td>\n",
       "      <td>52000.0</td>\n",
       "    </tr>\n",
       "    <tr>\n",
       "      <th>1057</th>\n",
       "      <td>Honda CB twister</td>\n",
       "      <td>16000</td>\n",
       "      <td>2012</td>\n",
       "      <td>Individual</td>\n",
       "      <td>1st owner</td>\n",
       "      <td>33000</td>\n",
       "      <td>51000.0</td>\n",
       "    </tr>\n",
       "    <tr>\n",
       "      <th>1058</th>\n",
       "      <td>Bajaj Discover 125</td>\n",
       "      <td>15000</td>\n",
       "      <td>2013</td>\n",
       "      <td>Individual</td>\n",
       "      <td>2nd owner</td>\n",
       "      <td>35000</td>\n",
       "      <td>57000.0</td>\n",
       "    </tr>\n",
       "    <tr>\n",
       "      <th>1059</th>\n",
       "      <td>Honda CB Shine</td>\n",
       "      <td>12000</td>\n",
       "      <td>2009</td>\n",
       "      <td>Individual</td>\n",
       "      <td>1st owner</td>\n",
       "      <td>53000</td>\n",
       "      <td>58000.0</td>\n",
       "    </tr>\n",
       "    <tr>\n",
       "      <th>1060</th>\n",
       "      <td>Bajaj Pulsar 150</td>\n",
       "      <td>10000</td>\n",
       "      <td>2008</td>\n",
       "      <td>Individual</td>\n",
       "      <td>1st owner</td>\n",
       "      <td>92233</td>\n",
       "      <td>75000.0</td>\n",
       "    </tr>\n",
       "  </tbody>\n",
       "</table>\n",
       "</div>"
      ],
      "text/plain": [
       "                    name  selling_price  year seller_type      owner  \\\n",
       "1056           Activa 3g          17000  2010  Individual  1st owner   \n",
       "1057    Honda CB twister          16000  2012  Individual  1st owner   \n",
       "1058  Bajaj Discover 125          15000  2013  Individual  2nd owner   \n",
       "1059      Honda CB Shine          12000  2009  Individual  1st owner   \n",
       "1060    Bajaj Pulsar 150          10000  2008  Individual  1st owner   \n",
       "\n",
       "      km_driven  ex_showroom_price  \n",
       "1056     500000            52000.0  \n",
       "1057      33000            51000.0  \n",
       "1058      35000            57000.0  \n",
       "1059      53000            58000.0  \n",
       "1060      92233            75000.0  "
      ]
     },
     "execution_count": 249,
     "metadata": {},
     "output_type": "execute_result"
    }
   ],
   "source": [
    "data.tail()"
   ]
  },
  {
   "cell_type": "code",
   "execution_count": 250,
   "metadata": {},
   "outputs": [
    {
     "data": {
      "text/plain": [
       "(1061, 7)"
      ]
     },
     "execution_count": 250,
     "metadata": {},
     "output_type": "execute_result"
    }
   ],
   "source": [
    "data.shape"
   ]
  },
  {
   "cell_type": "code",
   "execution_count": 251,
   "metadata": {},
   "outputs": [
    {
     "data": {
      "text/html": [
       "<div>\n",
       "<style scoped>\n",
       "    .dataframe tbody tr th:only-of-type {\n",
       "        vertical-align: middle;\n",
       "    }\n",
       "\n",
       "    .dataframe tbody tr th {\n",
       "        vertical-align: top;\n",
       "    }\n",
       "\n",
       "    .dataframe thead th {\n",
       "        text-align: right;\n",
       "    }\n",
       "</style>\n",
       "<table border=\"1\" class=\"dataframe\">\n",
       "  <thead>\n",
       "    <tr style=\"text-align: right;\">\n",
       "      <th></th>\n",
       "      <th>selling_price</th>\n",
       "      <th>year</th>\n",
       "      <th>km_driven</th>\n",
       "      <th>ex_showroom_price</th>\n",
       "    </tr>\n",
       "  </thead>\n",
       "  <tbody>\n",
       "    <tr>\n",
       "      <th>count</th>\n",
       "      <td>1061.000000</td>\n",
       "      <td>1061.000000</td>\n",
       "      <td>1061.000000</td>\n",
       "      <td>6.260000e+02</td>\n",
       "    </tr>\n",
       "    <tr>\n",
       "      <th>mean</th>\n",
       "      <td>59638.151744</td>\n",
       "      <td>2013.867107</td>\n",
       "      <td>34359.833176</td>\n",
       "      <td>8.795871e+04</td>\n",
       "    </tr>\n",
       "    <tr>\n",
       "      <th>std</th>\n",
       "      <td>56304.291973</td>\n",
       "      <td>4.301191</td>\n",
       "      <td>51623.152702</td>\n",
       "      <td>7.749659e+04</td>\n",
       "    </tr>\n",
       "    <tr>\n",
       "      <th>min</th>\n",
       "      <td>5000.000000</td>\n",
       "      <td>1988.000000</td>\n",
       "      <td>350.000000</td>\n",
       "      <td>3.049000e+04</td>\n",
       "    </tr>\n",
       "    <tr>\n",
       "      <th>25%</th>\n",
       "      <td>28000.000000</td>\n",
       "      <td>2011.000000</td>\n",
       "      <td>13500.000000</td>\n",
       "      <td>5.485200e+04</td>\n",
       "    </tr>\n",
       "    <tr>\n",
       "      <th>50%</th>\n",
       "      <td>45000.000000</td>\n",
       "      <td>2015.000000</td>\n",
       "      <td>25000.000000</td>\n",
       "      <td>7.275250e+04</td>\n",
       "    </tr>\n",
       "    <tr>\n",
       "      <th>75%</th>\n",
       "      <td>70000.000000</td>\n",
       "      <td>2017.000000</td>\n",
       "      <td>43000.000000</td>\n",
       "      <td>8.703150e+04</td>\n",
       "    </tr>\n",
       "    <tr>\n",
       "      <th>max</th>\n",
       "      <td>760000.000000</td>\n",
       "      <td>2020.000000</td>\n",
       "      <td>880000.000000</td>\n",
       "      <td>1.278000e+06</td>\n",
       "    </tr>\n",
       "  </tbody>\n",
       "</table>\n",
       "</div>"
      ],
      "text/plain": [
       "       selling_price         year      km_driven  ex_showroom_price\n",
       "count    1061.000000  1061.000000    1061.000000       6.260000e+02\n",
       "mean    59638.151744  2013.867107   34359.833176       8.795871e+04\n",
       "std     56304.291973     4.301191   51623.152702       7.749659e+04\n",
       "min      5000.000000  1988.000000     350.000000       3.049000e+04\n",
       "25%     28000.000000  2011.000000   13500.000000       5.485200e+04\n",
       "50%     45000.000000  2015.000000   25000.000000       7.275250e+04\n",
       "75%     70000.000000  2017.000000   43000.000000       8.703150e+04\n",
       "max    760000.000000  2020.000000  880000.000000       1.278000e+06"
      ]
     },
     "execution_count": 251,
     "metadata": {},
     "output_type": "execute_result"
    }
   ],
   "source": [
    "data.describe()"
   ]
  },
  {
   "cell_type": "code",
   "execution_count": 252,
   "metadata": {},
   "outputs": [
    {
     "name": "stdout",
     "output_type": "stream",
     "text": [
      "<class 'pandas.core.frame.DataFrame'>\n",
      "RangeIndex: 1061 entries, 0 to 1060\n",
      "Data columns (total 7 columns):\n",
      " #   Column             Non-Null Count  Dtype  \n",
      "---  ------             --------------  -----  \n",
      " 0   name               1061 non-null   object \n",
      " 1   selling_price      1061 non-null   int64  \n",
      " 2   year               1061 non-null   int64  \n",
      " 3   seller_type        1061 non-null   object \n",
      " 4   owner              1061 non-null   object \n",
      " 5   km_driven          1061 non-null   int64  \n",
      " 6   ex_showroom_price  626 non-null    float64\n",
      "dtypes: float64(1), int64(3), object(3)\n",
      "memory usage: 58.1+ KB\n"
     ]
    }
   ],
   "source": [
    "data.info()"
   ]
  },
  {
   "cell_type": "code",
   "execution_count": 253,
   "metadata": {},
   "outputs": [
    {
     "data": {
      "text/plain": [
       "name                   0\n",
       "selling_price          0\n",
       "year                   0\n",
       "seller_type            0\n",
       "owner                  0\n",
       "km_driven              0\n",
       "ex_showroom_price    435\n",
       "dtype: int64"
      ]
     },
     "execution_count": 253,
     "metadata": {},
     "output_type": "execute_result"
    }
   ],
   "source": [
    "data.isna().sum()"
   ]
  },
  {
   "cell_type": "code",
   "execution_count": 254,
   "metadata": {},
   "outputs": [],
   "source": [
    "data = data.dropna()"
   ]
  },
  {
   "cell_type": "code",
   "execution_count": 255,
   "metadata": {},
   "outputs": [
    {
     "data": {
      "text/plain": [
       "name                 0\n",
       "selling_price        0\n",
       "year                 0\n",
       "seller_type          0\n",
       "owner                0\n",
       "km_driven            0\n",
       "ex_showroom_price    0\n",
       "dtype: int64"
      ]
     },
     "execution_count": 255,
     "metadata": {},
     "output_type": "execute_result"
    }
   ],
   "source": [
    "data.isna().sum()"
   ]
  },
  {
   "cell_type": "code",
   "execution_count": 208,
   "metadata": {},
   "outputs": [
    {
     "data": {
      "text/plain": [
       "Index(['Car Name', 'Displacement', 'Enginee', 'HP', 'Transmission',\n",
       "       'Top-speed', 'Cost'],\n",
       "      dtype='object')"
      ]
     },
     "execution_count": 208,
     "metadata": {},
     "output_type": "execute_result"
    }
   ],
   "source": [
    "data.columns"
   ]
  },
  {
   "cell_type": "code",
   "execution_count": 256,
   "metadata": {},
   "outputs": [
    {
     "data": {
      "text/plain": [
       "selling_price        1.000000\n",
       "year                 0.350654\n",
       "km_driven           -0.194093\n",
       "ex_showroom_price    0.918583\n",
       "Name: selling_price, dtype: float64"
      ]
     },
     "execution_count": 256,
     "metadata": {},
     "output_type": "execute_result"
    }
   ],
   "source": [
    "data.corr()['selling_price']"
   ]
  },
  {
   "cell_type": "code",
   "execution_count": 257,
   "metadata": {},
   "outputs": [
    {
     "data": {
      "text/plain": [
       "array([[  2018.,  12000., 148114.],\n",
       "       [  2015.,  23000.,  89643.],\n",
       "       [  2010.,  60000.,  53857.],\n",
       "       ...,\n",
       "       [  2013.,  35000.,  57000.],\n",
       "       [  2009.,  53000.,  58000.],\n",
       "       [  2008.,  92233.,  75000.]])"
      ]
     },
     "execution_count": 257,
     "metadata": {},
     "output_type": "execute_result"
    }
   ],
   "source": [
    "X = data[['year', 'km_driven', 'ex_showroom_price']].values\n",
    "X"
   ]
  },
  {
   "cell_type": "code",
   "execution_count": 258,
   "metadata": {},
   "outputs": [
    {
     "data": {
      "text/plain": [
       "array([150000,  65000,  18000,  78500,  50000,  35000,  28000,  80000,\n",
       "       365000,  25000,  40000, 150000, 120000,  26000,  32000,  25000,\n",
       "        42000,  40000,  55000,  38000,  43000,  62000,  60000,  45000,\n",
       "       120000,  50000,  28000,  85000,  29900,  25000,  30000,  60000,\n",
       "        35000,  25000,  30000,  35000,  70000,  25000,  35000,  50000,\n",
       "        30000,  48000,  65000,  45000,  34000, 165000,  65000, 165000,\n",
       "        50000,  62000,  30000,  28000,  30000, 140000,  30000,  22000,\n",
       "        22989,  42000,  30000,  45000, 150000,  24999, 150000,  42000,\n",
       "        50000, 120000,  17500,  57000,  25000, 160000, 135000,  55000,\n",
       "        20000,  55000,  50000,  60000,  40000,  15000, 750000, 190000,\n",
       "       130000,  54786,  35000,  45000, 100000,  20000,  60000,  22000,\n",
       "        30000,  28000,  40000, 100000,  48000,  20000,  23000,  15000,\n",
       "        35000,  25000,  45000,  25000,  35000,  25000,  25000,  75000,\n",
       "        47999,  25000,  50000,  65000,  60000,  20000,  27000,  35000,\n",
       "        35000,  40000,  56000,  30000,  40000,  40000, 130000,  45000,\n",
       "        42000, 170000,  38000,  60000,  35000,  50000,  25000,  58000,\n",
       "        40000,  28000,  50000,  56000,  35000,  95000,  40000,  30000,\n",
       "        18000,  14000,  50000,  40000,  42000,  20000,  25000,  25000,\n",
       "       145000,  60000, 100000,  35000,  50000,  90000,  40000,  80000,\n",
       "        70000,  50000,  40000,  75000,  50000,  25000, 130000, 425000,\n",
       "       125000,  45000,  85000, 760000,  48000,  40000,  37000,  38000,\n",
       "        55000,  18000,  42000, 330000,  35000,  29500, 110000,  69000,\n",
       "        30000,  30000,  20000,  23000, 140000,  50000,  55000,  45000,\n",
       "        35000, 300000,  50000,  60000,  50000,  62000, 125000,  50000,\n",
       "        40000,  41000,  35000,  38000,  50000,  40000,  70000,  26500,\n",
       "        38000,  60000,  78000,  58000, 130000,  20000, 150000,  32000,\n",
       "        50000,  60000,  20000,  70000,  35000,  95000,  65000,  45000,\n",
       "        60000, 160000,  40000,  40000,  56000,  22000,  36000, 100000,\n",
       "        42000,  45000, 145000,  50000, 140000, 180000,  42000,  16000,\n",
       "        40000,  38000,  85000,  28000,  37000, 135000,  20000,  65000,\n",
       "        50000,  60000,  38000,  87000,  35000, 100000,  30000,  25000,\n",
       "       195000,  14900,  48000,  40000,  45000,  25000,  10000,  22000,\n",
       "        45000,  75000,  24000,  45000,  55000,  10000,  55000,  35000,\n",
       "        23000, 150000,  35000,  50000,  25000,  45000,  25000,  30000,\n",
       "        60000,  32000,  30000,  75000,  38000,  47000,  22000,  65000,\n",
       "        30000,  80000,  40000,  20000,  65000,  85000, 105000,  40000,\n",
       "        30000,  25000,  40000,  45000,  70000,  30000,  70000,  50000,\n",
       "        35000,  55000,  40000,  35000,  55000,  60000, 115000,  50000,\n",
       "        40000,  86000,  60000,  41000, 110000,  32000,  65000,  35000,\n",
       "        35000,  35000,  75000,  80000,  25000,  27000,  25000,  45000,\n",
       "       200000,  20100,  30000,  21000,  45000,  47000,  25000,  50000,\n",
       "        46000,  80000,  50000,  40000,  70000,  30900,  65000,  90000,\n",
       "        70000,  15000,  35000,  15000,  50000,  69000,  15000,  25000,\n",
       "        30000,  45000, 120000,  80000,  40000,  30000,  45000,  35000,\n",
       "        25000,  65000,  45000,  60000, 100000,  25000,  15000,  60000,\n",
       "        75000,  55000,  85000,  60000,  24000,  40000,  75000,  70000,\n",
       "        55000,  51000,  74000,  65000,  60000,  50000,  30000,  16600,\n",
       "        30000,  62000,  60000,  45000,  40000,  50000,  45000, 145000,\n",
       "        45000,  65000,  20000,  37000,  18000,  25000,  46000,  55000,\n",
       "        40000,  25000,  70000,  25000,  25000,  26000,  15000,  50000,\n",
       "        26500,  80000,  90000,  85000,  54000,  25000,  55000,  35000,\n",
       "        50000,  45000,  45000,  28000,  27000,  50000,  28000,   6000,\n",
       "        35000,  15000,  45000,  30000,  70000,  35000,  25000,  60000,\n",
       "        50000,  30000,  60000,  23000,  50000,  50000,  20000,  45000,\n",
       "        45000,  25000,  75000, 100000,  30000,  42000,  30000,  77000,\n",
       "        25000,  25000,  50000,  30000,  45000,  98000,  55000,  70000,\n",
       "        45000,  25000, 170000,  38000,  45000,  22000,  30000,  25000,\n",
       "        45000,  35000,  60000,  42000,  76000,  20000,  75000,  70000,\n",
       "        50000,  25000,  30000,  50000,  35000,  30000,  42000, 300000,\n",
       "       160000, 185000, 110000,  75000,  50000,  30000,  75000,  45000,\n",
       "        35000,  35000,  70000, 180000,  24000,  72000, 185000, 140000,\n",
       "        30000,  18000, 300000,  30000,  80000,  43000,  20000,  40000,\n",
       "        21000,  35000,  23000,  45000,  60000,  40000,  42000,  18000,\n",
       "        15000,  25000,  23000,  10000,  25000,  50000,  60000,  50000,\n",
       "        50000,  40000,  45000,  30000,  25000,  65000,  40000,  70000,\n",
       "        35000,  36000,  32000,  50000,  50000, 175000, 170000, 165000,\n",
       "       145000, 135000, 135000, 135000, 125000, 120000, 120000, 120000,\n",
       "       115000, 115000, 115000, 115000, 111000, 110000, 110000, 110000,\n",
       "       105000, 105000, 105000, 105000, 100000,  95000,  90000,  90000,\n",
       "        75000,  80000,  78000,  75000,  75000,  75000,  72000,  65000,\n",
       "        65000,  65000,  65000,  60000,  60000,  60000,  60000,  60000,\n",
       "        60000,  60000,  60000,  55000,  55000,  52000,  51000,  50000,\n",
       "        50000,  50000,  50000,  50000,  48000,  48000,  48000,  48000,\n",
       "        45000,  45000,  45000,  45000,  45000,  45000,  45000,  45000,\n",
       "        42000,  42000,  40000,  40000,  40000,  40000,  40000,  38000,\n",
       "        38000,  35000,  35000,  35000,  31000,  30000,  30000,  30000,\n",
       "        27000,  25000,  25000,  25000,  25000,  25000,  20000,  20000,\n",
       "        20000,  20000,  20000,  20000,  18000,  17000,  16000,  15000,\n",
       "        12000,  10000], dtype=int64)"
      ]
     },
     "execution_count": 258,
     "metadata": {},
     "output_type": "execute_result"
    }
   ],
   "source": [
    "y = data['selling_price'].values\n",
    "y"
   ]
  },
  {
   "cell_type": "code",
   "execution_count": 259,
   "metadata": {},
   "outputs": [],
   "source": [
    "from sklearn.model_selection import train_test_split\n",
    "\n",
    "X_train, X_test, y_train, y_test= train_test_split(X, y, test_size=.25, random_state=15)"
   ]
  },
  {
   "cell_type": "code",
   "execution_count": 260,
   "metadata": {},
   "outputs": [
    {
     "name": "stdout",
     "output_type": "stream",
     "text": [
      "(469, 3)\n",
      "(157, 3)\n",
      "(469,)\n",
      "(157,)\n"
     ]
    }
   ],
   "source": [
    "print(X_train.shape)\n",
    "print(X_test.shape)\n",
    "print(y_train.shape)\n",
    "print(y_test.shape)"
   ]
  },
  {
   "cell_type": "code",
   "execution_count": 261,
   "metadata": {},
   "outputs": [
    {
     "data": {
      "text/plain": [
       "LinearRegression(copy_X=True, fit_intercept=True, n_jobs=None, normalize=False)"
      ]
     },
     "execution_count": 261,
     "metadata": {},
     "output_type": "execute_result"
    }
   ],
   "source": [
    "from sklearn.linear_model import LinearRegression\n",
    "\n",
    "model = LinearRegression()\n",
    "model.fit(X_train, y_train)"
   ]
  },
  {
   "cell_type": "code",
   "execution_count": 262,
   "metadata": {
    "scrolled": true
   },
   "outputs": [
    {
     "data": {
      "text/plain": [
       "array([ 29035.64520604,  30133.0906705 ,  59639.30200789,  63748.89089724,\n",
       "        11519.66103599,  34262.39961907,    278.15488922, 131118.24268544,\n",
       "        29110.51997981,  66742.80544446,  23486.03085057,  57853.76236944,\n",
       "        32720.78426767,  93604.06227809, 127214.91688269,  41319.68039149,\n",
       "        52803.96258034,  14583.73493287, 101220.87410172,  43501.74147603,\n",
       "        46926.95944745,  35312.49620465,  22484.39570815,  19721.53046321,\n",
       "        37266.59435466,  -3906.37572613,  53406.20519367,  93606.474003  ,\n",
       "        29368.26620517,  50318.70417917,  46745.35804865,  49742.88220027,\n",
       "        48657.41474331,  41468.96201877,  45702.74761924,  60191.61029955,\n",
       "        41745.71404737,  40288.20006029,  98471.08190965,  59142.05762343,\n",
       "        56191.801354  ,  45891.14739305,  34301.39916117,  45336.98996107,\n",
       "        24379.3519588 ,  22449.05832724,  20174.37958548, 137586.75308925,\n",
       "        59257.70576197,  54695.12978773, 113239.97633596, 131583.04980266,\n",
       "        60163.17031683,  51209.2536651 ,  52037.90618491,  63588.22913089,\n",
       "        54224.76474145, -10633.96599364,  94385.13254121,  46303.4838636 ,\n",
       "       145228.68791861,  58974.06351572,  49273.9808303 ,  51147.90311923,\n",
       "        41696.77353864,  54310.27659683,  52989.97275011,  40718.40820908,\n",
       "        27002.63652566,  22354.79343756,  50013.64252436,  52140.97726545,\n",
       "        65367.0959808 , 151925.44812906,  35825.15157944,  24579.01602711,\n",
       "        75225.53126429,  22662.41226665, 243129.54111814,  48849.03383999,\n",
       "        79388.52826734,  61053.06612178,  26298.69615783,   7199.73864526,\n",
       "        25038.85338363,  66913.82271686,  58133.973724  ,  -8911.33293212,\n",
       "        24401.20620836,  44369.03200254,  43358.55677042, 195717.60825772,\n",
       "        73708.4347959 ,  65547.11330703,  15888.99114957,   5153.07462111,\n",
       "        60585.89306878,  93606.474003  ,  12043.17902165,  59725.75577095,\n",
       "        43525.8104308 ,  67841.23032811,  32295.11857121,  51885.93807803,\n",
       "       117960.06448292,  20986.5997664 ,  43581.95685758, 111143.80344884,\n",
       "        74661.06613308,  43815.21741931,  20511.49919284,   5577.26104937,\n",
       "        40993.61171054,  32841.37051288,   1558.47899378,  36354.09403061,\n",
       "        42822.85523464,  74817.38275584,  20616.04279698,  49914.49586166,\n",
       "       139707.53857602,  20206.28938508,  25136.63752349, 262419.19853158,\n",
       "        54273.01039918,  54404.40689619,  31394.97259389,  95459.10385043,\n",
       "        52735.69102995,  49870.46129321,  51757.282218  ,  91563.27748899,\n",
       "        38259.10362674,  44807.31889092,  56854.81892366,  58054.52062161,\n",
       "        27350.26141289,  63456.66371466, 170843.84891723,  91161.26795371,\n",
       "        25913.23410576, 126945.42447357,  38161.01712732,  70154.12829773,\n",
       "        29480.03818393,  60535.02216931,  62332.88206215,  66646.112598  ,\n",
       "        59970.23232449,  59078.80327805,  -7524.37439335,  17672.48482079,\n",
       "        25617.66736065, 125202.12156998,  35499.50243105,  12400.91705261,\n",
       "        73316.94565049])"
      ]
     },
     "execution_count": 262,
     "metadata": {},
     "output_type": "execute_result"
    }
   ],
   "source": [
    "y_pred = model.predict(X_test)   \n",
    "y_pred"
   ]
  },
  {
   "cell_type": "code",
   "execution_count": 263,
   "metadata": {},
   "outputs": [
    {
     "data": {
      "text/html": [
       "<div>\n",
       "<style scoped>\n",
       "    .dataframe tbody tr th:only-of-type {\n",
       "        vertical-align: middle;\n",
       "    }\n",
       "\n",
       "    .dataframe tbody tr th {\n",
       "        vertical-align: top;\n",
       "    }\n",
       "\n",
       "    .dataframe thead th {\n",
       "        text-align: right;\n",
       "    }\n",
       "</style>\n",
       "<table border=\"1\" class=\"dataframe\">\n",
       "  <thead>\n",
       "    <tr style=\"text-align: right;\">\n",
       "      <th></th>\n",
       "      <th>Actual</th>\n",
       "      <th>Predicted</th>\n",
       "    </tr>\n",
       "  </thead>\n",
       "  <tbody>\n",
       "    <tr>\n",
       "      <th>0</th>\n",
       "      <td>25000</td>\n",
       "      <td>29036.0</td>\n",
       "    </tr>\n",
       "    <tr>\n",
       "      <th>1</th>\n",
       "      <td>34000</td>\n",
       "      <td>30133.0</td>\n",
       "    </tr>\n",
       "    <tr>\n",
       "      <th>2</th>\n",
       "      <td>45000</td>\n",
       "      <td>59639.0</td>\n",
       "    </tr>\n",
       "    <tr>\n",
       "      <th>3</th>\n",
       "      <td>45000</td>\n",
       "      <td>63749.0</td>\n",
       "    </tr>\n",
       "    <tr>\n",
       "      <th>4</th>\n",
       "      <td>21000</td>\n",
       "      <td>11520.0</td>\n",
       "    </tr>\n",
       "    <tr>\n",
       "      <th>...</th>\n",
       "      <td>...</td>\n",
       "      <td>...</td>\n",
       "    </tr>\n",
       "    <tr>\n",
       "      <th>152</th>\n",
       "      <td>30000</td>\n",
       "      <td>25618.0</td>\n",
       "    </tr>\n",
       "    <tr>\n",
       "      <th>153</th>\n",
       "      <td>130000</td>\n",
       "      <td>125202.0</td>\n",
       "    </tr>\n",
       "    <tr>\n",
       "      <th>154</th>\n",
       "      <td>26000</td>\n",
       "      <td>35500.0</td>\n",
       "    </tr>\n",
       "    <tr>\n",
       "      <th>155</th>\n",
       "      <td>18000</td>\n",
       "      <td>12401.0</td>\n",
       "    </tr>\n",
       "    <tr>\n",
       "      <th>156</th>\n",
       "      <td>60000</td>\n",
       "      <td>73317.0</td>\n",
       "    </tr>\n",
       "  </tbody>\n",
       "</table>\n",
       "<p>157 rows × 2 columns</p>\n",
       "</div>"
      ],
      "text/plain": [
       "     Actual  Predicted\n",
       "0     25000    29036.0\n",
       "1     34000    30133.0\n",
       "2     45000    59639.0\n",
       "3     45000    63749.0\n",
       "4     21000    11520.0\n",
       "..      ...        ...\n",
       "152   30000    25618.0\n",
       "153  130000   125202.0\n",
       "154   26000    35500.0\n",
       "155   18000    12401.0\n",
       "156   60000    73317.0\n",
       "\n",
       "[157 rows x 2 columns]"
      ]
     },
     "execution_count": 263,
     "metadata": {},
     "output_type": "execute_result"
    }
   ],
   "source": [
    "data_predicted = pd.DataFrame({'Actual': y_test, 'Predicted': np.around(y_pred)})\n",
    "data_predicted"
   ]
  },
  {
   "cell_type": "code",
   "execution_count": 264,
   "metadata": {},
   "outputs": [
    {
     "data": {
      "text/plain": [
       "0.799620458588633"
      ]
     },
     "execution_count": 264,
     "metadata": {},
     "output_type": "execute_result"
    }
   ],
   "source": [
    "model.score(X_test, y_test)"
   ]
  },
  {
   "cell_type": "code",
   "execution_count": 265,
   "metadata": {},
   "outputs": [
    {
     "data": {
      "text/plain": [
       "array([0.86843672, 0.88405048, 0.87142325, 0.82579198, 0.77615511,\n",
       "       0.87712154, 0.87984178, 0.82529071, 0.91929895, 0.78314276])"
      ]
     },
     "execution_count": 265,
     "metadata": {},
     "output_type": "execute_result"
    }
   ],
   "source": [
    "from sklearn.model_selection import cross_val_score\n",
    "\n",
    "scores = cross_val_score(model, X_train, y_train, cv=10)\n",
    "scores"
   ]
  },
  {
   "cell_type": "code",
   "execution_count": null,
   "metadata": {},
   "outputs": [],
   "source": []
  }
 ],
 "metadata": {
  "kernelspec": {
   "display_name": "Python 3.8.1 64-bit",
   "language": "python",
   "name": "python38164bita1828b5594684926a6374e23c22bc525"
  },
  "language_info": {
   "codemirror_mode": {
    "name": "ipython",
    "version": 3
   },
   "file_extension": ".py",
   "mimetype": "text/x-python",
   "name": "python",
   "nbconvert_exporter": "python",
   "pygments_lexer": "ipython3",
   "version": "3.8.1"
  }
 },
 "nbformat": 4,
 "nbformat_minor": 4
}
