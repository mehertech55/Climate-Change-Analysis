{
 "cells": [
  {
   "cell_type": "markdown",
   "metadata": {},
   "source": [
    "<h1 style=\"color: blue; text-align:center;\">LINEAR REGRESSION - New York</h1>\n",
    "<p>Predicting temperatures according to pollution gases</p>"
   ]
  },
  {
   "cell_type": "markdown",
   "metadata": {},
   "source": [
    "<h3>1. Importing Libraries</h3>"
   ]
  },
  {
   "cell_type": "code",
   "execution_count": 1,
   "metadata": {},
   "outputs": [],
   "source": [
    "import pandas as pd\n",
    "import numpy as np\n",
    "import matplotlib.pyplot as plt\n",
    "%matplotlib inline\n",
    "import seaborn as sns"
   ]
  },
  {
   "cell_type": "markdown",
   "metadata": {},
   "source": [
    "<h3>2. Reading the data</h3>"
   ]
  },
  {
   "cell_type": "code",
   "execution_count": 2,
   "metadata": {},
   "outputs": [
    {
     "data": {
      "text/html": [
       "<div>\n",
       "<style scoped>\n",
       "    .dataframe tbody tr th:only-of-type {\n",
       "        vertical-align: middle;\n",
       "    }\n",
       "\n",
       "    .dataframe tbody tr th {\n",
       "        vertical-align: top;\n",
       "    }\n",
       "\n",
       "    .dataframe thead th {\n",
       "        text-align: right;\n",
       "    }\n",
       "</style>\n",
       "<table border=\"1\" class=\"dataframe\">\n",
       "  <thead>\n",
       "    <tr style=\"text-align: right;\">\n",
       "      <th></th>\n",
       "      <th>Unnamed: 0</th>\n",
       "      <th>NO2</th>\n",
       "      <th>SO2</th>\n",
       "      <th>CO</th>\n",
       "      <th>O3</th>\n",
       "      <th>Temperature</th>\n",
       "    </tr>\n",
       "  </thead>\n",
       "  <tbody>\n",
       "    <tr>\n",
       "      <th>0</th>\n",
       "      <td>2000</td>\n",
       "      <td>26.7193</td>\n",
       "      <td>7.4800</td>\n",
       "      <td>0.6205</td>\n",
       "      <td>0.0178</td>\n",
       "      <td>54.4</td>\n",
       "    </tr>\n",
       "    <tr>\n",
       "      <th>1</th>\n",
       "      <td>2001</td>\n",
       "      <td>28.5194</td>\n",
       "      <td>8.5596</td>\n",
       "      <td>0.6155</td>\n",
       "      <td>0.0180</td>\n",
       "      <td>56.7</td>\n",
       "    </tr>\n",
       "    <tr>\n",
       "      <th>2</th>\n",
       "      <td>2002</td>\n",
       "      <td>28.5194</td>\n",
       "      <td>8.5596</td>\n",
       "      <td>0.6155</td>\n",
       "      <td>0.0180</td>\n",
       "      <td>56.7</td>\n",
       "    </tr>\n",
       "    <tr>\n",
       "      <th>3</th>\n",
       "      <td>2003</td>\n",
       "      <td>26.7363</td>\n",
       "      <td>8.0057</td>\n",
       "      <td>0.6976</td>\n",
       "      <td>0.0174</td>\n",
       "      <td>54.4</td>\n",
       "    </tr>\n",
       "    <tr>\n",
       "      <th>4</th>\n",
       "      <td>2004</td>\n",
       "      <td>24.5736</td>\n",
       "      <td>7.0953</td>\n",
       "      <td>0.5793</td>\n",
       "      <td>0.0172</td>\n",
       "      <td>53.2</td>\n",
       "    </tr>\n",
       "  </tbody>\n",
       "</table>\n",
       "</div>"
      ],
      "text/plain": [
       "   Unnamed: 0      NO2     SO2      CO      O3  Temperature\n",
       "0        2000  26.7193  7.4800  0.6205  0.0178         54.4\n",
       "1        2001  28.5194  8.5596  0.6155  0.0180         56.7\n",
       "2        2002  28.5194  8.5596  0.6155  0.0180         56.7\n",
       "3        2003  26.7363  8.0057  0.6976  0.0174         54.4\n",
       "4        2004  24.5736  7.0953  0.5793  0.0172         53.2"
      ]
     },
     "execution_count": 2,
     "metadata": {},
     "output_type": "execute_result"
    }
   ],
   "source": [
    "data = pd.read_csv(\"data/new_york_data.csv\")\n",
    "data.head()"
   ]
  },
  {
   "cell_type": "markdown",
   "metadata": {},
   "source": [
    "<h3>3. Analyzing the data</h3>"
   ]
  },
  {
   "cell_type": "code",
   "execution_count": 3,
   "metadata": {},
   "outputs": [
    {
     "data": {
      "text/plain": [
       "(16, 6)"
      ]
     },
     "execution_count": 3,
     "metadata": {},
     "output_type": "execute_result"
    }
   ],
   "source": [
    "data.shape"
   ]
  },
  {
   "cell_type": "code",
   "execution_count": 4,
   "metadata": {},
   "outputs": [
    {
     "data": {
      "text/html": [
       "<div>\n",
       "<style scoped>\n",
       "    .dataframe tbody tr th:only-of-type {\n",
       "        vertical-align: middle;\n",
       "    }\n",
       "\n",
       "    .dataframe tbody tr th {\n",
       "        vertical-align: top;\n",
       "    }\n",
       "\n",
       "    .dataframe thead th {\n",
       "        text-align: right;\n",
       "    }\n",
       "</style>\n",
       "<table border=\"1\" class=\"dataframe\">\n",
       "  <thead>\n",
       "    <tr style=\"text-align: right;\">\n",
       "      <th></th>\n",
       "      <th>Unnamed: 0</th>\n",
       "      <th>NO2</th>\n",
       "      <th>SO2</th>\n",
       "      <th>CO</th>\n",
       "      <th>O3</th>\n",
       "      <th>Temperature</th>\n",
       "    </tr>\n",
       "  </thead>\n",
       "  <tbody>\n",
       "    <tr>\n",
       "      <th>count</th>\n",
       "      <td>16.000000</td>\n",
       "      <td>16.000000</td>\n",
       "      <td>16.000000</td>\n",
       "      <td>16.000000</td>\n",
       "      <td>16.000000</td>\n",
       "      <td>16.000000</td>\n",
       "    </tr>\n",
       "    <tr>\n",
       "      <th>mean</th>\n",
       "      <td>2007.500000</td>\n",
       "      <td>22.755331</td>\n",
       "      <td>5.191363</td>\n",
       "      <td>0.473869</td>\n",
       "      <td>0.020450</td>\n",
       "      <td>55.743750</td>\n",
       "    </tr>\n",
       "    <tr>\n",
       "      <th>std</th>\n",
       "      <td>4.760952</td>\n",
       "      <td>3.965067</td>\n",
       "      <td>2.565833</td>\n",
       "      <td>0.135203</td>\n",
       "      <td>0.002731</td>\n",
       "      <td>1.489952</td>\n",
       "    </tr>\n",
       "    <tr>\n",
       "      <th>min</th>\n",
       "      <td>2000.000000</td>\n",
       "      <td>16.920600</td>\n",
       "      <td>1.005000</td>\n",
       "      <td>0.261900</td>\n",
       "      <td>0.017200</td>\n",
       "      <td>53.200000</td>\n",
       "    </tr>\n",
       "    <tr>\n",
       "      <th>25%</th>\n",
       "      <td>2003.750000</td>\n",
       "      <td>19.307250</td>\n",
       "      <td>3.521600</td>\n",
       "      <td>0.375450</td>\n",
       "      <td>0.018000</td>\n",
       "      <td>54.400000</td>\n",
       "    </tr>\n",
       "    <tr>\n",
       "      <th>50%</th>\n",
       "      <td>2007.500000</td>\n",
       "      <td>23.188050</td>\n",
       "      <td>5.390900</td>\n",
       "      <td>0.486000</td>\n",
       "      <td>0.019400</td>\n",
       "      <td>55.750000</td>\n",
       "    </tr>\n",
       "    <tr>\n",
       "      <th>75%</th>\n",
       "      <td>2011.250000</td>\n",
       "      <td>25.963525</td>\n",
       "      <td>7.424425</td>\n",
       "      <td>0.588350</td>\n",
       "      <td>0.023425</td>\n",
       "      <td>56.700000</td>\n",
       "    </tr>\n",
       "    <tr>\n",
       "      <th>max</th>\n",
       "      <td>2015.000000</td>\n",
       "      <td>28.519400</td>\n",
       "      <td>8.559600</td>\n",
       "      <td>0.697600</td>\n",
       "      <td>0.024600</td>\n",
       "      <td>58.200000</td>\n",
       "    </tr>\n",
       "  </tbody>\n",
       "</table>\n",
       "</div>"
      ],
      "text/plain": [
       "        Unnamed: 0        NO2        SO2         CO         O3  Temperature\n",
       "count    16.000000  16.000000  16.000000  16.000000  16.000000    16.000000\n",
       "mean   2007.500000  22.755331   5.191363   0.473869   0.020450    55.743750\n",
       "std       4.760952   3.965067   2.565833   0.135203   0.002731     1.489952\n",
       "min    2000.000000  16.920600   1.005000   0.261900   0.017200    53.200000\n",
       "25%    2003.750000  19.307250   3.521600   0.375450   0.018000    54.400000\n",
       "50%    2007.500000  23.188050   5.390900   0.486000   0.019400    55.750000\n",
       "75%    2011.250000  25.963525   7.424425   0.588350   0.023425    56.700000\n",
       "max    2015.000000  28.519400   8.559600   0.697600   0.024600    58.200000"
      ]
     },
     "execution_count": 4,
     "metadata": {},
     "output_type": "execute_result"
    }
   ],
   "source": [
    "data.describe()"
   ]
  },
  {
   "cell_type": "code",
   "execution_count": 5,
   "metadata": {},
   "outputs": [
    {
     "name": "stdout",
     "output_type": "stream",
     "text": [
      "<class 'pandas.core.frame.DataFrame'>\n",
      "RangeIndex: 16 entries, 0 to 15\n",
      "Data columns (total 6 columns):\n",
      " #   Column       Non-Null Count  Dtype  \n",
      "---  ------       --------------  -----  \n",
      " 0   Unnamed: 0   16 non-null     int64  \n",
      " 1   NO2          16 non-null     float64\n",
      " 2   SO2          16 non-null     float64\n",
      " 3   CO           16 non-null     float64\n",
      " 4   O3           16 non-null     float64\n",
      " 5   Temperature  16 non-null     float64\n",
      "dtypes: float64(5), int64(1)\n",
      "memory usage: 896.0 bytes\n"
     ]
    }
   ],
   "source": [
    "data.info()"
   ]
  },
  {
   "cell_type": "code",
   "execution_count": 6,
   "metadata": {},
   "outputs": [
    {
     "data": {
      "text/plain": [
       "Unnamed: 0     0\n",
       "NO2            0\n",
       "SO2            0\n",
       "CO             0\n",
       "O3             0\n",
       "Temperature    0\n",
       "dtype: int64"
      ]
     },
     "execution_count": 6,
     "metadata": {},
     "output_type": "execute_result"
    }
   ],
   "source": [
    "data.isna().sum()"
   ]
  },
  {
   "cell_type": "markdown",
   "metadata": {},
   "source": [
    "<h3>4. Cleaning the data</h3>"
   ]
  },
  {
   "cell_type": "code",
   "execution_count": 7,
   "metadata": {},
   "outputs": [
    {
     "data": {
      "text/html": [
       "<div>\n",
       "<style scoped>\n",
       "    .dataframe tbody tr th:only-of-type {\n",
       "        vertical-align: middle;\n",
       "    }\n",
       "\n",
       "    .dataframe tbody tr th {\n",
       "        vertical-align: top;\n",
       "    }\n",
       "\n",
       "    .dataframe thead th {\n",
       "        text-align: right;\n",
       "    }\n",
       "</style>\n",
       "<table border=\"1\" class=\"dataframe\">\n",
       "  <thead>\n",
       "    <tr style=\"text-align: right;\">\n",
       "      <th></th>\n",
       "      <th>NO2</th>\n",
       "      <th>SO2</th>\n",
       "      <th>CO</th>\n",
       "      <th>O3</th>\n",
       "      <th>Temperature</th>\n",
       "    </tr>\n",
       "  </thead>\n",
       "  <tbody>\n",
       "    <tr>\n",
       "      <th>2000</th>\n",
       "      <td>26.7193</td>\n",
       "      <td>7.4800</td>\n",
       "      <td>0.6205</td>\n",
       "      <td>0.0178</td>\n",
       "      <td>54.4</td>\n",
       "    </tr>\n",
       "    <tr>\n",
       "      <th>2001</th>\n",
       "      <td>28.5194</td>\n",
       "      <td>8.5596</td>\n",
       "      <td>0.6155</td>\n",
       "      <td>0.0180</td>\n",
       "      <td>56.7</td>\n",
       "    </tr>\n",
       "    <tr>\n",
       "      <th>2002</th>\n",
       "      <td>28.5194</td>\n",
       "      <td>8.5596</td>\n",
       "      <td>0.6155</td>\n",
       "      <td>0.0180</td>\n",
       "      <td>56.7</td>\n",
       "    </tr>\n",
       "    <tr>\n",
       "      <th>2003</th>\n",
       "      <td>26.7363</td>\n",
       "      <td>8.0057</td>\n",
       "      <td>0.6976</td>\n",
       "      <td>0.0174</td>\n",
       "      <td>54.4</td>\n",
       "    </tr>\n",
       "    <tr>\n",
       "      <th>2004</th>\n",
       "      <td>24.5736</td>\n",
       "      <td>7.0953</td>\n",
       "      <td>0.5793</td>\n",
       "      <td>0.0172</td>\n",
       "      <td>53.2</td>\n",
       "    </tr>\n",
       "    <tr>\n",
       "      <th>2005</th>\n",
       "      <td>25.7116</td>\n",
       "      <td>7.4059</td>\n",
       "      <td>0.5534</td>\n",
       "      <td>0.0192</td>\n",
       "      <td>54.8</td>\n",
       "    </tr>\n",
       "    <tr>\n",
       "      <th>2006</th>\n",
       "      <td>24.2292</td>\n",
       "      <td>5.9353</td>\n",
       "      <td>0.4766</td>\n",
       "      <td>0.0194</td>\n",
       "      <td>55.9</td>\n",
       "    </tr>\n",
       "    <tr>\n",
       "      <th>2007</th>\n",
       "      <td>23.2719</td>\n",
       "      <td>5.5669</td>\n",
       "      <td>0.5068</td>\n",
       "      <td>0.0194</td>\n",
       "      <td>58.2</td>\n",
       "    </tr>\n",
       "    <tr>\n",
       "      <th>2008</th>\n",
       "      <td>23.1042</td>\n",
       "      <td>5.2149</td>\n",
       "      <td>0.4954</td>\n",
       "      <td>0.0198</td>\n",
       "      <td>56.2</td>\n",
       "    </tr>\n",
       "    <tr>\n",
       "      <th>2009</th>\n",
       "      <td>21.6850</td>\n",
       "      <td>4.5121</td>\n",
       "      <td>0.4004</td>\n",
       "      <td>0.0194</td>\n",
       "      <td>55.6</td>\n",
       "    </tr>\n",
       "    <tr>\n",
       "      <th>2010</th>\n",
       "      <td>19.7114</td>\n",
       "      <td>3.8569</td>\n",
       "      <td>0.4488</td>\n",
       "      <td>0.0233</td>\n",
       "      <td>54.1</td>\n",
       "    </tr>\n",
       "    <tr>\n",
       "      <th>2011</th>\n",
       "      <td>21.2029</td>\n",
       "      <td>4.1093</td>\n",
       "      <td>0.3861</td>\n",
       "      <td>0.0212</td>\n",
       "      <td>57.5</td>\n",
       "    </tr>\n",
       "    <tr>\n",
       "      <th>2012</th>\n",
       "      <td>18.0948</td>\n",
       "      <td>2.5157</td>\n",
       "      <td>0.3435</td>\n",
       "      <td>0.0246</td>\n",
       "      <td>56.4</td>\n",
       "    </tr>\n",
       "    <tr>\n",
       "      <th>2013</th>\n",
       "      <td>17.9197</td>\n",
       "      <td>1.8068</td>\n",
       "      <td>0.3057</td>\n",
       "      <td>0.0246</td>\n",
       "      <td>58.1</td>\n",
       "    </tr>\n",
       "    <tr>\n",
       "      <th>2014</th>\n",
       "      <td>16.9206</td>\n",
       "      <td>1.4328</td>\n",
       "      <td>0.2749</td>\n",
       "      <td>0.0241</td>\n",
       "      <td>55.5</td>\n",
       "    </tr>\n",
       "    <tr>\n",
       "      <th>2015</th>\n",
       "      <td>17.1660</td>\n",
       "      <td>1.0050</td>\n",
       "      <td>0.2619</td>\n",
       "      <td>0.0238</td>\n",
       "      <td>54.2</td>\n",
       "    </tr>\n",
       "  </tbody>\n",
       "</table>\n",
       "</div>"
      ],
      "text/plain": [
       "          NO2     SO2      CO      O3  Temperature\n",
       "2000  26.7193  7.4800  0.6205  0.0178         54.4\n",
       "2001  28.5194  8.5596  0.6155  0.0180         56.7\n",
       "2002  28.5194  8.5596  0.6155  0.0180         56.7\n",
       "2003  26.7363  8.0057  0.6976  0.0174         54.4\n",
       "2004  24.5736  7.0953  0.5793  0.0172         53.2\n",
       "2005  25.7116  7.4059  0.5534  0.0192         54.8\n",
       "2006  24.2292  5.9353  0.4766  0.0194         55.9\n",
       "2007  23.2719  5.5669  0.5068  0.0194         58.2\n",
       "2008  23.1042  5.2149  0.4954  0.0198         56.2\n",
       "2009  21.6850  4.5121  0.4004  0.0194         55.6\n",
       "2010  19.7114  3.8569  0.4488  0.0233         54.1\n",
       "2011  21.2029  4.1093  0.3861  0.0212         57.5\n",
       "2012  18.0948  2.5157  0.3435  0.0246         56.4\n",
       "2013  17.9197  1.8068  0.3057  0.0246         58.1\n",
       "2014  16.9206  1.4328  0.2749  0.0241         55.5\n",
       "2015  17.1660  1.0050  0.2619  0.0238         54.2"
      ]
     },
     "execution_count": 7,
     "metadata": {},
     "output_type": "execute_result"
    }
   ],
   "source": [
    "data = data.set_index(\"Unnamed: 0\")\n",
    "data.index.name = None\n",
    "data"
   ]
  },
  {
   "cell_type": "code",
   "execution_count": 8,
   "metadata": {},
   "outputs": [
    {
     "data": {
      "text/html": [
       "<div>\n",
       "<style scoped>\n",
       "    .dataframe tbody tr th:only-of-type {\n",
       "        vertical-align: middle;\n",
       "    }\n",
       "\n",
       "    .dataframe tbody tr th {\n",
       "        vertical-align: top;\n",
       "    }\n",
       "\n",
       "    .dataframe thead th {\n",
       "        text-align: right;\n",
       "    }\n",
       "</style>\n",
       "<table border=\"1\" class=\"dataframe\">\n",
       "  <thead>\n",
       "    <tr style=\"text-align: right;\">\n",
       "      <th></th>\n",
       "      <th>NO2</th>\n",
       "      <th>SO2</th>\n",
       "      <th>CO</th>\n",
       "      <th>O3</th>\n",
       "      <th>Temperature</th>\n",
       "    </tr>\n",
       "  </thead>\n",
       "  <tbody>\n",
       "    <tr>\n",
       "      <th>NO2</th>\n",
       "      <td>1.000000</td>\n",
       "      <td>0.989789</td>\n",
       "      <td>0.947319</td>\n",
       "      <td>-0.929440</td>\n",
       "      <td>-0.083280</td>\n",
       "    </tr>\n",
       "    <tr>\n",
       "      <th>SO2</th>\n",
       "      <td>0.989789</td>\n",
       "      <td>1.000000</td>\n",
       "      <td>0.969065</td>\n",
       "      <td>-0.933323</td>\n",
       "      <td>-0.144046</td>\n",
       "    </tr>\n",
       "    <tr>\n",
       "      <th>CO</th>\n",
       "      <td>0.947319</td>\n",
       "      <td>0.969065</td>\n",
       "      <td>1.000000</td>\n",
       "      <td>-0.901708</td>\n",
       "      <td>-0.227478</td>\n",
       "    </tr>\n",
       "    <tr>\n",
       "      <th>O3</th>\n",
       "      <td>-0.929440</td>\n",
       "      <td>-0.933323</td>\n",
       "      <td>-0.901708</td>\n",
       "      <td>1.000000</td>\n",
       "      <td>0.206532</td>\n",
       "    </tr>\n",
       "    <tr>\n",
       "      <th>Temperature</th>\n",
       "      <td>-0.083280</td>\n",
       "      <td>-0.144046</td>\n",
       "      <td>-0.227478</td>\n",
       "      <td>0.206532</td>\n",
       "      <td>1.000000</td>\n",
       "    </tr>\n",
       "  </tbody>\n",
       "</table>\n",
       "</div>"
      ],
      "text/plain": [
       "                  NO2       SO2        CO        O3  Temperature\n",
       "NO2          1.000000  0.989789  0.947319 -0.929440    -0.083280\n",
       "SO2          0.989789  1.000000  0.969065 -0.933323    -0.144046\n",
       "CO           0.947319  0.969065  1.000000 -0.901708    -0.227478\n",
       "O3          -0.929440 -0.933323 -0.901708  1.000000     0.206532\n",
       "Temperature -0.083280 -0.144046 -0.227478  0.206532     1.000000"
      ]
     },
     "execution_count": 8,
     "metadata": {},
     "output_type": "execute_result"
    }
   ],
   "source": [
    "data.corr()"
   ]
  },
  {
   "cell_type": "markdown",
   "metadata": {},
   "source": [
    "<h3>5. Checking relation between data</h3>"
   ]
  },
  {
   "cell_type": "code",
   "execution_count": 9,
   "metadata": {},
   "outputs": [
    {
     "data": {
      "text/plain": [
       "<matplotlib.axes._subplots.AxesSubplot at 0x14577d1dc40>"
      ]
     },
     "execution_count": 9,
     "metadata": {},
     "output_type": "execute_result"
    },
    {
     "data": {
      "image/png": "[encoded data removed]",
      "text/plain": [
       "<Figure size 432x288 with 2 Axes>"
      ]
     },
     "metadata": {
      "needs_background": "light"
     },
     "output_type": "display_data"
    }
   ],
   "source": [
    "sns.heatmap(data.corr())"
   ]
  },
  {
   "cell_type": "code",
   "execution_count": 10,
   "metadata": {
    "scrolled": false
   },
   "outputs": [
    {
     "data": {
      "image/png": "[encoded data removed]",
      "text/plain": [
       "<Figure size 864x576 with 6 Axes>"
      ]
     },
     "metadata": {
      "needs_background": "light"
     },
     "output_type": "display_data"
    }
   ],
   "source": [
    "data[['NO2','SO2','CO','O3', 'Temperature']].hist(figsize=(12, 8))\n",
    "plt.show()"
   ]
  },
  {
   "cell_type": "code",
   "execution_count": 11,
   "metadata": {},
   "outputs": [
    {
     "data": {
      "image/png": "[encoded data removed]",
      "text/plain": [
       "<Figure size 864x1008 with 4 Axes>"
      ]
     },
     "metadata": {
      "needs_background": "light"
     },
     "output_type": "display_data"
    }
   ],
   "source": [
    "fig, axs = plt.subplots(4, figsize=(12,14))\n",
    "\n",
    "axs[0].scatter(data['Temperature'], data['NO2'])\n",
    "axs[0].set_title(\"Relation: Temperature X NO2\")\n",
    "axs[0].set_xlabel(\"Temperature\")\n",
    "axs[0].set_ylabel(\"NO2\")\n",
    "\n",
    "axs[1].scatter(data['Temperature'], data['SO2'])\n",
    "axs[1].set_title(\"Relation: Temperature X SO2\")\n",
    "axs[1].set_xlabel(\"Temperature\")\n",
    "axs[1].set_ylabel(\"SO2\")\n",
    "\n",
    "axs[2].scatter(data['Temperature'], data['CO'])\n",
    "axs[2].set_title(\"Relation: Temperature X CO\")\n",
    "axs[2].set_xlabel(\"Temperature\")\n",
    "axs[2].set_ylabel(\"CO\")\n",
    "\n",
    "axs[3].scatter(data['Temperature'], data['O3'])\n",
    "axs[3].set_title(\"Relation: Temperature X O3\")\n",
    "axs[3].set_xlabel(\"Temperature\")\n",
    "axs[3].set_ylabel(\"O3\")\n",
    "\n",
    "plt.show()"
   ]
  },
  {
   "cell_type": "markdown",
   "metadata": {},
   "source": [
    "<h3>6. Splitting the data</h3>"
   ]
  },
  {
   "cell_type": "code",
   "execution_count": 12,
   "metadata": {},
   "outputs": [
    {
     "data": {
      "text/plain": [
       "array([[2.67193e+01, 6.20500e-01, 7.48000e+00, 1.78000e-02],\n",
       "       [2.85194e+01, 6.15500e-01, 8.55960e+00, 1.80000e-02],\n",
       "       [2.85194e+01, 6.15500e-01, 8.55960e+00, 1.80000e-02],\n",
       "       [2.67363e+01, 6.97600e-01, 8.00570e+00, 1.74000e-02],\n",
       "       [2.45736e+01, 5.79300e-01, 7.09530e+00, 1.72000e-02],\n",
       "       [2.57116e+01, 5.53400e-01, 7.40590e+00, 1.92000e-02],\n",
       "       [2.42292e+01, 4.76600e-01, 5.93530e+00, 1.94000e-02],\n",
       "       [2.32719e+01, 5.06800e-01, 5.56690e+00, 1.94000e-02],\n",
       "       [2.31042e+01, 4.95400e-01, 5.21490e+00, 1.98000e-02],\n",
       "       [2.16850e+01, 4.00400e-01, 4.51210e+00, 1.94000e-02],\n",
       "       [1.97114e+01, 4.48800e-01, 3.85690e+00, 2.33000e-02],\n",
       "       [2.12029e+01, 3.86100e-01, 4.10930e+00, 2.12000e-02],\n",
       "       [1.80948e+01, 3.43500e-01, 2.51570e+00, 2.46000e-02],\n",
       "       [1.79197e+01, 3.05700e-01, 1.80680e+00, 2.46000e-02],\n",
       "       [1.69206e+01, 2.74900e-01, 1.43280e+00, 2.41000e-02],\n",
       "       [1.71660e+01, 2.61900e-01, 1.00500e+00, 2.38000e-02]])"
      ]
     },
     "execution_count": 12,
     "metadata": {},
     "output_type": "execute_result"
    }
   ],
   "source": [
    "X = data[['NO2', 'CO', 'SO2', 'O3']].values\n",
    "X"
   ]
  },
  {
   "cell_type": "code",
   "execution_count": 13,
   "metadata": {},
   "outputs": [
    {
     "data": {
      "text/plain": [
       "array([54.4, 56.7, 56.7, 54.4, 53.2, 54.8, 55.9, 58.2, 56.2, 55.6, 54.1,\n",
       "       57.5, 56.4, 58.1, 55.5, 54.2])"
      ]
     },
     "execution_count": 13,
     "metadata": {},
     "output_type": "execute_result"
    }
   ],
   "source": [
    "y = data['Temperature'].values\n",
    "y"
   ]
  },
  {
   "cell_type": "code",
   "execution_count": 14,
   "metadata": {},
   "outputs": [],
   "source": [
    "# Split the dataset using Scikit learn\n",
    "\n",
    "from sklearn.model_selection import train_test_split\n",
    "\n",
    "X_train, X_test, y_train, y_test= train_test_split(X, y, test_size=.20, random_state=15)"
   ]
  },
  {
   "cell_type": "code",
   "execution_count": 15,
   "metadata": {},
   "outputs": [
    {
     "name": "stdout",
     "output_type": "stream",
     "text": [
      "(12, 4)\n",
      "(4, 4)\n",
      "(12,)\n",
      "(4,)\n"
     ]
    }
   ],
   "source": [
    "print(X_train.shape)\n",
    "print(X_test.shape)\n",
    "print(y_train.shape)\n",
    "print(y_test.shape)"
   ]
  },
  {
   "cell_type": "markdown",
   "metadata": {},
   "source": [
    "<h3>7. Creating the Model</h3>"
   ]
  },
  {
   "cell_type": "code",
   "execution_count": 16,
   "metadata": {},
   "outputs": [
    {
     "data": {
      "text/plain": [
       "LinearRegression(copy_X=True, fit_intercept=True, n_jobs=None, normalize=False)"
      ]
     },
     "execution_count": 16,
     "metadata": {},
     "output_type": "execute_result"
    }
   ],
   "source": [
    "# Building your model using any of the algorithms, using Scikit learn library\n",
    "\n",
    "from sklearn.linear_model import LinearRegression\n",
    "\n",
    "model = LinearRegression()\n",
    "model.fit(X_train, y_train)"
   ]
  },
  {
   "cell_type": "markdown",
   "metadata": {},
   "source": [
    "<h3>8. Making Prediction</h3>"
   ]
  },
  {
   "cell_type": "code",
   "execution_count": 17,
   "metadata": {
    "scrolled": true
   },
   "outputs": [
    {
     "data": {
      "text/plain": [
       "array([55.14900912, 56.27345296, 56.32746541, 56.47298031, 56.0928627 ,\n",
       "       56.48695954, 55.50009777, 55.73698885, 56.22555869, 55.82736179,\n",
       "       56.17286382, 55.73439904])"
      ]
     },
     "execution_count": 17,
     "metadata": {},
     "output_type": "execute_result"
    }
   ],
   "source": [
    "# Predict/Classify the model for test and training data sets\n",
    "\n",
    "y_pred = model.predict(X_train)   \n",
    "y_pred"
   ]
  },
  {
   "cell_type": "code",
   "execution_count": 18,
   "metadata": {},
   "outputs": [
    {
     "data": {
      "text/plain": [
       "array([55.55362117, 56.57820223, 54.60323351, 56.27345296])"
      ]
     },
     "execution_count": 18,
     "metadata": {},
     "output_type": "execute_result"
    }
   ],
   "source": [
    "y_pred_test = model.predict(X_test)   \n",
    "y_pred_test"
   ]
  },
  {
   "cell_type": "code",
   "execution_count": 19,
   "metadata": {
    "scrolled": false
   },
   "outputs": [
    {
     "data": {
      "text/html": [
       "<div>\n",
       "<style scoped>\n",
       "    .dataframe tbody tr th:only-of-type {\n",
       "        vertical-align: middle;\n",
       "    }\n",
       "\n",
       "    .dataframe tbody tr th {\n",
       "        vertical-align: top;\n",
       "    }\n",
       "\n",
       "    .dataframe thead th {\n",
       "        text-align: right;\n",
       "    }\n",
       "</style>\n",
       "<table border=\"1\" class=\"dataframe\">\n",
       "  <thead>\n",
       "    <tr style=\"text-align: right;\">\n",
       "      <th></th>\n",
       "      <th>ACTUAL</th>\n",
       "      <th>PREDICTED</th>\n",
       "    </tr>\n",
       "  </thead>\n",
       "  <tbody>\n",
       "    <tr>\n",
       "      <th>0</th>\n",
       "      <td>54.1</td>\n",
       "      <td>55.1</td>\n",
       "    </tr>\n",
       "    <tr>\n",
       "      <th>1</th>\n",
       "      <td>56.7</td>\n",
       "      <td>56.3</td>\n",
       "    </tr>\n",
       "    <tr>\n",
       "      <th>2</th>\n",
       "      <td>54.2</td>\n",
       "      <td>56.3</td>\n",
       "    </tr>\n",
       "    <tr>\n",
       "      <th>3</th>\n",
       "      <td>55.9</td>\n",
       "      <td>56.5</td>\n",
       "    </tr>\n",
       "    <tr>\n",
       "      <th>4</th>\n",
       "      <td>58.1</td>\n",
       "      <td>56.1</td>\n",
       "    </tr>\n",
       "    <tr>\n",
       "      <th>5</th>\n",
       "      <td>57.5</td>\n",
       "      <td>56.5</td>\n",
       "    </tr>\n",
       "    <tr>\n",
       "      <th>6</th>\n",
       "      <td>54.4</td>\n",
       "      <td>55.5</td>\n",
       "    </tr>\n",
       "    <tr>\n",
       "      <th>7</th>\n",
       "      <td>58.2</td>\n",
       "      <td>55.7</td>\n",
       "    </tr>\n",
       "    <tr>\n",
       "      <th>8</th>\n",
       "      <td>55.5</td>\n",
       "      <td>56.2</td>\n",
       "    </tr>\n",
       "    <tr>\n",
       "      <th>9</th>\n",
       "      <td>56.4</td>\n",
       "      <td>55.8</td>\n",
       "    </tr>\n",
       "    <tr>\n",
       "      <th>10</th>\n",
       "      <td>54.8</td>\n",
       "      <td>56.2</td>\n",
       "    </tr>\n",
       "    <tr>\n",
       "      <th>11</th>\n",
       "      <td>56.2</td>\n",
       "      <td>55.7</td>\n",
       "    </tr>\n",
       "  </tbody>\n",
       "</table>\n",
       "</div>"
      ],
      "text/plain": [
       "    ACTUAL  PREDICTED\n",
       "0     54.1       55.1\n",
       "1     56.7       56.3\n",
       "2     54.2       56.3\n",
       "3     55.9       56.5\n",
       "4     58.1       56.1\n",
       "5     57.5       56.5\n",
       "6     54.4       55.5\n",
       "7     58.2       55.7\n",
       "8     55.5       56.2\n",
       "9     56.4       55.8\n",
       "10    54.8       56.2\n",
       "11    56.2       55.7"
      ]
     },
     "execution_count": 19,
     "metadata": {},
     "output_type": "execute_result"
    }
   ],
   "source": [
    "# Evaluate the model. Compare train and test and evaluate model.\n",
    "\n",
    "data_predicted = pd.DataFrame({'ACTUAL': y_train, 'PREDICTED': np.around(y_pred, decimals=1)})\n",
    "data_predicted"
   ]
  },
  {
   "cell_type": "code",
   "execution_count": 20,
   "metadata": {},
   "outputs": [
    {
     "data": {
      "text/html": [
       "<div>\n",
       "<style scoped>\n",
       "    .dataframe tbody tr th:only-of-type {\n",
       "        vertical-align: middle;\n",
       "    }\n",
       "\n",
       "    .dataframe tbody tr th {\n",
       "        vertical-align: top;\n",
       "    }\n",
       "\n",
       "    .dataframe thead th {\n",
       "        text-align: right;\n",
       "    }\n",
       "</style>\n",
       "<table border=\"1\" class=\"dataframe\">\n",
       "  <thead>\n",
       "    <tr style=\"text-align: right;\">\n",
       "      <th></th>\n",
       "      <th>ACTUAL</th>\n",
       "      <th>PREDICTED</th>\n",
       "    </tr>\n",
       "  </thead>\n",
       "  <tbody>\n",
       "    <tr>\n",
       "      <th>0</th>\n",
       "      <td>53.2</td>\n",
       "      <td>55.6</td>\n",
       "    </tr>\n",
       "    <tr>\n",
       "      <th>1</th>\n",
       "      <td>55.6</td>\n",
       "      <td>56.6</td>\n",
       "    </tr>\n",
       "    <tr>\n",
       "      <th>2</th>\n",
       "      <td>54.4</td>\n",
       "      <td>54.6</td>\n",
       "    </tr>\n",
       "    <tr>\n",
       "      <th>3</th>\n",
       "      <td>56.7</td>\n",
       "      <td>56.3</td>\n",
       "    </tr>\n",
       "  </tbody>\n",
       "</table>\n",
       "</div>"
      ],
      "text/plain": [
       "   ACTUAL  PREDICTED\n",
       "0    53.2       55.6\n",
       "1    55.6       56.6\n",
       "2    54.4       54.6\n",
       "3    56.7       56.3"
      ]
     },
     "execution_count": 20,
     "metadata": {},
     "output_type": "execute_result"
    }
   ],
   "source": [
    "data_predicted_test = pd.DataFrame({'ACTUAL': y_test, 'PREDICTED': np.around(y_pred_test, decimals=1)})\n",
    "data_predicted_test"
   ]
  },
  {
   "cell_type": "markdown",
   "metadata": {},
   "source": [
    "<h3>9. Showing Results</h3>"
   ]
  },
  {
   "cell_type": "code",
   "execution_count": 21,
   "metadata": {},
   "outputs": [
    {
     "data": {
      "text/plain": [
       "0.0805082655354673"
      ]
     },
     "execution_count": 21,
     "metadata": {},
     "output_type": "execute_result"
    }
   ],
   "source": [
    "# Provide comparative results, like Accuracy, Score. \n",
    "\n",
    "model.score(X_train, y_train)"
   ]
  },
  {
   "cell_type": "code",
   "execution_count": 22,
   "metadata": {},
   "outputs": [
    {
     "data": {
      "text/plain": [
       "0.018669814874674232"
      ]
     },
     "execution_count": 22,
     "metadata": {},
     "output_type": "execute_result"
    }
   ],
   "source": [
    "model.score(X_test, y_test)"
   ]
  },
  {
   "cell_type": "code",
   "execution_count": 23,
   "metadata": {},
   "outputs": [],
   "source": [
    "y_train_round = np.around(y_train, 0)\n",
    "y_pred_round = np.around(y_pred, 0)"
   ]
  },
  {
   "cell_type": "code",
   "execution_count": 24,
   "metadata": {},
   "outputs": [
    {
     "data": {
      "text/plain": [
       "0.3333333333333333"
      ]
     },
     "execution_count": 24,
     "metadata": {},
     "output_type": "execute_result"
    }
   ],
   "source": [
    "from sklearn.metrics import accuracy_score\n",
    "\n",
    "accuracy_score(y_train_round, y_pred_round)"
   ]
  },
  {
   "cell_type": "code",
   "execution_count": 25,
   "metadata": {},
   "outputs": [
    {
     "data": {
      "text/plain": [
       "array([-3.88781589, -4.39591456, -0.83899436, -2.11775185, -6.41617239])"
      ]
     },
     "execution_count": 25,
     "metadata": {},
     "output_type": "execute_result"
    }
   ],
   "source": [
    "from sklearn.model_selection import cross_val_score\n",
    "\n",
    "scores_train = cross_val_score(model, X_train, y_train)\n",
    "scores_train"
   ]
  },
  {
   "cell_type": "code",
   "execution_count": 26,
   "metadata": {},
   "outputs": [
    {
     "data": {
      "text/plain": [
       "[('NO2', 0.1971138871507962),\n",
       " ('CO', -14.108180612755596),\n",
       " ('SO2', 0.32906428523187436),\n",
       " ('O3', -36.341096764074734)]"
      ]
     },
     "execution_count": 26,
     "metadata": {},
     "output_type": "execute_result"
    }
   ],
   "source": [
    "list(zip(['NO2', 'CO', 'SO2', 'O3'], model.coef_))"
   ]
  },
  {
   "cell_type": "code",
   "execution_count": 27,
   "metadata": {},
   "outputs": [
    {
     "data": {
      "text/plain": [
       "57.17294942096041"
      ]
     },
     "execution_count": 27,
     "metadata": {},
     "output_type": "execute_result"
    }
   ],
   "source": [
    "model.intercept_"
   ]
  },
  {
   "cell_type": "code",
   "execution_count": 28,
   "metadata": {},
   "outputs": [
    {
     "data": {
      "text/plain": [
       "0.0805082655354673"
      ]
     },
     "execution_count": 28,
     "metadata": {},
     "output_type": "execute_result"
    }
   ],
   "source": [
    "# Use the Scikit Learn to call functions r2_score, Mean Squared Error for train and testdata set.\n",
    "\n",
    "from sklearn.metrics import r2_score\n",
    "\n",
    "r2_score(y_train, y_pred)"
   ]
  },
  {
   "cell_type": "code",
   "execution_count": 29,
   "metadata": {},
   "outputs": [
    {
     "data": {
      "text/plain": [
       "1.7853464510853028"
      ]
     },
     "execution_count": 29,
     "metadata": {},
     "output_type": "execute_result"
    }
   ],
   "source": [
    "from sklearn.metrics import mean_squared_error\n",
    "\n",
    "mean_squared_error(y_pred, y_train)"
   ]
  },
  {
   "cell_type": "code",
   "execution_count": 30,
   "metadata": {},
   "outputs": [
    {
     "data": {
      "text/plain": [
       "array([[0, 1, 2, 0, 0],\n",
       "       [0, 0, 1, 0, 0],\n",
       "       [0, 0, 4, 0, 0],\n",
       "       [0, 0, 1, 0, 0],\n",
       "       [0, 0, 3, 0, 0]], dtype=int64)"
      ]
     },
     "execution_count": 30,
     "metadata": {},
     "output_type": "execute_result"
    }
   ],
   "source": [
    "# Design and explain your Confusion matrix. Also infer if your model is overfitting or underfitting.\n",
    "\n",
    "from sklearn.metrics import confusion_matrix\n",
    "\n",
    "confusion_matrix(y_train_round, y_pred_round)"
   ]
  },
  {
   "cell_type": "code",
   "execution_count": 31,
   "metadata": {},
   "outputs": [
    {
     "name": "stdout",
     "output_type": "stream",
     "text": [
      "              precision    recall  f1-score   support\n",
      "\n",
      "        54.0       0.00      0.00      0.00         3\n",
      "        55.0       0.00      0.00      0.00         1\n",
      "        56.0       0.36      1.00      0.53         4\n",
      "        57.0       0.00      0.00      0.00         1\n",
      "        58.0       0.00      0.00      0.00         3\n",
      "\n",
      "    accuracy                           0.33        12\n",
      "   macro avg       0.07      0.20      0.11        12\n",
      "weighted avg       0.12      0.33      0.18        12\n",
      "\n"
     ]
    },
    {
     "name": "stderr",
     "output_type": "stream",
     "text": [
      "C:\\Users\\rmart\\AppData\\Local\\Programs\\Python\\Python38\\lib\\site-packages\\sklearn\\metrics\\_classification.py:1272: UndefinedMetricWarning: Precision and F-score are ill-defined and being set to 0.0 in labels with no predicted samples. Use `zero_division` parameter to control this behavior.\n",
      "  _warn_prf(average, modifier, msg_start, len(result))\n"
     ]
    }
   ],
   "source": [
    "from sklearn.metrics import classification_report\n",
    "\n",
    "print(classification_report(y_train_round, y_pred_round))"
   ]
  },
  {
   "cell_type": "code",
   "execution_count": null,
   "metadata": {},
   "outputs": [],
   "source": []
  }
 ],
 "metadata": {
  "kernelspec": {
   "display_name": "Python 3.8.1 64-bit",
   "language": "python",
   "name": "python38164bita1828b5594684926a6374e23c22bc525"
  },
  "language_info": {
   "codemirror_mode": {
    "name": "ipython",
    "version": 3
   },
   "file_extension": ".py",
   "mimetype": "text/x-python",
   "name": "python",
   "nbconvert_exporter": "python",
   "pygments_lexer": "ipython3",
   "version": "3.8.1"
  }
 },
 "nbformat": 4,
 "nbformat_minor": 4
}
